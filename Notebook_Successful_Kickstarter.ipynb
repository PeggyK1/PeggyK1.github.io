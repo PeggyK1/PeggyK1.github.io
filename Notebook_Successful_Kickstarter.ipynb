{
  "nbformat": 4,
  "nbformat_minor": 0,
  "metadata": {
    "colab": {
      "name": "Notebook_Successful_Kickstarter.ipynb",
      "provenance": [],
      "collapsed_sections": [
        "oPW158OdPdWl",
        "GESXJY23PtA6",
        "VEq_KqGKQDRX",
        "ltwQbAcfQJsu",
        "OmkGFW7Ol15I",
        "z-JFut65SUDe",
        "w1ORMmsIVbXj",
        "YYi5aopd9KLq",
        "JaAElAQOXlcO",
        "XKMhIiTB63HZ",
        "6pPLAuroXmBS",
        "PAi0fkSSfbmy"
      ],
      "toc_visible": true,
      "authorship_tag": "ABX9TyPKFeq/aDB+63yLYBRk37Kp",
      "include_colab_link": true
    },
    "kernelspec": {
      "name": "python3",
      "display_name": "Python 3"
    }
  },
  "cells": [
    {
      "cell_type": "markdown",
      "metadata": {
        "id": "view-in-github",
        "colab_type": "text"
      },
      "source": [
        "<a href=\"https://colab.research.google.com/github/PeggyK1/PeggyK1.github.io/blob/master/Notebook_Successful_Kickstarter.ipynb\" target=\"_parent\"><img src=\"https://colab.research.google.com/assets/colab-badge.svg\" alt=\"Open In Colab\"/></a>"
      ]
    },
    {
      "cell_type": "markdown",
      "metadata": {
        "id": "Sg1m8_A2PTZ-",
        "colab_type": "text"
      },
      "source": [
        "### Importing Libraries and Loading Main Dataset"
      ]
    },
    {
      "cell_type": "code",
      "metadata": {
        "id": "GdZ3X_r6w5-y",
        "colab_type": "code",
        "colab": {}
      },
      "source": [
        "#Have to download dataset from https://www.kaggle.com/kemical/kickstarter-projects (2018 Version)\n",
        "#Upload from local drive"
      ],
      "execution_count": null,
      "outputs": []
    },
    {
      "cell_type": "code",
      "metadata": {
        "id": "jnt40LnJfvgw",
        "colab_type": "code",
        "colab": {}
      },
      "source": [
        "import numpy as np\n",
        "import pandas as pd\n",
        "import matplotlib.pyplot as plt"
      ],
      "execution_count": 73,
      "outputs": []
    },
    {
      "cell_type": "code",
      "metadata": {
        "id": "15t6d7j9gAFG",
        "colab_type": "code",
        "colab": {
          "base_uri": "https://localhost:8080/",
          "height": 51
        },
        "outputId": "8cc6fda5-9a45-44f3-8faf-cb62d4834017"
      },
      "source": [
        "!unzip '/content/kickstarter2018.zip'"
      ],
      "execution_count": 75,
      "outputs": [
        {
          "output_type": "stream",
          "text": [
            "Archive:  /content/kickstarter2018.zip\n",
            "  inflating: ks-projects-201801.csv  \n"
          ],
          "name": "stdout"
        }
      ]
    },
    {
      "cell_type": "code",
      "metadata": {
        "id": "1wwhs9YOgDhd",
        "colab_type": "code",
        "colab": {}
      },
      "source": [
        "ks = pd.read_csv('/content/ks-projects-2018.csv')"
      ],
      "execution_count": 76,
      "outputs": []
    },
    {
      "cell_type": "code",
      "metadata": {
        "id": "akex0Zk0gGmN",
        "colab_type": "code",
        "colab": {
          "base_uri": "https://localhost:8080/",
          "height": 323
        },
        "outputId": "71b2ca1b-fbfc-413d-802f-2b9b68fe1ab1"
      },
      "source": [
        "print(ks.shape)\n",
        "ks.head()"
      ],
      "execution_count": 77,
      "outputs": [
        {
          "output_type": "stream",
          "text": [
            "(378661, 15)\n"
          ],
          "name": "stdout"
        },
        {
          "output_type": "execute_result",
          "data": {
            "text/html": [
              "<div>\n",
              "<style scoped>\n",
              "    .dataframe tbody tr th:only-of-type {\n",
              "        vertical-align: middle;\n",
              "    }\n",
              "\n",
              "    .dataframe tbody tr th {\n",
              "        vertical-align: top;\n",
              "    }\n",
              "\n",
              "    .dataframe thead th {\n",
              "        text-align: right;\n",
              "    }\n",
              "</style>\n",
              "<table border=\"1\" class=\"dataframe\">\n",
              "  <thead>\n",
              "    <tr style=\"text-align: right;\">\n",
              "      <th></th>\n",
              "      <th>ID</th>\n",
              "      <th>name</th>\n",
              "      <th>category</th>\n",
              "      <th>main_category</th>\n",
              "      <th>currency</th>\n",
              "      <th>deadline</th>\n",
              "      <th>goal</th>\n",
              "      <th>launched</th>\n",
              "      <th>pledged</th>\n",
              "      <th>state</th>\n",
              "      <th>backers</th>\n",
              "      <th>country</th>\n",
              "      <th>usd pledged</th>\n",
              "      <th>usd_pledged_real</th>\n",
              "      <th>usd_goal_real</th>\n",
              "    </tr>\n",
              "  </thead>\n",
              "  <tbody>\n",
              "    <tr>\n",
              "      <th>0</th>\n",
              "      <td>1000002330</td>\n",
              "      <td>The Songs of Adelaide &amp; Abullah</td>\n",
              "      <td>Poetry</td>\n",
              "      <td>Publishing</td>\n",
              "      <td>GBP</td>\n",
              "      <td>2015-10-09</td>\n",
              "      <td>1000.0</td>\n",
              "      <td>2015-08-11 12:12:28</td>\n",
              "      <td>0.0</td>\n",
              "      <td>failed</td>\n",
              "      <td>0</td>\n",
              "      <td>GB</td>\n",
              "      <td>0.0</td>\n",
              "      <td>0.0</td>\n",
              "      <td>1533.95</td>\n",
              "    </tr>\n",
              "    <tr>\n",
              "      <th>1</th>\n",
              "      <td>1000003930</td>\n",
              "      <td>Greeting From Earth: ZGAC Arts Capsule For ET</td>\n",
              "      <td>Narrative Film</td>\n",
              "      <td>Film &amp; Video</td>\n",
              "      <td>USD</td>\n",
              "      <td>2017-11-01</td>\n",
              "      <td>30000.0</td>\n",
              "      <td>2017-09-02 04:43:57</td>\n",
              "      <td>2421.0</td>\n",
              "      <td>failed</td>\n",
              "      <td>15</td>\n",
              "      <td>US</td>\n",
              "      <td>100.0</td>\n",
              "      <td>2421.0</td>\n",
              "      <td>30000.00</td>\n",
              "    </tr>\n",
              "    <tr>\n",
              "      <th>2</th>\n",
              "      <td>1000004038</td>\n",
              "      <td>Where is Hank?</td>\n",
              "      <td>Narrative Film</td>\n",
              "      <td>Film &amp; Video</td>\n",
              "      <td>USD</td>\n",
              "      <td>2013-02-26</td>\n",
              "      <td>45000.0</td>\n",
              "      <td>2013-01-12 00:20:50</td>\n",
              "      <td>220.0</td>\n",
              "      <td>failed</td>\n",
              "      <td>3</td>\n",
              "      <td>US</td>\n",
              "      <td>220.0</td>\n",
              "      <td>220.0</td>\n",
              "      <td>45000.00</td>\n",
              "    </tr>\n",
              "    <tr>\n",
              "      <th>3</th>\n",
              "      <td>1000007540</td>\n",
              "      <td>ToshiCapital Rekordz Needs Help to Complete Album</td>\n",
              "      <td>Music</td>\n",
              "      <td>Music</td>\n",
              "      <td>USD</td>\n",
              "      <td>2012-04-16</td>\n",
              "      <td>5000.0</td>\n",
              "      <td>2012-03-17 03:24:11</td>\n",
              "      <td>1.0</td>\n",
              "      <td>failed</td>\n",
              "      <td>1</td>\n",
              "      <td>US</td>\n",
              "      <td>1.0</td>\n",
              "      <td>1.0</td>\n",
              "      <td>5000.00</td>\n",
              "    </tr>\n",
              "    <tr>\n",
              "      <th>4</th>\n",
              "      <td>1000011046</td>\n",
              "      <td>Community Film Project: The Art of Neighborhoo...</td>\n",
              "      <td>Film &amp; Video</td>\n",
              "      <td>Film &amp; Video</td>\n",
              "      <td>USD</td>\n",
              "      <td>2015-08-29</td>\n",
              "      <td>19500.0</td>\n",
              "      <td>2015-07-04 08:35:03</td>\n",
              "      <td>1283.0</td>\n",
              "      <td>canceled</td>\n",
              "      <td>14</td>\n",
              "      <td>US</td>\n",
              "      <td>1283.0</td>\n",
              "      <td>1283.0</td>\n",
              "      <td>19500.00</td>\n",
              "    </tr>\n",
              "  </tbody>\n",
              "</table>\n",
              "</div>"
            ],
            "text/plain": [
              "           ID  ... usd_goal_real\n",
              "0  1000002330  ...       1533.95\n",
              "1  1000003930  ...      30000.00\n",
              "2  1000004038  ...      45000.00\n",
              "3  1000007540  ...       5000.00\n",
              "4  1000011046  ...      19500.00\n",
              "\n",
              "[5 rows x 15 columns]"
            ]
          },
          "metadata": {
            "tags": []
          },
          "execution_count": 77
        }
      ]
    },
    {
      "cell_type": "code",
      "metadata": {
        "id": "vTny3GwSgMTt",
        "colab_type": "code",
        "colab": {}
      },
      "source": [
        "#Replacing country codes with names\n",
        "ks['country'] = ks['country'].replace({'US':'United States', 'GB':'United Kingdom', 'CA':'Canada', 'AU':'Australia', 'DE':'Germany', 'FR':'France', 'IT':'Italy', 'NL':'Netherlands',\n",
        "                                      'ES':'Spain', 'SE':'Sweden', 'MX':'Mexico', 'NZ':'New Zealand', 'DK':'Denmark', 'IE':'Ireland', 'CH':'Switzerland',\n",
        "                                      'NO':'Norway', 'HK':'Hong Kong', 'BE':'Belgium', 'AT':'Austria', 'SG':'Singapore', 'LU':'Luxembourg', 'JP':'Japan', 'N,0\"':'Unknown'})"
      ],
      "execution_count": 78,
      "outputs": []
    },
    {
      "cell_type": "code",
      "metadata": {
        "id": "gRZ2n6_fulu6",
        "colab_type": "code",
        "colab": {
          "base_uri": "https://localhost:8080/",
          "height": 289
        },
        "outputId": "a930a6f2-ac0f-4390-cc14-a1b1c05b3e77"
      },
      "source": [
        "#Checking for NaN\n",
        "ks.isnull().sum()"
      ],
      "execution_count": 79,
      "outputs": [
        {
          "output_type": "execute_result",
          "data": {
            "text/plain": [
              "ID                     0\n",
              "name                   4\n",
              "category               0\n",
              "main_category          0\n",
              "currency               0\n",
              "deadline               0\n",
              "goal                   0\n",
              "launched               0\n",
              "pledged                0\n",
              "state                  0\n",
              "backers                0\n",
              "country                0\n",
              "usd pledged         3797\n",
              "usd_pledged_real       0\n",
              "usd_goal_real          0\n",
              "dtype: int64"
            ]
          },
          "metadata": {
            "tags": []
          },
          "execution_count": 79
        }
      ]
    },
    {
      "cell_type": "code",
      "metadata": {
        "id": "21qZW9RJushf",
        "colab_type": "code",
        "colab": {}
      },
      "source": [
        "#Not using this column for this project\n",
        "ks = ks.drop(['usd pledged'], axis=1)"
      ],
      "execution_count": 80,
      "outputs": []
    },
    {
      "cell_type": "markdown",
      "metadata": {
        "id": "oPW158OdPdWl",
        "colab_type": "text"
      },
      "source": [
        "## `Successful Dataset Branch`"
      ]
    },
    {
      "cell_type": "code",
      "metadata": {
        "id": "3qCuDJhdge5F",
        "colab_type": "code",
        "colab": {
          "base_uri": "https://localhost:8080/",
          "height": 306
        },
        "outputId": "3dc8af59-e896-42ee-e33b-f676d7e57b76"
      },
      "source": [
        "#Data of successful kickstarters\n",
        "ks_s = ks['state']=='successful'\n",
        "successful = ks[ks_s]\n",
        "print(successful.shape)\n",
        "successful.head()"
      ],
      "execution_count": 81,
      "outputs": [
        {
          "output_type": "stream",
          "text": [
            "(133956, 14)\n"
          ],
          "name": "stdout"
        },
        {
          "output_type": "execute_result",
          "data": {
            "text/html": [
              "<div>\n",
              "<style scoped>\n",
              "    .dataframe tbody tr th:only-of-type {\n",
              "        vertical-align: middle;\n",
              "    }\n",
              "\n",
              "    .dataframe tbody tr th {\n",
              "        vertical-align: top;\n",
              "    }\n",
              "\n",
              "    .dataframe thead th {\n",
              "        text-align: right;\n",
              "    }\n",
              "</style>\n",
              "<table border=\"1\" class=\"dataframe\">\n",
              "  <thead>\n",
              "    <tr style=\"text-align: right;\">\n",
              "      <th></th>\n",
              "      <th>ID</th>\n",
              "      <th>name</th>\n",
              "      <th>category</th>\n",
              "      <th>main_category</th>\n",
              "      <th>currency</th>\n",
              "      <th>deadline</th>\n",
              "      <th>goal</th>\n",
              "      <th>launched</th>\n",
              "      <th>pledged</th>\n",
              "      <th>state</th>\n",
              "      <th>backers</th>\n",
              "      <th>country</th>\n",
              "      <th>usd_pledged_real</th>\n",
              "      <th>usd_goal_real</th>\n",
              "    </tr>\n",
              "  </thead>\n",
              "  <tbody>\n",
              "    <tr>\n",
              "      <th>5</th>\n",
              "      <td>1000014025</td>\n",
              "      <td>Monarch Espresso Bar</td>\n",
              "      <td>Restaurants</td>\n",
              "      <td>Food</td>\n",
              "      <td>USD</td>\n",
              "      <td>2016-04-01</td>\n",
              "      <td>50000.0</td>\n",
              "      <td>2016-02-26 13:38:27</td>\n",
              "      <td>52375.0</td>\n",
              "      <td>successful</td>\n",
              "      <td>224</td>\n",
              "      <td>United States</td>\n",
              "      <td>52375.00</td>\n",
              "      <td>50000.00</td>\n",
              "    </tr>\n",
              "    <tr>\n",
              "      <th>6</th>\n",
              "      <td>1000023410</td>\n",
              "      <td>Support Solar Roasted Coffee &amp; Green Energy!  ...</td>\n",
              "      <td>Food</td>\n",
              "      <td>Food</td>\n",
              "      <td>USD</td>\n",
              "      <td>2014-12-21</td>\n",
              "      <td>1000.0</td>\n",
              "      <td>2014-12-01 18:30:44</td>\n",
              "      <td>1205.0</td>\n",
              "      <td>successful</td>\n",
              "      <td>16</td>\n",
              "      <td>United States</td>\n",
              "      <td>1205.00</td>\n",
              "      <td>1000.00</td>\n",
              "    </tr>\n",
              "    <tr>\n",
              "      <th>11</th>\n",
              "      <td>100005484</td>\n",
              "      <td>Lisa Lim New CD!</td>\n",
              "      <td>Indie Rock</td>\n",
              "      <td>Music</td>\n",
              "      <td>USD</td>\n",
              "      <td>2013-04-08</td>\n",
              "      <td>12500.0</td>\n",
              "      <td>2013-03-09 06:42:58</td>\n",
              "      <td>12700.0</td>\n",
              "      <td>successful</td>\n",
              "      <td>100</td>\n",
              "      <td>United States</td>\n",
              "      <td>12700.00</td>\n",
              "      <td>12500.00</td>\n",
              "    </tr>\n",
              "    <tr>\n",
              "      <th>14</th>\n",
              "      <td>1000057089</td>\n",
              "      <td>Tombstone: Old West tabletop game and miniatur...</td>\n",
              "      <td>Tabletop Games</td>\n",
              "      <td>Games</td>\n",
              "      <td>GBP</td>\n",
              "      <td>2017-05-03</td>\n",
              "      <td>5000.0</td>\n",
              "      <td>2017-04-05 19:44:18</td>\n",
              "      <td>94175.0</td>\n",
              "      <td>successful</td>\n",
              "      <td>761</td>\n",
              "      <td>United Kingdom</td>\n",
              "      <td>121857.33</td>\n",
              "      <td>6469.73</td>\n",
              "    </tr>\n",
              "    <tr>\n",
              "      <th>18</th>\n",
              "      <td>1000070642</td>\n",
              "      <td>Mike Corey's Darkness &amp; Light Album</td>\n",
              "      <td>Music</td>\n",
              "      <td>Music</td>\n",
              "      <td>USD</td>\n",
              "      <td>2012-08-17</td>\n",
              "      <td>250.0</td>\n",
              "      <td>2012-08-02 14:11:32</td>\n",
              "      <td>250.0</td>\n",
              "      <td>successful</td>\n",
              "      <td>7</td>\n",
              "      <td>United States</td>\n",
              "      <td>250.00</td>\n",
              "      <td>250.00</td>\n",
              "    </tr>\n",
              "  </tbody>\n",
              "</table>\n",
              "</div>"
            ],
            "text/plain": [
              "            ID  ... usd_goal_real\n",
              "5   1000014025  ...      50000.00\n",
              "6   1000023410  ...       1000.00\n",
              "11   100005484  ...      12500.00\n",
              "14  1000057089  ...       6469.73\n",
              "18  1000070642  ...        250.00\n",
              "\n",
              "[5 rows x 14 columns]"
            ]
          },
          "metadata": {
            "tags": []
          },
          "execution_count": 81
        }
      ]
    },
    {
      "cell_type": "markdown",
      "metadata": {
        "id": "GESXJY23PtA6",
        "colab_type": "text"
      },
      "source": [
        "## `Failed Dataset Branch`"
      ]
    },
    {
      "cell_type": "code",
      "metadata": {
        "id": "CiGhClpIgkcV",
        "colab_type": "code",
        "colab": {
          "base_uri": "https://localhost:8080/",
          "height": 323
        },
        "outputId": "31e2c7f4-0b89-405f-f616-3394bc0fcf4b"
      },
      "source": [
        "#Creating Fail Dataset for Product Design\n",
        "ks_f = ks['state']=='failed'\n",
        "failed = ks[ks_f]\n",
        "print(failed.shape)\n",
        "failed.head()"
      ],
      "execution_count": 37,
      "outputs": [
        {
          "output_type": "stream",
          "text": [
            "(197719, 15)\n"
          ],
          "name": "stdout"
        },
        {
          "output_type": "execute_result",
          "data": {
            "text/html": [
              "<div>\n",
              "<style scoped>\n",
              "    .dataframe tbody tr th:only-of-type {\n",
              "        vertical-align: middle;\n",
              "    }\n",
              "\n",
              "    .dataframe tbody tr th {\n",
              "        vertical-align: top;\n",
              "    }\n",
              "\n",
              "    .dataframe thead th {\n",
              "        text-align: right;\n",
              "    }\n",
              "</style>\n",
              "<table border=\"1\" class=\"dataframe\">\n",
              "  <thead>\n",
              "    <tr style=\"text-align: right;\">\n",
              "      <th></th>\n",
              "      <th>ID</th>\n",
              "      <th>name</th>\n",
              "      <th>category</th>\n",
              "      <th>main_category</th>\n",
              "      <th>currency</th>\n",
              "      <th>deadline</th>\n",
              "      <th>goal</th>\n",
              "      <th>launched</th>\n",
              "      <th>pledged</th>\n",
              "      <th>state</th>\n",
              "      <th>backers</th>\n",
              "      <th>country</th>\n",
              "      <th>usd pledged</th>\n",
              "      <th>usd_pledged_real</th>\n",
              "      <th>usd_goal_real</th>\n",
              "    </tr>\n",
              "  </thead>\n",
              "  <tbody>\n",
              "    <tr>\n",
              "      <th>0</th>\n",
              "      <td>1000002330</td>\n",
              "      <td>The Songs of Adelaide &amp; Abullah</td>\n",
              "      <td>Poetry</td>\n",
              "      <td>Publishing</td>\n",
              "      <td>GBP</td>\n",
              "      <td>2015-10-09</td>\n",
              "      <td>1000.0</td>\n",
              "      <td>2015-08-11 12:12:28</td>\n",
              "      <td>0.0</td>\n",
              "      <td>failed</td>\n",
              "      <td>0</td>\n",
              "      <td>United Kingdom</td>\n",
              "      <td>0.0</td>\n",
              "      <td>0.0</td>\n",
              "      <td>1533.95</td>\n",
              "    </tr>\n",
              "    <tr>\n",
              "      <th>1</th>\n",
              "      <td>1000003930</td>\n",
              "      <td>Greeting From Earth: ZGAC Arts Capsule For ET</td>\n",
              "      <td>Narrative Film</td>\n",
              "      <td>Film &amp; Video</td>\n",
              "      <td>USD</td>\n",
              "      <td>2017-11-01</td>\n",
              "      <td>30000.0</td>\n",
              "      <td>2017-09-02 04:43:57</td>\n",
              "      <td>2421.0</td>\n",
              "      <td>failed</td>\n",
              "      <td>15</td>\n",
              "      <td>United States</td>\n",
              "      <td>100.0</td>\n",
              "      <td>2421.0</td>\n",
              "      <td>30000.00</td>\n",
              "    </tr>\n",
              "    <tr>\n",
              "      <th>2</th>\n",
              "      <td>1000004038</td>\n",
              "      <td>Where is Hank?</td>\n",
              "      <td>Narrative Film</td>\n",
              "      <td>Film &amp; Video</td>\n",
              "      <td>USD</td>\n",
              "      <td>2013-02-26</td>\n",
              "      <td>45000.0</td>\n",
              "      <td>2013-01-12 00:20:50</td>\n",
              "      <td>220.0</td>\n",
              "      <td>failed</td>\n",
              "      <td>3</td>\n",
              "      <td>United States</td>\n",
              "      <td>220.0</td>\n",
              "      <td>220.0</td>\n",
              "      <td>45000.00</td>\n",
              "    </tr>\n",
              "    <tr>\n",
              "      <th>3</th>\n",
              "      <td>1000007540</td>\n",
              "      <td>ToshiCapital Rekordz Needs Help to Complete Album</td>\n",
              "      <td>Music</td>\n",
              "      <td>Music</td>\n",
              "      <td>USD</td>\n",
              "      <td>2012-04-16</td>\n",
              "      <td>5000.0</td>\n",
              "      <td>2012-03-17 03:24:11</td>\n",
              "      <td>1.0</td>\n",
              "      <td>failed</td>\n",
              "      <td>1</td>\n",
              "      <td>United States</td>\n",
              "      <td>1.0</td>\n",
              "      <td>1.0</td>\n",
              "      <td>5000.00</td>\n",
              "    </tr>\n",
              "    <tr>\n",
              "      <th>7</th>\n",
              "      <td>1000030581</td>\n",
              "      <td>Chaser Strips. Our Strips make Shots their B*tch!</td>\n",
              "      <td>Drinks</td>\n",
              "      <td>Food</td>\n",
              "      <td>USD</td>\n",
              "      <td>2016-03-17</td>\n",
              "      <td>25000.0</td>\n",
              "      <td>2016-02-01 20:05:12</td>\n",
              "      <td>453.0</td>\n",
              "      <td>failed</td>\n",
              "      <td>40</td>\n",
              "      <td>United States</td>\n",
              "      <td>453.0</td>\n",
              "      <td>453.0</td>\n",
              "      <td>25000.00</td>\n",
              "    </tr>\n",
              "  </tbody>\n",
              "</table>\n",
              "</div>"
            ],
            "text/plain": [
              "           ID  ... usd_goal_real\n",
              "0  1000002330  ...       1533.95\n",
              "1  1000003930  ...      30000.00\n",
              "2  1000004038  ...      45000.00\n",
              "3  1000007540  ...       5000.00\n",
              "7  1000030581  ...      25000.00\n",
              "\n",
              "[5 rows x 15 columns]"
            ]
          },
          "metadata": {
            "tags": []
          },
          "execution_count": 37
        }
      ]
    },
    {
      "cell_type": "markdown",
      "metadata": {
        "id": "VEq_KqGKQDRX",
        "colab_type": "text"
      },
      "source": [
        "## `Stats`"
      ]
    },
    {
      "cell_type": "code",
      "metadata": {
        "id": "oO0I9Tbigxh1",
        "colab_type": "code",
        "colab": {
          "base_uri": "https://localhost:8080/",
          "height": 34
        },
        "outputId": "21a88894-55f6-4179-8106-e96fa1bb9de5"
      },
      "source": [
        "#Average Pledge Goal for Successful Campaigns\n",
        "successful['usd_goal_real'].mean()"
      ],
      "execution_count": 82,
      "outputs": [
        {
          "output_type": "execute_result",
          "data": {
            "text/plain": [
              "9532.85335722179"
            ]
          },
          "metadata": {
            "tags": []
          },
          "execution_count": 82
        }
      ]
    },
    {
      "cell_type": "code",
      "metadata": {
        "id": "ybYDuUUrgyHt",
        "colab_type": "code",
        "colab": {
          "base_uri": "https://localhost:8080/",
          "height": 34
        },
        "outputId": "69c2056a-fc4e-4a28-ebc1-79d6a1de60cc"
      },
      "source": [
        "#Max Pledge Goal for Successful Campaigns\n",
        "successful['usd_goal_real'].max()"
      ],
      "execution_count": 83,
      "outputs": [
        {
          "output_type": "execute_result",
          "data": {
            "text/plain": [
              "2015608.88"
            ]
          },
          "metadata": {
            "tags": []
          },
          "execution_count": 83
        }
      ]
    },
    {
      "cell_type": "code",
      "metadata": {
        "id": "JMoW4wXSgzzW",
        "colab_type": "code",
        "colab": {
          "base_uri": "https://localhost:8080/",
          "height": 34
        },
        "outputId": "7a8f9f1c-5b76-417a-d29f-73b9e1bc261d"
      },
      "source": [
        "#Minimum Pledge Goal for Successful Campaigns\n",
        "successful['usd_goal_real'].min()"
      ],
      "execution_count": 84,
      "outputs": [
        {
          "output_type": "execute_result",
          "data": {
            "text/plain": [
              "0.01"
            ]
          },
          "metadata": {
            "tags": []
          },
          "execution_count": 84
        }
      ]
    },
    {
      "cell_type": "code",
      "metadata": {
        "id": "TkbgeH4Hg1i2",
        "colab_type": "code",
        "colab": {
          "base_uri": "https://localhost:8080/",
          "height": 34
        },
        "outputId": "44d809be-17cf-400a-bbde-789f448ad0d5"
      },
      "source": [
        "#Average Pledge Goal for Failed Campaigns\n",
        "failed['usd_goal_real'].mean()"
      ],
      "execution_count": 85,
      "outputs": [
        {
          "output_type": "execute_result",
          "data": {
            "text/plain": [
              "63174.742222042456"
            ]
          },
          "metadata": {
            "tags": []
          },
          "execution_count": 85
        }
      ]
    },
    {
      "cell_type": "code",
      "metadata": {
        "id": "EUE7wl8Jg3Wl",
        "colab_type": "code",
        "colab": {
          "base_uri": "https://localhost:8080/",
          "height": 34
        },
        "outputId": "1d49660e-a62a-465f-fc97-9cfc4639ed7a"
      },
      "source": [
        "#Max Pledge Goal for Failed Campaigns\n",
        "failed['usd_goal_real'].max()"
      ],
      "execution_count": 86,
      "outputs": [
        {
          "output_type": "execute_result",
          "data": {
            "text/plain": [
              "166361390.71"
            ]
          },
          "metadata": {
            "tags": []
          },
          "execution_count": 86
        }
      ]
    },
    {
      "cell_type": "code",
      "metadata": {
        "id": "LNlDjFZyg56F",
        "colab_type": "code",
        "colab": {
          "base_uri": "https://localhost:8080/",
          "height": 34
        },
        "outputId": "34aca067-b564-422f-c053-b50b7e1162b2"
      },
      "source": [
        "#Minimum Pledge Goal for Failed Campaigns\n",
        "failed['usd_goal_real'].min()"
      ],
      "execution_count": 87,
      "outputs": [
        {
          "output_type": "execute_result",
          "data": {
            "text/plain": [
              "0.15"
            ]
          },
          "metadata": {
            "tags": []
          },
          "execution_count": 87
        }
      ]
    },
    {
      "cell_type": "markdown",
      "metadata": {
        "id": "ltwQbAcfQJsu",
        "colab_type": "text"
      },
      "source": [
        "## Categorical Conditioning"
      ]
    },
    {
      "cell_type": "code",
      "metadata": {
        "id": "tGZSLMqxhJek",
        "colab_type": "code",
        "colab": {}
      },
      "source": [
        "#Conditions\n",
        "pos = ks['state']=='successful'"
      ],
      "execution_count": 88,
      "outputs": []
    },
    {
      "cell_type": "code",
      "metadata": {
        "id": "1dQ7_d3hpj5r",
        "colab_type": "code",
        "colab": {}
      },
      "source": [
        "#Main Category Conditions\n",
        "FV = ks['main_category']=='Film & Video'\n",
        "M = ks['main_category']=='Music'\n",
        "P = ks['main_category']=='Publishing'\n",
        "G = ks['main_category']=='Games'\n",
        "T = ks['main_category']=='Technology'\n",
        "D = ks['main_category']=='Design'\n",
        "A = ks['main_category']=='Art'\n",
        "Fo = ks['main_category']=='Food'\n",
        "Fa = ks['main_category']=='Fashion'\n",
        "Th = ks['main_category']=='Theater'\n",
        "Co = ks['main_category']=='Comics'\n",
        "Ph = ks['main_category']=='Photography'\n",
        "Cr = ks['main_category']=='Crafts'\n",
        "J = ks['main_category']=='Journalism'\n",
        "Da = ks['main_category']=='Dance'"
      ],
      "execution_count": 89,
      "outputs": []
    },
    {
      "cell_type": "code",
      "metadata": {
        "id": "0yRXGUiXpxOZ",
        "colab_type": "code",
        "colab": {
          "base_uri": "https://localhost:8080/",
          "height": 374
        },
        "outputId": "2253a77c-abad-4eee-dea3-f1876f5827cc"
      },
      "source": [
        "#Successful Film and Video\n",
        "film_vid = ks[pos & FV]\n",
        "\n",
        "film_vid['category'].value_counts()"
      ],
      "execution_count": 90,
      "outputs": [
        {
          "output_type": "execute_result",
          "data": {
            "text/plain": [
              "Shorts             6673\n",
              "Documentary        5924\n",
              "Film & Video       3070\n",
              "Narrative Film     2013\n",
              "Webseries          1698\n",
              "Comedy              819\n",
              "Drama               812\n",
              "Animation           682\n",
              "Horror              397\n",
              "Science Fiction     272\n",
              "Music Videos        240\n",
              "Thrillers           200\n",
              "Television          156\n",
              "Experimental        147\n",
              "Festivals           134\n",
              "Action              107\n",
              "Fantasy             106\n",
              "Family               66\n",
              "Romance              55\n",
              "Movie Theaters       52\n",
              "Name: category, dtype: int64"
            ]
          },
          "metadata": {
            "tags": []
          },
          "execution_count": 90
        }
      ]
    },
    {
      "cell_type": "code",
      "metadata": {
        "id": "KXaoGN2RME-0",
        "colab_type": "code",
        "colab": {
          "base_uri": "https://localhost:8080/",
          "height": 374
        },
        "outputId": "36ce6df5-0abe-4481-b6af-dc8273616cba"
      },
      "source": [
        "#Total Film and Video\n",
        "total_film_vid = ks[FV]\n",
        "total_film_vid['category'].value_counts()"
      ],
      "execution_count": 91,
      "outputs": [
        {
          "output_type": "execute_result",
          "data": {
            "text/plain": [
              "Documentary        16139\n",
              "Shorts             12357\n",
              "Film & Video       10108\n",
              "Webseries           5762\n",
              "Narrative Film      5188\n",
              "Animation           2541\n",
              "Drama               2179\n",
              "Comedy              2125\n",
              "Horror              1287\n",
              "Television          1015\n",
              "Thrillers            746\n",
              "Science Fiction      744\n",
              "Action               740\n",
              "Music Videos         709\n",
              "Experimental         551\n",
              "Fantasy              345\n",
              "Family               336\n",
              "Festivals            291\n",
              "Movie Theaters       232\n",
              "Romance              190\n",
              "Name: category, dtype: int64"
            ]
          },
          "metadata": {
            "tags": []
          },
          "execution_count": 91
        }
      ]
    },
    {
      "cell_type": "code",
      "metadata": {
        "id": "W5EXVqO3Md8i",
        "colab_type": "code",
        "colab": {
          "base_uri": "https://localhost:8080/"
        },
        "outputId": "06befe45-71e6-4a42-f79b-15728fb7f174"
      },
      "source": [
        "#Success Percentages for Film and Video\n",
        "print(\"Documentary: \", 5924/16139 )\n",
        "print(\"Shorts: \", 6673/12357)\n",
        "print(\"Film & Video: \", 3070/10108)\n",
        "print(\"Webseries: \", 1698/5762)\n",
        "print(\"Narative Film: \", 2013/5188)\n",
        "print(\"Animation: \", 682/2541)\n",
        "print(\"Drama: \", 812/2179)\n",
        "print(\"Comedy: \", 819/2125)\n",
        "print(\"Horror: \", 397/1287)\n",
        "print(\"Television: \", 156/1015)\n",
        "print(\"Thrillers: \", 200/746)\n",
        "print(\"Science Fiction: \", 272/744)\n",
        "print(\"Action: \", 107/740)\n",
        "print(\"Music Videos: \", 240/709)\n",
        "print(\"Experimental: \", 147/551)\n",
        "print(\"Fantasy: \", 106/345)\n",
        "print(\"Festivals: \", 134/291)\n",
        "print(\"Family: \", 66/336)\n",
        "print(\"Movie Theaters: \", 52/232)\n",
        "print(\"Romance: \", 55/190)"
      ],
      "execution_count": null,
      "outputs": [
        {
          "output_type": "stream",
          "text": [
            "Documentary:  0.36706115620546503\n",
            "Shorts:  0.540017803674031\n",
            "Film & Video:  0.3037198258804907\n",
            "Webseries:  0.2946893439777855\n",
            "Narative Film:  0.3880107941403238\n",
            "Animation:  0.2683982683982684\n",
            "Drama:  0.3726480036714089\n",
            "Comedy:  0.38541176470588234\n",
            "Horror:  0.3084693084693085\n",
            "Television:  0.15369458128078817\n",
            "Thrillers:  0.2680965147453083\n",
            "Science Fiction:  0.3655913978494624\n",
            "Action:  0.1445945945945946\n",
            "Music Videos:  0.3385049365303244\n",
            "Experimental:  0.26678765880217786\n",
            "Fantasy:  0.3072463768115942\n",
            "Festivals:  0.46048109965635736\n",
            "Family:  0.19642857142857142\n",
            "Movie Theaters:  0.22413793103448276\n",
            "Romance:  0.2894736842105263\n"
          ],
          "name": "stdout"
        }
      ]
    },
    {
      "cell_type": "code",
      "metadata": {
        "id": "oP50zEUVp1dI",
        "colab_type": "code",
        "colab": {
          "base_uri": "https://localhost:8080/",
          "height": 357
        },
        "outputId": "43fdf1a9-60df-4f9f-fc51-556e9f733e39"
      },
      "source": [
        "#Successful Music\n",
        "music = ks[pos & M]\n",
        "\n",
        "music['category'].value_counts()"
      ],
      "execution_count": 92,
      "outputs": [
        {
          "output_type": "execute_result",
          "data": {
            "text/plain": [
              "Music               6432\n",
              "Indie Rock          3618\n",
              "Rock                3500\n",
              "Country & Folk      2812\n",
              "Classical Music     1647\n",
              "Pop                 1561\n",
              "Jazz                1104\n",
              "World Music          922\n",
              "Electronic Music     700\n",
              "Hip-Hop              602\n",
              "Faith                456\n",
              "Metal                275\n",
              "Punk                 146\n",
              "Kids                 126\n",
              "Blues                117\n",
              "R&B                  107\n",
              "Latin                 38\n",
              "Chiptune              27\n",
              "Comedy                 7\n",
              "Name: category, dtype: int64"
            ]
          },
          "metadata": {
            "tags": []
          },
          "execution_count": 92
        }
      ]
    },
    {
      "cell_type": "code",
      "metadata": {
        "id": "DsczNAGYQE6x",
        "colab_type": "code",
        "colab": {
          "base_uri": "https://localhost:8080/",
          "height": 357
        },
        "outputId": "5603864d-ccab-42dd-c761-7ac015de5e7b"
      },
      "source": [
        "#Total music\n",
        "total_music = ks[M]\n",
        "total_music['category'].value_counts()"
      ],
      "execution_count": 93,
      "outputs": [
        {
          "output_type": "execute_result",
          "data": {
            "text/plain": [
              "Music               15727\n",
              "Rock                 6758\n",
              "Indie Rock           5657\n",
              "Country & Folk       4451\n",
              "Hip-Hop              3912\n",
              "Pop                  3350\n",
              "Classical Music      2613\n",
              "Electronic Music     2170\n",
              "World Music          2102\n",
              "Jazz                 1850\n",
              "Faith                1092\n",
              "Metal                 717\n",
              "R&B                   458\n",
              "Punk                  317\n",
              "Kids                  285\n",
              "Blues                 268\n",
              "Latin                 137\n",
              "Chiptune               35\n",
              "Comedy                 19\n",
              "Name: category, dtype: int64"
            ]
          },
          "metadata": {
            "tags": []
          },
          "execution_count": 93
        }
      ]
    },
    {
      "cell_type": "code",
      "metadata": {
        "id": "n8RIUry2Qj1f",
        "colab_type": "code",
        "colab": {
          "base_uri": "https://localhost:8080/",
          "height": 51
        },
        "outputId": "2e8ce2a1-d890-44df-a707-87b93cce319b"
      },
      "source": [
        "#Success Percentage of Favorite and Least Favorite Music Subcategory\n",
        "print(\"Music: \", 6432/15727)\n",
        "print(\"Comedy: \", 7/19)"
      ],
      "execution_count": 94,
      "outputs": [
        {
          "output_type": "stream",
          "text": [
            "Music:  0.40897819037324346\n",
            "Comedy:  0.3684210526315789\n"
          ],
          "name": "stdout"
        }
      ]
    },
    {
      "cell_type": "code",
      "metadata": {
        "id": "202ZxuQTp3LA",
        "colab_type": "code",
        "colab": {
          "base_uri": "https://localhost:8080/",
          "height": 340
        },
        "outputId": "ca12d3c2-351b-4597-8533-885acbbf74ec"
      },
      "source": [
        "#Successful Publishing\n",
        "publishing = ks[pos & P]\n",
        "\n",
        "publishing['category'].value_counts()"
      ],
      "execution_count": 95,
      "outputs": [
        {
          "output_type": "execute_result",
          "data": {
            "text/plain": [
              "Children's Books     2348\n",
              "Fiction              2233\n",
              "Nonfiction           2230\n",
              "Publishing           1640\n",
              "Art Books            1356\n",
              "Periodicals           515\n",
              "Poetry                487\n",
              "Radio & Podcasts      394\n",
              "Anthologies           218\n",
              "Academic              188\n",
              "Zines                 179\n",
              "Young Adult           172\n",
              "Literary Journals     133\n",
              "Calendars             128\n",
              "Translations           35\n",
              "Comedy                 25\n",
              "Literary Spaces        13\n",
              "Letterpress             6\n",
              "Name: category, dtype: int64"
            ]
          },
          "metadata": {
            "tags": []
          },
          "execution_count": 95
        }
      ]
    },
    {
      "cell_type": "code",
      "metadata": {
        "id": "ez5Km_kATn0h",
        "colab_type": "code",
        "colab": {
          "base_uri": "https://localhost:8080/",
          "height": 340
        },
        "outputId": "95de55ab-0ea0-4678-e3ed-6f6de9d59245"
      },
      "source": [
        "#Total Publishing\n",
        "total_publishing = ks[P]\n",
        "total_publishing['category'].value_counts()"
      ],
      "execution_count": 96,
      "outputs": [
        {
          "output_type": "execute_result",
          "data": {
            "text/plain": [
              "Fiction              9169\n",
              "Nonfiction           8318\n",
              "Children's Books     6756\n",
              "Publishing           6018\n",
              "Art Books            2676\n",
              "Poetry               1369\n",
              "Periodicals          1265\n",
              "Radio & Podcasts      923\n",
              "Academic              916\n",
              "Young Adult           821\n",
              "Zines                 391\n",
              "Anthologies           379\n",
              "Calendars             329\n",
              "Literary Journals     278\n",
              "Translations          153\n",
              "Comedy                 75\n",
              "Literary Spaces        27\n",
              "Letterpress            11\n",
              "Name: category, dtype: int64"
            ]
          },
          "metadata": {
            "tags": []
          },
          "execution_count": 96
        }
      ]
    },
    {
      "cell_type": "code",
      "metadata": {
        "id": "ZAJAjoqwT8Fu",
        "colab_type": "code",
        "colab": {
          "base_uri": "https://localhost:8080/",
          "height": 51
        },
        "outputId": "8b1907f8-a0c5-4e8f-c7eb-8c6c46f6e25a"
      },
      "source": [
        "#Succes % of 1st and Least Favorite Subcategory\n",
        "print(\"Fiction: \", 2233/9169)\n",
        "print(\"Letterpress: \", 6/11)"
      ],
      "execution_count": 97,
      "outputs": [
        {
          "output_type": "stream",
          "text": [
            "Fiction:  0.2435380085069255\n",
            "Letterpress:  0.5454545454545454\n"
          ],
          "name": "stdout"
        }
      ]
    },
    {
      "cell_type": "code",
      "metadata": {
        "id": "u43bl94yp3Dg",
        "colab_type": "code",
        "colab": {
          "base_uri": "https://localhost:8080/",
          "height": 170
        },
        "outputId": "ae88c849-756f-421e-d995-54e7e10dc6f6"
      },
      "source": [
        "#Successful Games\n",
        "games = ks[pos & G]\n",
        "\n",
        "games['category'].value_counts()"
      ],
      "execution_count": 98,
      "outputs": [
        {
          "output_type": "execute_result",
          "data": {
            "text/plain": [
              "Tabletop Games     7866\n",
              "Video Games        2386\n",
              "Playing Cards       967\n",
              "Games               779\n",
              "Live Games          180\n",
              "Mobile Games        153\n",
              "Gaming Hardware      99\n",
              "Puzzles              88\n",
              "Name: category, dtype: int64"
            ]
          },
          "metadata": {
            "tags": []
          },
          "execution_count": 98
        }
      ]
    },
    {
      "cell_type": "code",
      "metadata": {
        "id": "7nDoCt3pWA2F",
        "colab_type": "code",
        "colab": {
          "base_uri": "https://localhost:8080/",
          "height": 170
        },
        "outputId": "5e537634-c1b1-4f14-faaa-4682145a1967"
      },
      "source": [
        "#Total Games\n",
        "total_games = ks[G]\n",
        "total_games['category'].value_counts()"
      ],
      "execution_count": 99,
      "outputs": [
        {
          "output_type": "execute_result",
          "data": {
            "text/plain": [
              "Tabletop Games     14180\n",
              "Video Games        11830\n",
              "Games               3226\n",
              "Playing Cards       2497\n",
              "Mobile Games        1789\n",
              "Live Games          1050\n",
              "Gaming Hardware      428\n",
              "Puzzles              231\n",
              "Name: category, dtype: int64"
            ]
          },
          "metadata": {
            "tags": []
          },
          "execution_count": 99
        }
      ]
    },
    {
      "cell_type": "code",
      "metadata": {
        "id": "1O8_q4vDWmNf",
        "colab_type": "code",
        "colab": {
          "base_uri": "https://localhost:8080/",
          "height": 51
        },
        "outputId": "8268e1ae-64b4-4361-a07b-711215d2f5a1"
      },
      "source": [
        "#Success % of Fav and Least Games\n",
        "print(\"Tabletop Games: \", 7866/14180)\n",
        "print(\"Puzzles: \", 88/231)"
      ],
      "execution_count": 100,
      "outputs": [
        {
          "output_type": "stream",
          "text": [
            "Tabletop Games:  0.5547249647390691\n",
            "Puzzles:  0.38095238095238093\n"
          ],
          "name": "stdout"
        }
      ]
    },
    {
      "cell_type": "code",
      "metadata": {
        "id": "wRqDtVz9p27I",
        "colab_type": "code",
        "colab": {
          "base_uri": "https://localhost:8080/",
          "height": 306
        },
        "outputId": "31451358-8df4-4ba4-ff37-99407e0996a7"
      },
      "source": [
        "#Successful Technology\n",
        "tech = ks[pos & T]\n",
        "\n",
        "tech['category'].value_counts()"
      ],
      "execution_count": 101,
      "outputs": [
        {
          "output_type": "execute_result",
          "data": {
            "text/plain": [
              "Technology           1317\n",
              "Hardware             1206\n",
              "Gadgets               827\n",
              "DIY Electronics       417\n",
              "Wearables             388\n",
              "Apps                  378\n",
              "Software              371\n",
              "Sound                 274\n",
              "Web                   258\n",
              "3D Printing           242\n",
              "Robots                226\n",
              "Camera Equipment      192\n",
              "Space Exploration     120\n",
              "Makerspaces            76\n",
              "Flight                 76\n",
              "Fabrication Tools      66\n",
              "Name: category, dtype: int64"
            ]
          },
          "metadata": {
            "tags": []
          },
          "execution_count": 101
        }
      ]
    },
    {
      "cell_type": "code",
      "metadata": {
        "id": "PS-F2w_aYQxL",
        "colab_type": "code",
        "colab": {
          "base_uri": "https://localhost:8080/",
          "height": 306
        },
        "outputId": "7656da5b-f497-4b35-e17e-3367ff6bc474"
      },
      "source": [
        "#Total Tech\n",
        "total_tech = ks[T]\n",
        "total_tech['category'].value_counts()"
      ],
      "execution_count": 102,
      "outputs": [
        {
          "output_type": "execute_result",
          "data": {
            "text/plain": [
              "Technology           6930\n",
              "Apps                 6345\n",
              "Web                  3906\n",
              "Hardware             3663\n",
              "Software             3048\n",
              "Gadgets              2965\n",
              "Wearables            1233\n",
              "DIY Electronics       902\n",
              "3D Printing           683\n",
              "Sound                 669\n",
              "Robots                572\n",
              "Flight                426\n",
              "Camera Equipment      416\n",
              "Space Exploration     323\n",
              "Fabrication Tools     250\n",
              "Makerspaces           238\n",
              "Name: category, dtype: int64"
            ]
          },
          "metadata": {
            "tags": []
          },
          "execution_count": 102
        }
      ]
    },
    {
      "cell_type": "code",
      "metadata": {
        "id": "WmRFphdFYv-T",
        "colab_type": "code",
        "colab": {
          "base_uri": "https://localhost:8080/",
          "height": 51
        },
        "outputId": "45bf3b7d-e901-4c28-8793-6d35f797e7c8"
      },
      "source": [
        "#Succes % Top/Bottom Tech\n",
        "print(\"Technology: \", 1317/6930)\n",
        "print(\"Markerspaces: \", 76/238)"
      ],
      "execution_count": 103,
      "outputs": [
        {
          "output_type": "stream",
          "text": [
            "Technology:  0.19004329004329004\n",
            "Markerspaces:  0.31932773109243695\n"
          ],
          "name": "stdout"
        }
      ]
    },
    {
      "cell_type": "code",
      "metadata": {
        "id": "9SnTXZrFp2w5",
        "colab_type": "code",
        "colab": {
          "base_uri": "https://localhost:8080/",
          "height": 153
        },
        "outputId": "6453ccc9-efc9-4345-86d0-1b50c955ece9"
      },
      "source": [
        "#Successful Design\n",
        "design = ks[pos & D]\n",
        "\n",
        "design['category'].value_counts()"
      ],
      "execution_count": 104,
      "outputs": [
        {
          "output_type": "execute_result",
          "data": {
            "text/plain": [
              "Product Design        7962\n",
              "Design                1413\n",
              "Graphic Design         750\n",
              "Architecture           179\n",
              "Civic Design           104\n",
              "Interactive Design      79\n",
              "Typography              63\n",
              "Name: category, dtype: int64"
            ]
          },
          "metadata": {
            "tags": []
          },
          "execution_count": 104
        }
      ]
    },
    {
      "cell_type": "code",
      "metadata": {
        "id": "GWMLofQmaR8y",
        "colab_type": "code",
        "colab": {
          "base_uri": "https://localhost:8080/",
          "height": 153
        },
        "outputId": "082bcc58-f2aa-4a8e-ce72-380f72818967"
      },
      "source": [
        "#Total Design\n",
        "total_design = ks[D]\n",
        "total_design['category'].value_counts()"
      ],
      "execution_count": 105,
      "outputs": [
        {
          "output_type": "execute_result",
          "data": {
            "text/plain": [
              "Product Design        22314\n",
              "Design                 4199\n",
              "Graphic Design         2002\n",
              "Architecture            760\n",
              "Interactive Design      398\n",
              "Civic Design            289\n",
              "Typography              108\n",
              "Name: category, dtype: int64"
            ]
          },
          "metadata": {
            "tags": []
          },
          "execution_count": 105
        }
      ]
    },
    {
      "cell_type": "code",
      "metadata": {
        "id": "hrWBzWEralT9",
        "colab_type": "code",
        "colab": {
          "base_uri": "https://localhost:8080/",
          "height": 51
        },
        "outputId": "0c20384b-3aa8-49ae-f2cb-2a722f45ea1e"
      },
      "source": [
        "#Success % Tob/Bottom Design\n",
        "print(\"Product Design: \", 7962/22314)\n",
        "print(\"Typography: \", 63/108)"
      ],
      "execution_count": 106,
      "outputs": [
        {
          "output_type": "stream",
          "text": [
            "Product Design:  0.3568163484807744\n",
            "Typography:  0.5833333333333334\n"
          ],
          "name": "stdout"
        }
      ]
    },
    {
      "cell_type": "code",
      "metadata": {
        "id": "yVX0dYMWp2n4",
        "colab_type": "code",
        "colab": {
          "base_uri": "https://localhost:8080/",
          "height": 255
        },
        "outputId": "0bcbd069-cea7-412b-9460-e390d76f9376"
      },
      "source": [
        "#Successful Art\n",
        "art = ks[pos & A]\n",
        "\n",
        "art['category'].value_counts()"
      ],
      "execution_count": 107,
      "outputs": [
        {
          "output_type": "execute_result",
          "data": {
            "text/plain": [
              "Art                3385\n",
              "Illustration       1626\n",
              "Public Art         1543\n",
              "Painting           1149\n",
              "Mixed Media         945\n",
              "Performance Art     934\n",
              "Sculpture           698\n",
              "Digital Art         371\n",
              "Conceptual Art      366\n",
              "Installations       233\n",
              "Ceramics            132\n",
              "Textiles             77\n",
              "Video Art            51\n",
              "Name: category, dtype: int64"
            ]
          },
          "metadata": {
            "tags": []
          },
          "execution_count": 107
        }
      ]
    },
    {
      "cell_type": "code",
      "metadata": {
        "id": "ArhETPlybV2b",
        "colab_type": "code",
        "colab": {
          "base_uri": "https://localhost:8080/",
          "height": 255
        },
        "outputId": "7b5be3ca-d7fe-4a9c-94d4-ed3dc9973a90"
      },
      "source": [
        "#Total Art\n",
        "total_art = ks[A]\n",
        "total_art['category'].value_counts()"
      ],
      "execution_count": 108,
      "outputs": [
        {
          "output_type": "execute_result",
          "data": {
            "text/plain": [
              "Art                8253\n",
              "Painting           3294\n",
              "Illustration       3175\n",
              "Public Art         3077\n",
              "Mixed Media        2757\n",
              "Performance Art    2154\n",
              "Sculpture          1810\n",
              "Digital Art        1346\n",
              "Conceptual Art     1030\n",
              "Installations       482\n",
              "Ceramics            305\n",
              "Textiles            276\n",
              "Video Art           194\n",
              "Name: category, dtype: int64"
            ]
          },
          "metadata": {
            "tags": []
          },
          "execution_count": 108
        }
      ]
    },
    {
      "cell_type": "code",
      "metadata": {
        "id": "TsqNWehVbeXK",
        "colab_type": "code",
        "colab": {
          "base_uri": "https://localhost:8080/",
          "height": 51
        },
        "outputId": "ba8ea50c-9adb-4710-f6ec-8f6e93047209"
      },
      "source": [
        "#Success % Art\n",
        "print(\"Art: \", 3385/8253)\n",
        "print(\"Video Art: \", 51/194)"
      ],
      "execution_count": 109,
      "outputs": [
        {
          "output_type": "stream",
          "text": [
            "Art:  0.4101538834363262\n",
            "Video Art:  0.26288659793814434\n"
          ],
          "name": "stdout"
        }
      ]
    },
    {
      "cell_type": "code",
      "metadata": {
        "id": "TKAcqbFjp2fQ",
        "colab_type": "code",
        "colab": {
          "base_uri": "https://localhost:8080/",
          "height": 255
        },
        "outputId": "d8d2ffa8-876b-4e7d-caf6-1158ce47b306"
      },
      "source": [
        "#Successful Food\n",
        "food = ks[pos & Fo]\n",
        "\n",
        "food['category'].value_counts()"
      ],
      "execution_count": 110,
      "outputs": [
        {
          "output_type": "execute_result",
          "data": {
            "text/plain": [
              "Food                 3297\n",
              "Drinks                594\n",
              "Small Batch           557\n",
              "Restaurants           457\n",
              "Farms                 242\n",
              "Food Trucks           217\n",
              "Vegan                 185\n",
              "Cookbooks             130\n",
              "Spaces                124\n",
              "Events                108\n",
              "Farmer's Markets       70\n",
              "Community Gardens      66\n",
              "Bacon                  38\n",
              "Name: category, dtype: int64"
            ]
          },
          "metadata": {
            "tags": []
          },
          "execution_count": 110
        }
      ]
    },
    {
      "cell_type": "code",
      "metadata": {
        "id": "iZBbNjKScZJ7",
        "colab_type": "code",
        "colab": {
          "base_uri": "https://localhost:8080/",
          "height": 255
        },
        "outputId": "d55f8b88-a8b7-4331-c99c-76445bc4a66a"
      },
      "source": [
        "#Total Food\n",
        "total_food = ks[Fo]\n",
        "total_food['category'].value_counts()"
      ],
      "execution_count": 111,
      "outputs": [
        {
          "output_type": "execute_result",
          "data": {
            "text/plain": [
              "Food                 11493\n",
              "Restaurants           2819\n",
              "Drinks                2422\n",
              "Small Batch           1808\n",
              "Food Trucks           1752\n",
              "Farms                 1154\n",
              "Events                 655\n",
              "Vegan                  588\n",
              "Cookbooks              540\n",
              "Spaces                 428\n",
              "Farmer's Markets       424\n",
              "Community Gardens      298\n",
              "Bacon                  221\n",
              "Name: category, dtype: int64"
            ]
          },
          "metadata": {
            "tags": []
          },
          "execution_count": 111
        }
      ]
    },
    {
      "cell_type": "code",
      "metadata": {
        "id": "oN6rW58udZir",
        "colab_type": "code",
        "colab": {
          "base_uri": "https://localhost:8080/",
          "height": 68
        },
        "outputId": "dac7778b-a914-4b67-aaf5-8a43ab5c2341"
      },
      "source": [
        "#Success % Foods\n",
        "print(\"Food: \", 3297/11493)\n",
        "print(\"Bacon: \", 38/221)\n",
        "print(\"Restaurants: \", 457/2819)\n",
        "\n"
      ],
      "execution_count": 112,
      "outputs": [
        {
          "output_type": "stream",
          "text": [
            "Food:  0.28687026885930567\n",
            "Bacon:  0.17194570135746606\n",
            "Restaurants:  0.16211422490244767\n"
          ],
          "name": "stdout"
        }
      ]
    },
    {
      "cell_type": "code",
      "metadata": {
        "id": "Jq2u3f4Gp2WY",
        "colab_type": "code",
        "colab": {
          "base_uri": "https://localhost:8080/",
          "height": 187
        },
        "outputId": "d32bd3c4-43ab-4276-a5d2-5219b28779fa"
      },
      "source": [
        "#Successful Fashion\n",
        "fashion = ks[pos & Fa]\n",
        "\n",
        "fashion['category'].value_counts()"
      ],
      "execution_count": 113,
      "outputs": [
        {
          "output_type": "execute_result",
          "data": {
            "text/plain": [
              "Fashion          2188\n",
              "Apparel          1414\n",
              "Accessories      1073\n",
              "Jewelry           301\n",
              "Footwear          298\n",
              "Ready-to-wear     145\n",
              "Childrenswear      95\n",
              "Couture            42\n",
              "Pet Fashion        37\n",
              "Name: category, dtype: int64"
            ]
          },
          "metadata": {
            "tags": []
          },
          "execution_count": 113
        }
      ]
    },
    {
      "cell_type": "code",
      "metadata": {
        "id": "7S2_VkeDtwAy",
        "colab_type": "code",
        "colab": {
          "base_uri": "https://localhost:8080/",
          "height": 187
        },
        "outputId": "54d2f5f2-ba17-405e-fb73-7a035734845d"
      },
      "source": [
        "#Total Fashion\n",
        "total_fashion = ks[Fa]\n",
        "total_fashion['category'].value_counts()"
      ],
      "execution_count": 114,
      "outputs": [
        {
          "output_type": "execute_result",
          "data": {
            "text/plain": [
              "Fashion          8554\n",
              "Apparel          7166\n",
              "Accessories      3165\n",
              "Jewelry          1239\n",
              "Footwear          931\n",
              "Ready-to-wear     864\n",
              "Childrenswear     483\n",
              "Couture           275\n",
              "Pet Fashion       139\n",
              "Name: category, dtype: int64"
            ]
          },
          "metadata": {
            "tags": []
          },
          "execution_count": 114
        }
      ]
    },
    {
      "cell_type": "code",
      "metadata": {
        "id": "ji7PqmvEt4FH",
        "colab_type": "code",
        "colab": {
          "base_uri": "https://localhost:8080/",
          "height": 68
        },
        "outputId": "4cc3d03e-4f2a-4de6-b0c5-f71cd6ce12cf"
      },
      "source": [
        "#Success % Fashion\n",
        "print(\"Fashion: \", 2188/8554)\n",
        "print(\"Apparel: \", 1414/7166)\n",
        "print(\"Pet Fashion: \", 37/139)"
      ],
      "execution_count": 115,
      "outputs": [
        {
          "output_type": "stream",
          "text": [
            "Fashion:  0.2557867664250643\n",
            "Apparel:  0.1973206809935808\n",
            "Pet Fashion:  0.26618705035971224\n"
          ],
          "name": "stdout"
        }
      ]
    },
    {
      "cell_type": "code",
      "metadata": {
        "id": "cr4Z8Rump2M6",
        "colab_type": "code",
        "colab": {
          "base_uri": "https://localhost:8080/",
          "height": 170
        },
        "outputId": "cc6b1071-badb-4242-fd09-e73bef9b6dbb"
      },
      "source": [
        "#Successful Theater\n",
        "theater = ks[pos & Th]\n",
        "\n",
        "theater['category'].value_counts()"
      ],
      "execution_count": 116,
      "outputs": [
        {
          "output_type": "execute_result",
          "data": {
            "text/plain": [
              "Theater         4405\n",
              "Plays            804\n",
              "Musical          462\n",
              "Festivals        323\n",
              "Experimental     211\n",
              "Immersive        169\n",
              "Spaces            99\n",
              "Comedy            61\n",
              "Name: category, dtype: int64"
            ]
          },
          "metadata": {
            "tags": []
          },
          "execution_count": 116
        }
      ]
    },
    {
      "cell_type": "code",
      "metadata": {
        "id": "W5ceJtv3uPi_",
        "colab_type": "code",
        "colab": {
          "base_uri": "https://localhost:8080/",
          "height": 170
        },
        "outputId": "c8de1445-d58f-4e37-e06b-6a58234daddd"
      },
      "source": [
        "#Total Theater\n",
        "total_theater = ks[Th]\n",
        "total_theater['category'].value_counts()"
      ],
      "execution_count": 117,
      "outputs": [
        {
          "output_type": "execute_result",
          "data": {
            "text/plain": [
              "Theater         7057\n",
              "Plays           1378\n",
              "Musical          913\n",
              "Festivals        548\n",
              "Experimental     373\n",
              "Immersive        330\n",
              "Spaces           213\n",
              "Comedy           101\n",
              "Name: category, dtype: int64"
            ]
          },
          "metadata": {
            "tags": []
          },
          "execution_count": 117
        }
      ]
    },
    {
      "cell_type": "code",
      "metadata": {
        "id": "Um47uF7YuZ3g",
        "colab_type": "code",
        "colab": {
          "base_uri": "https://localhost:8080/",
          "height": 68
        },
        "outputId": "cc9d5ba1-c093-46d8-992e-37b4279b139c"
      },
      "source": [
        "#Success % Theater\n",
        "print(\"Theater: \", 4405/7057)\n",
        "print(\"Plays: \", 804/1378)\n",
        "print(\"Comedy: \", 61/101)"
      ],
      "execution_count": 118,
      "outputs": [
        {
          "output_type": "stream",
          "text": [
            "Theater:  0.624202919087431\n",
            "Plays:  0.5834542815674891\n",
            "Comedy:  0.6039603960396039\n"
          ],
          "name": "stdout"
        }
      ]
    },
    {
      "cell_type": "code",
      "metadata": {
        "id": "bSMtMUS2p2Di",
        "colab_type": "code",
        "colab": {
          "base_uri": "https://localhost:8080/",
          "height": 136
        },
        "outputId": "ba77cb6f-02ee-446e-f4c2-4c62401647e8"
      },
      "source": [
        "#Successful Comics\n",
        "comics = ks[pos & Co]\n",
        "\n",
        "comics['category'].value_counts()"
      ],
      "execution_count": 119,
      "outputs": [
        {
          "output_type": "execute_result",
          "data": {
            "text/plain": [
              "Comics            2506\n",
              "Comic Books       1614\n",
              "Graphic Novels    1011\n",
              "Webcomics          358\n",
              "Anthologies        303\n",
              "Events              50\n",
              "Name: category, dtype: int64"
            ]
          },
          "metadata": {
            "tags": []
          },
          "execution_count": 119
        }
      ]
    },
    {
      "cell_type": "code",
      "metadata": {
        "id": "uJLg8EAGuxk3",
        "colab_type": "code",
        "colab": {
          "base_uri": "https://localhost:8080/",
          "height": 136
        },
        "outputId": "aef32473-fbe2-4305-d9bf-132922eb88bf"
      },
      "source": [
        "#Total Comics\n",
        "total_comics = ks[Co]\n",
        "total_comics['category'].value_counts()"
      ],
      "execution_count": 120,
      "outputs": [
        {
          "output_type": "execute_result",
          "data": {
            "text/plain": [
              "Comics            4996\n",
              "Comic Books       2743\n",
              "Graphic Novels    1864\n",
              "Webcomics          648\n",
              "Anthologies        405\n",
              "Events             163\n",
              "Name: category, dtype: int64"
            ]
          },
          "metadata": {
            "tags": []
          },
          "execution_count": 120
        }
      ]
    },
    {
      "cell_type": "code",
      "metadata": {
        "id": "tkyXESyAu-YR",
        "colab_type": "code",
        "colab": {
          "base_uri": "https://localhost:8080/",
          "height": 68
        },
        "outputId": "35e52185-9e8a-445f-ef0e-e3aaef798159"
      },
      "source": [
        "#Successful % Comics\n",
        "print(\"Comics: \", 2506/4996)\n",
        "print(\"Comic Books: \", 1614/2743)\n",
        "print(\"Events: \", 50/163)"
      ],
      "execution_count": 121,
      "outputs": [
        {
          "output_type": "stream",
          "text": [
            "Comics:  0.5016012810248198\n",
            "Comic Books:  0.5884068538096974\n",
            "Events:  0.3067484662576687\n"
          ],
          "name": "stdout"
        }
      ]
    },
    {
      "cell_type": "code",
      "metadata": {
        "id": "eCLQaH3_qUYZ",
        "colab_type": "code",
        "colab": {
          "base_uri": "https://localhost:8080/",
          "height": 153
        },
        "outputId": "5f7ac536-1ce8-40f6-83ae-19b1c46adb65"
      },
      "source": [
        "#Successful Photography\n",
        "photography = ks[pos & Ph]\n",
        "\n",
        "photography['category'].value_counts()"
      ],
      "execution_count": 122,
      "outputs": [
        {
          "output_type": "execute_result",
          "data": {
            "text/plain": [
              "Photography    1876\n",
              "Photobooks      635\n",
              "Fine Art        283\n",
              "People          230\n",
              "Places          118\n",
              "Nature          100\n",
              "Animals          63\n",
              "Name: category, dtype: int64"
            ]
          },
          "metadata": {
            "tags": []
          },
          "execution_count": 122
        }
      ]
    },
    {
      "cell_type": "code",
      "metadata": {
        "id": "UW7fsE8OvPue",
        "colab_type": "code",
        "colab": {
          "base_uri": "https://localhost:8080/",
          "height": 153
        },
        "outputId": "6fa9be71-34f6-46fb-b92a-6265c8d1ae3a"
      },
      "source": [
        "#Total Photography\n",
        "total_photography = ks[Ph]\n",
        "total_photography['category'].value_counts()"
      ],
      "execution_count": 123,
      "outputs": [
        {
          "output_type": "execute_result",
          "data": {
            "text/plain": [
              "Photography    5752\n",
              "Photobooks     1580\n",
              "People         1103\n",
              "Fine Art        776\n",
              "Places          739\n",
              "Nature          574\n",
              "Animals         255\n",
              "Name: category, dtype: int64"
            ]
          },
          "metadata": {
            "tags": []
          },
          "execution_count": 123
        }
      ]
    },
    {
      "cell_type": "code",
      "metadata": {
        "id": "zInYSmCevZWT",
        "colab_type": "code",
        "colab": {
          "base_uri": "https://localhost:8080/",
          "height": 68
        },
        "outputId": "03fa2508-96dc-425c-c8f8-705f7a6c1513"
      },
      "source": [
        "#Successful % Photography\n",
        "print(\"Photography: \", 1876/5752)\n",
        "print(\"Photobooks: \", 635/1580)\n",
        "print(\"Animals: \", 63/255)"
      ],
      "execution_count": 124,
      "outputs": [
        {
          "output_type": "stream",
          "text": [
            "Photography:  0.32614742698191934\n",
            "Photobooks:  0.40189873417721517\n",
            "Animals:  0.24705882352941178\n"
          ],
          "name": "stdout"
        }
      ]
    },
    {
      "cell_type": "code",
      "metadata": {
        "id": "1MWJsfOlqUSJ",
        "colab_type": "code",
        "colab": {
          "base_uri": "https://localhost:8080/",
          "height": 289
        },
        "outputId": "7d7a5bf6-2eba-4d87-8dd3-c39688869fd6"
      },
      "source": [
        "#Successful Crafts\n",
        "crafts = ks[pos & Cr]\n",
        "\n",
        "crafts['category'].value_counts()"
      ],
      "execution_count": 125,
      "outputs": [
        {
          "output_type": "execute_result",
          "data": {
            "text/plain": [
              "Crafts         1162\n",
              "Woodworking     292\n",
              "DIY             183\n",
              "Knitting         85\n",
              "Stationery       77\n",
              "Candles          55\n",
              "Printing         49\n",
              "Pottery          44\n",
              "Glass            38\n",
              "Crochet          35\n",
              "Weaving          27\n",
              "Letterpress      25\n",
              "Quilts           19\n",
              "Embroidery       19\n",
              "Taxidermy         5\n",
              "Name: category, dtype: int64"
            ]
          },
          "metadata": {
            "tags": []
          },
          "execution_count": 125
        }
      ]
    },
    {
      "cell_type": "code",
      "metadata": {
        "id": "Lyg0gzqpvufu",
        "colab_type": "code",
        "colab": {
          "base_uri": "https://localhost:8080/",
          "height": 289
        },
        "outputId": "6d1ce55d-2ee6-4d8b-cce5-8f90a0398bfb"
      },
      "source": [
        "#Total Crafts\n",
        "total_crafts = ks[Cr]\n",
        "total_crafts['category'].value_counts()"
      ],
      "execution_count": 126,
      "outputs": [
        {
          "output_type": "execute_result",
          "data": {
            "text/plain": [
              "Crafts         4664\n",
              "DIY            1173\n",
              "Woodworking    1167\n",
              "Candles         429\n",
              "Printing        238\n",
              "Stationery      219\n",
              "Knitting        181\n",
              "Crochet         162\n",
              "Glass           138\n",
              "Embroidery      113\n",
              "Pottery         100\n",
              "Weaving          93\n",
              "Quilts           81\n",
              "Letterpress      38\n",
              "Taxidermy        13\n",
              "Name: category, dtype: int64"
            ]
          },
          "metadata": {
            "tags": []
          },
          "execution_count": 126
        }
      ]
    },
    {
      "cell_type": "code",
      "metadata": {
        "id": "kTkZcrA2v5F4",
        "colab_type": "code",
        "colab": {
          "base_uri": "https://localhost:8080/",
          "height": 85
        },
        "outputId": "445a207f-8149-4d9c-f70f-a1294b33ae73"
      },
      "source": [
        "#% Crafts\n",
        "print(\"Crafts: \", 1162/4664)\n",
        "print(\"DIY: \", 183/1173)\n",
        "print(\"Woodworking: \", 292/1167)\n",
        "print(\"Taxidermy: \", 5/13)"
      ],
      "execution_count": 127,
      "outputs": [
        {
          "output_type": "stream",
          "text": [
            "Crafts:  0.24914236706689538\n",
            "DIY:  0.15601023017902813\n",
            "Woodworking:  0.25021422450728364\n",
            "Taxidermy:  0.38461538461538464\n"
          ],
          "name": "stdout"
        }
      ]
    },
    {
      "cell_type": "code",
      "metadata": {
        "id": "h1cFIY7GqULy",
        "colab_type": "code",
        "colab": {
          "base_uri": "https://localhost:8080/",
          "height": 136
        },
        "outputId": "80a995af-3846-461f-e8bf-a8200c0d8ae5"
      },
      "source": [
        "#Successful Journalism\n",
        "journalism = ks[pos & J]\n",
        "\n",
        "journalism['category'].value_counts()"
      ],
      "execution_count": 128,
      "outputs": [
        {
          "output_type": "execute_result",
          "data": {
            "text/plain": [
              "Journalism    472\n",
              "Web           185\n",
              "Print         161\n",
              "Audio         111\n",
              "Video          51\n",
              "Photo          32\n",
              "Name: category, dtype: int64"
            ]
          },
          "metadata": {
            "tags": []
          },
          "execution_count": 128
        }
      ]
    },
    {
      "cell_type": "code",
      "metadata": {
        "id": "9d9TJnvjwXf4",
        "colab_type": "code",
        "colab": {
          "base_uri": "https://localhost:8080/",
          "height": 136
        },
        "outputId": "98a189c3-cb99-471f-808f-56ea2d949ddf"
      },
      "source": [
        "#Total Journalism\n",
        "total_journalism = ks[J]\n",
        "total_journalism['category'].value_counts()"
      ],
      "execution_count": 129,
      "outputs": [
        {
          "output_type": "execute_result",
          "data": {
            "text/plain": [
              "Journalism    1747\n",
              "Web           1247\n",
              "Print          727\n",
              "Video          428\n",
              "Audio          410\n",
              "Photo          196\n",
              "Name: category, dtype: int64"
            ]
          },
          "metadata": {
            "tags": []
          },
          "execution_count": 129
        }
      ]
    },
    {
      "cell_type": "code",
      "metadata": {
        "id": "PbEWQ2rkwgAI",
        "colab_type": "code",
        "colab": {
          "base_uri": "https://localhost:8080/",
          "height": 68
        },
        "outputId": "b90483f8-92f6-4d22-9e71-19aab07b3bc8"
      },
      "source": [
        "#% Journalism\n",
        "print(\"Journalism: \", 472/1747)\n",
        "print(\"Web: \", 185/1247)\n",
        "print(\"Photo: \", 32/196)"
      ],
      "execution_count": 130,
      "outputs": [
        {
          "output_type": "stream",
          "text": [
            "Journalism:  0.2701774470520893\n",
            "Web:  0.1483560545308741\n",
            "Photo:  0.16326530612244897\n"
          ],
          "name": "stdout"
        }
      ]
    },
    {
      "cell_type": "code",
      "metadata": {
        "id": "v06IMrJlqUEY",
        "colab_type": "code",
        "colab": {
          "base_uri": "https://localhost:8080/",
          "height": 119
        },
        "outputId": "d22f9f2d-d516-43a9-950a-22d2f40fd015"
      },
      "source": [
        "#Successful Dance\n",
        "dance = ks[pos & Da]\n",
        "\n",
        "dance['category'].value_counts()"
      ],
      "execution_count": 131,
      "outputs": [
        {
          "output_type": "execute_result",
          "data": {
            "text/plain": [
              "Dance           1542\n",
              "Performances     624\n",
              "Spaces            72\n",
              "Residencies       50\n",
              "Workshops         50\n",
              "Name: category, dtype: int64"
            ]
          },
          "metadata": {
            "tags": []
          },
          "execution_count": 131
        }
      ]
    },
    {
      "cell_type": "code",
      "metadata": {
        "id": "sO5F1Q7hwv_1",
        "colab_type": "code",
        "colab": {
          "base_uri": "https://localhost:8080/",
          "height": 119
        },
        "outputId": "1a9e6f8d-ebe9-43b2-f683-e7d162fc3086"
      },
      "source": [
        "#Total dance\n",
        "total_dance = ks[Da]\n",
        "total_dance['category'].value_counts()"
      ],
      "execution_count": 132,
      "outputs": [
        {
          "output_type": "execute_result",
          "data": {
            "text/plain": [
              "Dance           2322\n",
              "Performances    1013\n",
              "Spaces           200\n",
              "Workshops        164\n",
              "Residencies       69\n",
              "Name: category, dtype: int64"
            ]
          },
          "metadata": {
            "tags": []
          },
          "execution_count": 132
        }
      ]
    },
    {
      "cell_type": "code",
      "metadata": {
        "id": "z948kQhfL_aM",
        "colab_type": "code",
        "colab": {
          "base_uri": "https://localhost:8080/",
          "height": 68
        },
        "outputId": "5d3dbced-31d1-43d4-ce50-f7ecf5240a10"
      },
      "source": [
        "#% Dance\n",
        "print(\"Dance: \", 1542/2322)\n",
        "print(\"Performances: \", 624/1013)\n",
        "print(\"Residencies: \", 50/69)"
      ],
      "execution_count": 133,
      "outputs": [
        {
          "output_type": "stream",
          "text": [
            "Dance:  0.6640826873385013\n",
            "Performances:  0.6159921026653504\n",
            "Residencies:  0.7246376811594203\n"
          ],
          "name": "stdout"
        }
      ]
    },
    {
      "cell_type": "markdown",
      "metadata": {
        "id": "OmkGFW7Ol15I",
        "colab_type": "text"
      },
      "source": [
        "## Visualization of Subcategorical Success Rates"
      ]
    },
    {
      "cell_type": "code",
      "metadata": {
        "id": "UxYiCS1j2u_j",
        "colab_type": "code",
        "colab": {
          "base_uri": "https://localhost:8080/",
          "height": 204
        },
        "outputId": "48f4a8f6-efbc-45b1-b0e0-296db6c2557d"
      },
      "source": [
        "#GRAPH 1 Table\n",
        "data = {'Main': ['Film & Vid', 'Film & Vid', 'Music', 'Music', 'Publishing', 'Publishing', 'Games', 'Games', 'Tech', 'Tech',\n",
        "                 'Design', 'Design', 'Art', 'Art', 'Food', 'Food', 'Fashion', 'Fashion', 'Theater', 'Theater', 'Comics', 'Comics',\n",
        "                 'Photography', 'Photography', 'Crafts', 'Crafts', 'Journalism', 'Journalism', 'Dance', 'Dance'],\n",
        "        'Sub': ['Documentary', 'Romance', 'Rock', 'Comedy', 'Fiction', 'Letterpress', 'Tabletop', 'Puzzles', 'Technology',\n",
        "                'Markerspaces', 'Product Design', 'Typography', 'Illustration', 'Video Art', 'Food', 'Bacon', 'Fashion', 'Pet Fashion',\n",
        "                'Theater', 'Comedy', 'Comic Books', 'Events', 'Photobooks', 'Animals', 'DIY', 'Taxidermy', 'Journalism', 'Photo', 'Performances', 'Residencies'],\n",
        "        'Popularity': ['p', 'u', 'p', 'u', 'p', 'u', 'p', 'u', 'p', 'u',\n",
        "                       'p', 'u', 'p', 'u', 'p', 'u', 'p', 'u', 'p', 'u',\n",
        "                       'p', 'u', 'p', 'u', 'p', 'u', 'p', 'u', 'p', 'u'],\n",
        "        'Success_Rate': [36, 28, 93, 36, 24, 54, 55, 38, 19, 31, 35, 58, 51, 26, 28, 17, 25, 26, 62, 60, 58, 30, 40, 24, 15, 38, 27, 16, 61,72]}\n",
        "\n",
        "bar1 = pd.DataFrame(data)\n",
        "bar1.head()"
      ],
      "execution_count": 134,
      "outputs": [
        {
          "output_type": "execute_result",
          "data": {
            "text/html": [
              "<div>\n",
              "<style scoped>\n",
              "    .dataframe tbody tr th:only-of-type {\n",
              "        vertical-align: middle;\n",
              "    }\n",
              "\n",
              "    .dataframe tbody tr th {\n",
              "        vertical-align: top;\n",
              "    }\n",
              "\n",
              "    .dataframe thead th {\n",
              "        text-align: right;\n",
              "    }\n",
              "</style>\n",
              "<table border=\"1\" class=\"dataframe\">\n",
              "  <thead>\n",
              "    <tr style=\"text-align: right;\">\n",
              "      <th></th>\n",
              "      <th>Main</th>\n",
              "      <th>Sub</th>\n",
              "      <th>Popularity</th>\n",
              "      <th>Success_Rate</th>\n",
              "    </tr>\n",
              "  </thead>\n",
              "  <tbody>\n",
              "    <tr>\n",
              "      <th>0</th>\n",
              "      <td>Film &amp; Vid</td>\n",
              "      <td>Documentary</td>\n",
              "      <td>p</td>\n",
              "      <td>36</td>\n",
              "    </tr>\n",
              "    <tr>\n",
              "      <th>1</th>\n",
              "      <td>Film &amp; Vid</td>\n",
              "      <td>Romance</td>\n",
              "      <td>u</td>\n",
              "      <td>28</td>\n",
              "    </tr>\n",
              "    <tr>\n",
              "      <th>2</th>\n",
              "      <td>Music</td>\n",
              "      <td>Rock</td>\n",
              "      <td>p</td>\n",
              "      <td>93</td>\n",
              "    </tr>\n",
              "    <tr>\n",
              "      <th>3</th>\n",
              "      <td>Music</td>\n",
              "      <td>Comedy</td>\n",
              "      <td>u</td>\n",
              "      <td>36</td>\n",
              "    </tr>\n",
              "    <tr>\n",
              "      <th>4</th>\n",
              "      <td>Publishing</td>\n",
              "      <td>Fiction</td>\n",
              "      <td>p</td>\n",
              "      <td>24</td>\n",
              "    </tr>\n",
              "  </tbody>\n",
              "</table>\n",
              "</div>"
            ],
            "text/plain": [
              "         Main          Sub Popularity  Success_Rate\n",
              "0  Film & Vid  Documentary          p            36\n",
              "1  Film & Vid      Romance          u            28\n",
              "2       Music         Rock          p            93\n",
              "3       Music       Comedy          u            36\n",
              "4  Publishing      Fiction          p            24"
            ]
          },
          "metadata": {
            "tags": []
          },
          "execution_count": 134
        }
      ]
    },
    {
      "cell_type": "code",
      "metadata": {
        "id": "ybbEo-q97jh8",
        "colab_type": "code",
        "colab": {
          "base_uri": "https://localhost:8080/",
          "height": 268
        },
        "outputId": "60cb6da6-3f34-49ee-c020-507e784e4214"
      },
      "source": [
        "bar1.plot.bar();"
      ],
      "execution_count": 135,
      "outputs": [
        {
          "output_type": "display_data",
          "data": {
            "image/png": "[encoded data removed]",
            "text/plain": [
              "<Figure size 432x288 with 1 Axes>"
            ]
          },
          "metadata": {
            "tags": [],
            "needs_background": "light"
          }
        }
      ]
    },
    {
      "cell_type": "code",
      "metadata": {
        "id": "j3EM3z2v8Fh_",
        "colab_type": "code",
        "colab": {
          "base_uri": "https://localhost:8080/",
          "height": 517
        },
        "outputId": "054fcae6-fcca-4f48-af15-86bbdd087aa3"
      },
      "source": [
        "#Creating figure, controlling size and color\n",
        "fig = plt.figure(figsize=(15, 8), facecolor='#2c6d70')\n",
        "\n",
        "#Adding subplot with no frame\n",
        "ax = plt.subplot(frameon=False)\n",
        "\n",
        "#X Labels\n",
        "labels = ['Film & Vid', 'Music', 'Publishing', 'Games', 'Tech', 'Design', 'Art', 'Food', 'Fashion', 'Theater', 'Comics', 'Photography', 'Crafts', 'Journalism', 'Dance']\n",
        "x = np.arange(len(labels))\n",
        "#Width of bars\n",
        "width = 0.35\n",
        "\n",
        "#Rates\n",
        "pop_rates = [36, 93, 24, 55, 19, 35, 51, 28, 25, 62, 58, 40, 15, 27, 61]\n",
        "unpop_rates = [28, 36, 54, 38, 31, 58, 26, 17, 26, 60, 30, 24, 38, 16, 72]\n",
        "\n",
        "#Bars\n",
        "rects1 = ax.bar(x-width/2, pop_rates, width, label='Popular', color='#9f12b5')\n",
        "rects2 = ax.bar(x+width/2, unpop_rates, width, label='Unpopular', color='#0a0e54')\n",
        "\n",
        "#Titles, text, and labels\n",
        "ax.set_ylabel('Success Rate %', fontsize='12')\n",
        "ax.set_xlabel('Main Category', fontsize='12')\n",
        "ax.set_title('Success Rates of Most Popular and Least Popular Sub-Categories', fontsize='14', fontweight='bold', fontfamily='monospace')\n",
        "ax.set_xticks(x)\n",
        "ax.set_xticklabels(labels, fontfamily='monospace')\n",
        "ax.legend()\n",
        "\n",
        "#Attaching text label above each bar\n",
        "def autolabel(rects):\n",
        "    for rect in rects:\n",
        "        height = rect.get_height()\n",
        "        ax.annotate('{}'.format(height),\n",
        "                    xy=(rect.get_x() + rect.get_width() / 2, height),\n",
        "                    xytext=(0, 3),  # 3 points vertical offset\n",
        "                    textcoords=\"offset points\",\n",
        "                    ha='center', va='bottom')\n",
        "        \n",
        "autolabel(rects1)\n",
        "autolabel(rects2)\n",
        "\n",
        "plt.show();\n"
      ],
      "execution_count": 136,
      "outputs": [
        {
          "output_type": "display_data",
          "data": {
            "image/png": "[encoded data removed]",
            "text/plain": [
              "<Figure size 1080x576 with 1 Axes>"
            ]
          },
          "metadata": {
            "tags": []
          }
        }
      ]
    },
    {
      "cell_type": "code",
      "metadata": {
        "id": "I0HKFtiYF1ip",
        "colab_type": "code",
        "colab": {}
      },
      "source": [
        "bar1['Popularity'] = bar1['Popularity'].replace({'u':'Unpopular', 'p':'Popular'})"
      ],
      "execution_count": 137,
      "outputs": []
    },
    {
      "cell_type": "code",
      "metadata": {
        "id": "M6iuvWufKnJs",
        "colab_type": "code",
        "colab": {}
      },
      "source": [
        "#Table of Subcategory Success Rates\n",
        "import plotly.graph_objects as go"
      ],
      "execution_count": 138,
      "outputs": []
    },
    {
      "cell_type": "code",
      "metadata": {
        "id": "iQ4a_djtL4-Y",
        "colab_type": "code",
        "colab": {
          "base_uri": "https://localhost:8080/",
          "height": 0
        },
        "outputId": "f9204add-0a15-4955-f98a-b4043a87ba1e"
      },
      "source": [
        "fig = go.Figure(data=[go.Table(\n",
        "    header=dict(values=list(bar1.columns),\n",
        "                fill_color='#3e87b7',\n",
        "                align='left',\n",
        "                font=dict(color='white', size=12)),\n",
        "    cells=dict(values=[bar1.Main, bar1.Sub, bar1.Popularity, bar1.Success_Rate],\n",
        "               fill_color='lavender',\n",
        "               align='left'))\n",
        "])\n",
        "\n",
        "fig.show()"
      ],
      "execution_count": 139,
      "outputs": [
        {
          "output_type": "display_data",
          "data": {
            "text/html": [
              "<html>\n",
              "<head><meta charset=\"utf-8\" /></head>\n",
              "<body>\n",
              "    <div>\n",
              "            <script src=\"https://cdnjs.cloudflare.com/ajax/libs/mathjax/2.7.5/MathJax.js?config=TeX-AMS-MML_SVG\"></script><script type=\"text/javascript\">if (window.MathJax) {MathJax.Hub.Config({SVG: {font: \"STIX-Web\"}});}</script>\n",
              "                <script type=\"text/javascript\">window.PlotlyConfig = {MathJaxConfig: 'local'};</script>\n",
              "        <script src=\"https://cdn.plot.ly/plotly-latest.min.js\"></script>    \n",
              "            <div id=\"4c1d16b5-37ac-4999-aa08-f5a62e6cc17e\" class=\"plotly-graph-div\" style=\"height:525px; width:100%;\"></div>\n",
              "            <script type=\"text/javascript\">\n",
              "                \n",
              "                    window.PLOTLYENV=window.PLOTLYENV || {};\n",
              "                    \n",
              "                if (document.getElementById(\"4c1d16b5-37ac-4999-aa08-f5a62e6cc17e\")) {\n",
              "                    Plotly.newPlot(\n",
              "                        '4c1d16b5-37ac-4999-aa08-f5a62e6cc17e',\n",
              "                        [{\"cells\": {\"align\": \"left\", \"fill\": {\"color\": \"lavender\"}, \"values\": [[\"Film & Vid\", \"Film & Vid\", \"Music\", \"Music\", \"Publishing\", \"Publishing\", \"Games\", \"Games\", \"Tech\", \"Tech\", \"Design\", \"Design\", \"Art\", \"Art\", \"Food\", \"Food\", \"Fashion\", \"Fashion\", \"Theater\", \"Theater\", \"Comics\", \"Comics\", \"Photography\", \"Photography\", \"Crafts\", \"Crafts\", \"Journalism\", \"Journalism\", \"Dance\", \"Dance\"], [\"Documentary\", \"Romance\", \"Rock\", \"Comedy\", \"Fiction\", \"Letterpress\", \"Tabletop\", \"Puzzles\", \"Technology\", \"Markerspaces\", \"Product Design\", \"Typography\", \"Illustration\", \"Video Art\", \"Food\", \"Bacon\", \"Fashion\", \"Pet Fashion\", \"Theater\", \"Comedy\", \"Comic Books\", \"Events\", \"Photobooks\", \"Animals\", \"DIY\", \"Taxidermy\", \"Journalism\", \"Photo\", \"Performances\", \"Residencies\"], [\"Popular\", \"Unpopular\", \"Popular\", \"Unpopular\", \"Popular\", \"Unpopular\", \"Popular\", \"Unpopular\", \"Popular\", \"Unpopular\", \"Popular\", \"Unpopular\", \"Popular\", \"Unpopular\", \"Popular\", \"Unpopular\", \"Popular\", \"Unpopular\", \"Popular\", \"Unpopular\", \"Popular\", \"Unpopular\", \"Popular\", \"Unpopular\", \"Popular\", \"Unpopular\", \"Popular\", \"Unpopular\", \"Popular\", \"Unpopular\"], [36, 28, 93, 36, 24, 54, 55, 38, 19, 31, 35, 58, 51, 26, 28, 17, 25, 26, 62, 60, 58, 30, 40, 24, 15, 38, 27, 16, 61, 72]]}, \"header\": {\"align\": \"left\", \"fill\": {\"color\": \"#3e87b7\"}, \"font\": {\"color\": \"white\", \"size\": 12}, \"values\": [\"Main\", \"Sub\", \"Popularity\", \"Success_Rate\"]}, \"type\": \"table\"}],\n",
              "                        {\"template\": {\"data\": {\"bar\": [{\"error_x\": {\"color\": \"#2a3f5f\"}, \"error_y\": {\"color\": \"#2a3f5f\"}, \"marker\": {\"line\": {\"color\": \"#E5ECF6\", \"width\": 0.5}}, \"type\": \"bar\"}], \"barpolar\": [{\"marker\": {\"line\": {\"color\": \"#E5ECF6\", \"width\": 0.5}}, \"type\": \"barpolar\"}], \"carpet\": [{\"aaxis\": {\"endlinecolor\": \"#2a3f5f\", \"gridcolor\": \"white\", \"linecolor\": \"white\", \"minorgridcolor\": \"white\", \"startlinecolor\": \"#2a3f5f\"}, \"baxis\": {\"endlinecolor\": \"#2a3f5f\", \"gridcolor\": \"white\", \"linecolor\": \"white\", \"minorgridcolor\": \"white\", \"startlinecolor\": \"#2a3f5f\"}, \"type\": \"carpet\"}], \"choropleth\": [{\"colorbar\": {\"outlinewidth\": 0, \"ticks\": \"\"}, \"type\": \"choropleth\"}], \"contour\": [{\"colorbar\": {\"outlinewidth\": 0, \"ticks\": \"\"}, \"colorscale\": [[0.0, \"#0d0887\"], [0.1111111111111111, \"#46039f\"], [0.2222222222222222, \"#7201a8\"], [0.3333333333333333, \"#9c179e\"], [0.4444444444444444, \"#bd3786\"], [0.5555555555555556, \"#d8576b\"], [0.6666666666666666, \"#ed7953\"], [0.7777777777777778, \"#fb9f3a\"], [0.8888888888888888, \"#fdca26\"], [1.0, \"#f0f921\"]], \"type\": \"contour\"}], \"contourcarpet\": [{\"colorbar\": {\"outlinewidth\": 0, \"ticks\": \"\"}, \"type\": \"contourcarpet\"}], \"heatmap\": [{\"colorbar\": {\"outlinewidth\": 0, \"ticks\": \"\"}, \"colorscale\": [[0.0, \"#0d0887\"], [0.1111111111111111, \"#46039f\"], [0.2222222222222222, \"#7201a8\"], [0.3333333333333333, \"#9c179e\"], [0.4444444444444444, \"#bd3786\"], [0.5555555555555556, \"#d8576b\"], [0.6666666666666666, \"#ed7953\"], [0.7777777777777778, \"#fb9f3a\"], [0.8888888888888888, \"#fdca26\"], [1.0, \"#f0f921\"]], \"type\": \"heatmap\"}], \"heatmapgl\": [{\"colorbar\": {\"outlinewidth\": 0, \"ticks\": \"\"}, \"colorscale\": [[0.0, \"#0d0887\"], [0.1111111111111111, \"#46039f\"], [0.2222222222222222, \"#7201a8\"], [0.3333333333333333, \"#9c179e\"], [0.4444444444444444, \"#bd3786\"], [0.5555555555555556, \"#d8576b\"], [0.6666666666666666, \"#ed7953\"], [0.7777777777777778, \"#fb9f3a\"], [0.8888888888888888, \"#fdca26\"], [1.0, \"#f0f921\"]], \"type\": \"heatmapgl\"}], \"histogram\": [{\"marker\": {\"colorbar\": {\"outlinewidth\": 0, \"ticks\": \"\"}}, \"type\": \"histogram\"}], \"histogram2d\": [{\"colorbar\": {\"outlinewidth\": 0, \"ticks\": \"\"}, \"colorscale\": [[0.0, \"#0d0887\"], [0.1111111111111111, \"#46039f\"], [0.2222222222222222, \"#7201a8\"], [0.3333333333333333, \"#9c179e\"], [0.4444444444444444, \"#bd3786\"], [0.5555555555555556, \"#d8576b\"], [0.6666666666666666, \"#ed7953\"], [0.7777777777777778, \"#fb9f3a\"], [0.8888888888888888, \"#fdca26\"], [1.0, \"#f0f921\"]], \"type\": \"histogram2d\"}], \"histogram2dcontour\": [{\"colorbar\": {\"outlinewidth\": 0, \"ticks\": \"\"}, \"colorscale\": [[0.0, \"#0d0887\"], [0.1111111111111111, \"#46039f\"], [0.2222222222222222, \"#7201a8\"], [0.3333333333333333, \"#9c179e\"], [0.4444444444444444, \"#bd3786\"], [0.5555555555555556, \"#d8576b\"], [0.6666666666666666, \"#ed7953\"], [0.7777777777777778, \"#fb9f3a\"], [0.8888888888888888, \"#fdca26\"], [1.0, \"#f0f921\"]], \"type\": \"histogram2dcontour\"}], \"mesh3d\": [{\"colorbar\": {\"outlinewidth\": 0, \"ticks\": \"\"}, \"type\": \"mesh3d\"}], \"parcoords\": [{\"line\": {\"colorbar\": {\"outlinewidth\": 0, \"ticks\": \"\"}}, \"type\": \"parcoords\"}], \"pie\": [{\"automargin\": true, \"type\": \"pie\"}], \"scatter\": [{\"marker\": {\"colorbar\": {\"outlinewidth\": 0, \"ticks\": \"\"}}, \"type\": \"scatter\"}], \"scatter3d\": [{\"line\": {\"colorbar\": {\"outlinewidth\": 0, \"ticks\": \"\"}}, \"marker\": {\"colorbar\": {\"outlinewidth\": 0, \"ticks\": \"\"}}, \"type\": \"scatter3d\"}], \"scattercarpet\": [{\"marker\": {\"colorbar\": {\"outlinewidth\": 0, \"ticks\": \"\"}}, \"type\": \"scattercarpet\"}], \"scattergeo\": [{\"marker\": {\"colorbar\": {\"outlinewidth\": 0, \"ticks\": \"\"}}, \"type\": \"scattergeo\"}], \"scattergl\": [{\"marker\": {\"colorbar\": {\"outlinewidth\": 0, \"ticks\": \"\"}}, \"type\": \"scattergl\"}], \"scattermapbox\": [{\"marker\": {\"colorbar\": {\"outlinewidth\": 0, \"ticks\": \"\"}}, \"type\": \"scattermapbox\"}], \"scatterpolar\": [{\"marker\": {\"colorbar\": {\"outlinewidth\": 0, \"ticks\": \"\"}}, \"type\": \"scatterpolar\"}], \"scatterpolargl\": [{\"marker\": {\"colorbar\": {\"outlinewidth\": 0, \"ticks\": \"\"}}, \"type\": \"scatterpolargl\"}], \"scatterternary\": [{\"marker\": {\"colorbar\": {\"outlinewidth\": 0, \"ticks\": \"\"}}, \"type\": \"scatterternary\"}], \"surface\": [{\"colorbar\": {\"outlinewidth\": 0, \"ticks\": \"\"}, \"colorscale\": [[0.0, \"#0d0887\"], [0.1111111111111111, \"#46039f\"], [0.2222222222222222, \"#7201a8\"], [0.3333333333333333, \"#9c179e\"], [0.4444444444444444, \"#bd3786\"], [0.5555555555555556, \"#d8576b\"], [0.6666666666666666, \"#ed7953\"], [0.7777777777777778, \"#fb9f3a\"], [0.8888888888888888, \"#fdca26\"], [1.0, \"#f0f921\"]], \"type\": \"surface\"}], \"table\": [{\"cells\": {\"fill\": {\"color\": \"#EBF0F8\"}, \"line\": {\"color\": \"white\"}}, \"header\": {\"fill\": {\"color\": \"#C8D4E3\"}, \"line\": {\"color\": \"white\"}}, \"type\": \"table\"}]}, \"layout\": {\"annotationdefaults\": {\"arrowcolor\": \"#2a3f5f\", \"arrowhead\": 0, \"arrowwidth\": 1}, \"coloraxis\": {\"colorbar\": {\"outlinewidth\": 0, \"ticks\": \"\"}}, \"colorscale\": {\"diverging\": [[0, \"#8e0152\"], [0.1, \"#c51b7d\"], [0.2, \"#de77ae\"], [0.3, \"#f1b6da\"], [0.4, \"#fde0ef\"], [0.5, \"#f7f7f7\"], [0.6, \"#e6f5d0\"], [0.7, \"#b8e186\"], [0.8, \"#7fbc41\"], [0.9, \"#4d9221\"], [1, \"#276419\"]], \"sequential\": [[0.0, \"#0d0887\"], [0.1111111111111111, \"#46039f\"], [0.2222222222222222, \"#7201a8\"], [0.3333333333333333, \"#9c179e\"], [0.4444444444444444, \"#bd3786\"], [0.5555555555555556, \"#d8576b\"], [0.6666666666666666, \"#ed7953\"], [0.7777777777777778, \"#fb9f3a\"], [0.8888888888888888, \"#fdca26\"], [1.0, \"#f0f921\"]], \"sequentialminus\": [[0.0, \"#0d0887\"], [0.1111111111111111, \"#46039f\"], [0.2222222222222222, \"#7201a8\"], [0.3333333333333333, \"#9c179e\"], [0.4444444444444444, \"#bd3786\"], [0.5555555555555556, \"#d8576b\"], [0.6666666666666666, \"#ed7953\"], [0.7777777777777778, \"#fb9f3a\"], [0.8888888888888888, \"#fdca26\"], [1.0, \"#f0f921\"]]}, \"colorway\": [\"#636efa\", \"#EF553B\", \"#00cc96\", \"#ab63fa\", \"#FFA15A\", \"#19d3f3\", \"#FF6692\", \"#B6E880\", \"#FF97FF\", \"#FECB52\"], \"font\": {\"color\": \"#2a3f5f\"}, \"geo\": {\"bgcolor\": \"white\", \"lakecolor\": \"white\", \"landcolor\": \"#E5ECF6\", \"showlakes\": true, \"showland\": true, \"subunitcolor\": \"white\"}, \"hoverlabel\": {\"align\": \"left\"}, \"hovermode\": \"closest\", \"mapbox\": {\"style\": \"light\"}, \"paper_bgcolor\": \"white\", \"plot_bgcolor\": \"#E5ECF6\", \"polar\": {\"angularaxis\": {\"gridcolor\": \"white\", \"linecolor\": \"white\", \"ticks\": \"\"}, \"bgcolor\": \"#E5ECF6\", \"radialaxis\": {\"gridcolor\": \"white\", \"linecolor\": \"white\", \"ticks\": \"\"}}, \"scene\": {\"xaxis\": {\"backgroundcolor\": \"#E5ECF6\", \"gridcolor\": \"white\", \"gridwidth\": 2, \"linecolor\": \"white\", \"showbackground\": true, \"ticks\": \"\", \"zerolinecolor\": \"white\"}, \"yaxis\": {\"backgroundcolor\": \"#E5ECF6\", \"gridcolor\": \"white\", \"gridwidth\": 2, \"linecolor\": \"white\", \"showbackground\": true, \"ticks\": \"\", \"zerolinecolor\": \"white\"}, \"zaxis\": {\"backgroundcolor\": \"#E5ECF6\", \"gridcolor\": \"white\", \"gridwidth\": 2, \"linecolor\": \"white\", \"showbackground\": true, \"ticks\": \"\", \"zerolinecolor\": \"white\"}}, \"shapedefaults\": {\"line\": {\"color\": \"#2a3f5f\"}}, \"ternary\": {\"aaxis\": {\"gridcolor\": \"white\", \"linecolor\": \"white\", \"ticks\": \"\"}, \"baxis\": {\"gridcolor\": \"white\", \"linecolor\": \"white\", \"ticks\": \"\"}, \"bgcolor\": \"#E5ECF6\", \"caxis\": {\"gridcolor\": \"white\", \"linecolor\": \"white\", \"ticks\": \"\"}}, \"title\": {\"x\": 0.05}, \"xaxis\": {\"automargin\": true, \"gridcolor\": \"white\", \"linecolor\": \"white\", \"ticks\": \"\", \"title\": {\"standoff\": 15}, \"zerolinecolor\": \"white\", \"zerolinewidth\": 2}, \"yaxis\": {\"automargin\": true, \"gridcolor\": \"white\", \"linecolor\": \"white\", \"ticks\": \"\", \"title\": {\"standoff\": 15}, \"zerolinecolor\": \"white\", \"zerolinewidth\": 2}}}},\n",
              "                        {\"responsive\": true}\n",
              "                    ).then(function(){\n",
              "                            \n",
              "var gd = document.getElementById('4c1d16b5-37ac-4999-aa08-f5a62e6cc17e');\n",
              "var x = new MutationObserver(function (mutations, observer) {{\n",
              "        var display = window.getComputedStyle(gd).display;\n",
              "        if (!display || display === 'none') {{\n",
              "            console.log([gd, 'removed!']);\n",
              "            Plotly.purge(gd);\n",
              "            observer.disconnect();\n",
              "        }}\n",
              "}});\n",
              "\n",
              "// Listen for the removal of the full notebook cells\n",
              "var notebookContainer = gd.closest('#notebook-container');\n",
              "if (notebookContainer) {{\n",
              "    x.observe(notebookContainer, {childList: true});\n",
              "}}\n",
              "\n",
              "// Listen for the clearing of the current output cell\n",
              "var outputEl = gd.closest('.output');\n",
              "if (outputEl) {{\n",
              "    x.observe(outputEl, {childList: true});\n",
              "}}\n",
              "\n",
              "                        })\n",
              "                };\n",
              "                \n",
              "            </script>\n",
              "        </div>\n",
              "</body>\n",
              "</html>"
            ]
          },
          "metadata": {
            "tags": []
          }
        }
      ]
    },
    {
      "cell_type": "markdown",
      "metadata": {
        "id": "z-JFut65SUDe",
        "colab_type": "text"
      },
      "source": [
        "## Category Table"
      ]
    },
    {
      "cell_type": "code",
      "metadata": {
        "id": "iSM_hJmPSqCo",
        "colab_type": "code",
        "colab": {}
      },
      "source": [
        "cat_data = {'Rank': [1,2,3,4,5,6,7,8,9,10,11,12,13,14,15],\n",
        "            'Category': ['Film & Video', 'Music', 'Publishing', 'Games', 'Technology', 'Design', 'Art',\n",
        "                                    'Food', 'Fashion', 'Theater', 'Comics','Photography', 'Crafts', 'Journalism', 'Dance'],\n",
        "            'Success_Rate': [37, 47, 31, 36, 20, 35, 41, 25, 25, 60, 54, 31, 24, 21, 62]}\n",
        "\n",
        "category = pd.DataFrame(cat_data)\n",
        "   "
      ],
      "execution_count": 140,
      "outputs": []
    },
    {
      "cell_type": "code",
      "metadata": {
        "id": "MSdeXaQbSXOn",
        "colab_type": "code",
        "colab": {
          "base_uri": "https://localhost:8080/",
          "height": 617
        },
        "outputId": "497470b2-c2b2-4fa8-9163-2d924c75f894"
      },
      "source": [
        "fig = go.Figure(data=[go.Table(\n",
        "    header=dict(values=list(category.columns),\n",
        "                fill_color='#3e87b7',\n",
        "                align='center',\n",
        "                font=dict(color='white', size=12)),\n",
        "    cells=dict(values=[category.Rank, category.Category, category.Success_Rate],\n",
        "               fill_color='lavender',\n",
        "               align='center'))\n",
        "])\n",
        "\n",
        "fig.update_layout(width=500, height=600)\n",
        "fig.show()"
      ],
      "execution_count": 141,
      "outputs": [
        {
          "output_type": "display_data",
          "data": {
            "text/html": [
              "<html>\n",
              "<head><meta charset=\"utf-8\" /></head>\n",
              "<body>\n",
              "    <div>\n",
              "            <script src=\"https://cdnjs.cloudflare.com/ajax/libs/mathjax/2.7.5/MathJax.js?config=TeX-AMS-MML_SVG\"></script><script type=\"text/javascript\">if (window.MathJax) {MathJax.Hub.Config({SVG: {font: \"STIX-Web\"}});}</script>\n",
              "                <script type=\"text/javascript\">window.PlotlyConfig = {MathJaxConfig: 'local'};</script>\n",
              "        <script src=\"https://cdn.plot.ly/plotly-latest.min.js\"></script>    \n",
              "            <div id=\"2c538a1b-dd6d-4ac7-98e0-17489694ca2d\" class=\"plotly-graph-div\" style=\"height:600px; width:500px;\"></div>\n",
              "            <script type=\"text/javascript\">\n",
              "                \n",
              "                    window.PLOTLYENV=window.PLOTLYENV || {};\n",
              "                    \n",
              "                if (document.getElementById(\"2c538a1b-dd6d-4ac7-98e0-17489694ca2d\")) {\n",
              "                    Plotly.newPlot(\n",
              "                        '2c538a1b-dd6d-4ac7-98e0-17489694ca2d',\n",
              "                        [{\"cells\": {\"align\": \"center\", \"fill\": {\"color\": \"lavender\"}, \"values\": [[1, 2, 3, 4, 5, 6, 7, 8, 9, 10, 11, 12, 13, 14, 15], [\"Film & Video\", \"Music\", \"Publishing\", \"Games\", \"Technology\", \"Design\", \"Art\", \"Food\", \"Fashion\", \"Theater\", \"Comics\", \"Photography\", \"Crafts\", \"Journalism\", \"Dance\"], [37, 47, 31, 36, 20, 35, 41, 25, 25, 60, 54, 31, 24, 21, 62]]}, \"header\": {\"align\": \"center\", \"fill\": {\"color\": \"#3e87b7\"}, \"font\": {\"color\": \"white\", \"size\": 12}, \"values\": [\"Rank\", \"Category\", \"Success_Rate\"]}, \"type\": \"table\"}],\n",
              "                        {\"height\": 600, \"template\": {\"data\": {\"bar\": [{\"error_x\": {\"color\": \"#2a3f5f\"}, \"error_y\": {\"color\": \"#2a3f5f\"}, \"marker\": {\"line\": {\"color\": \"#E5ECF6\", \"width\": 0.5}}, \"type\": \"bar\"}], \"barpolar\": [{\"marker\": {\"line\": {\"color\": \"#E5ECF6\", \"width\": 0.5}}, \"type\": \"barpolar\"}], \"carpet\": [{\"aaxis\": {\"endlinecolor\": \"#2a3f5f\", \"gridcolor\": \"white\", \"linecolor\": \"white\", \"minorgridcolor\": \"white\", \"startlinecolor\": \"#2a3f5f\"}, \"baxis\": {\"endlinecolor\": \"#2a3f5f\", \"gridcolor\": \"white\", \"linecolor\": \"white\", \"minorgridcolor\": \"white\", \"startlinecolor\": \"#2a3f5f\"}, \"type\": \"carpet\"}], \"choropleth\": [{\"colorbar\": {\"outlinewidth\": 0, \"ticks\": \"\"}, \"type\": \"choropleth\"}], \"contour\": [{\"colorbar\": {\"outlinewidth\": 0, \"ticks\": \"\"}, \"colorscale\": [[0.0, \"#0d0887\"], [0.1111111111111111, \"#46039f\"], [0.2222222222222222, \"#7201a8\"], [0.3333333333333333, \"#9c179e\"], [0.4444444444444444, \"#bd3786\"], [0.5555555555555556, \"#d8576b\"], [0.6666666666666666, \"#ed7953\"], [0.7777777777777778, \"#fb9f3a\"], [0.8888888888888888, \"#fdca26\"], [1.0, \"#f0f921\"]], \"type\": \"contour\"}], \"contourcarpet\": [{\"colorbar\": {\"outlinewidth\": 0, \"ticks\": \"\"}, \"type\": \"contourcarpet\"}], \"heatmap\": [{\"colorbar\": {\"outlinewidth\": 0, \"ticks\": \"\"}, \"colorscale\": [[0.0, \"#0d0887\"], [0.1111111111111111, \"#46039f\"], [0.2222222222222222, \"#7201a8\"], [0.3333333333333333, \"#9c179e\"], [0.4444444444444444, \"#bd3786\"], [0.5555555555555556, \"#d8576b\"], [0.6666666666666666, \"#ed7953\"], [0.7777777777777778, \"#fb9f3a\"], [0.8888888888888888, \"#fdca26\"], [1.0, \"#f0f921\"]], \"type\": \"heatmap\"}], \"heatmapgl\": [{\"colorbar\": {\"outlinewidth\": 0, \"ticks\": \"\"}, \"colorscale\": [[0.0, \"#0d0887\"], [0.1111111111111111, \"#46039f\"], [0.2222222222222222, \"#7201a8\"], [0.3333333333333333, \"#9c179e\"], [0.4444444444444444, \"#bd3786\"], [0.5555555555555556, \"#d8576b\"], [0.6666666666666666, \"#ed7953\"], [0.7777777777777778, \"#fb9f3a\"], [0.8888888888888888, \"#fdca26\"], [1.0, \"#f0f921\"]], \"type\": \"heatmapgl\"}], \"histogram\": [{\"marker\": {\"colorbar\": {\"outlinewidth\": 0, \"ticks\": \"\"}}, \"type\": \"histogram\"}], \"histogram2d\": [{\"colorbar\": {\"outlinewidth\": 0, \"ticks\": \"\"}, \"colorscale\": [[0.0, \"#0d0887\"], [0.1111111111111111, \"#46039f\"], [0.2222222222222222, \"#7201a8\"], [0.3333333333333333, \"#9c179e\"], [0.4444444444444444, \"#bd3786\"], [0.5555555555555556, \"#d8576b\"], [0.6666666666666666, \"#ed7953\"], [0.7777777777777778, \"#fb9f3a\"], [0.8888888888888888, \"#fdca26\"], [1.0, \"#f0f921\"]], \"type\": \"histogram2d\"}], \"histogram2dcontour\": [{\"colorbar\": {\"outlinewidth\": 0, \"ticks\": \"\"}, \"colorscale\": [[0.0, \"#0d0887\"], [0.1111111111111111, \"#46039f\"], [0.2222222222222222, \"#7201a8\"], [0.3333333333333333, \"#9c179e\"], [0.4444444444444444, \"#bd3786\"], [0.5555555555555556, \"#d8576b\"], [0.6666666666666666, \"#ed7953\"], [0.7777777777777778, \"#fb9f3a\"], [0.8888888888888888, \"#fdca26\"], [1.0, \"#f0f921\"]], \"type\": \"histogram2dcontour\"}], \"mesh3d\": [{\"colorbar\": {\"outlinewidth\": 0, \"ticks\": \"\"}, \"type\": \"mesh3d\"}], \"parcoords\": [{\"line\": {\"colorbar\": {\"outlinewidth\": 0, \"ticks\": \"\"}}, \"type\": \"parcoords\"}], \"pie\": [{\"automargin\": true, \"type\": \"pie\"}], \"scatter\": [{\"marker\": {\"colorbar\": {\"outlinewidth\": 0, \"ticks\": \"\"}}, \"type\": \"scatter\"}], \"scatter3d\": [{\"line\": {\"colorbar\": {\"outlinewidth\": 0, \"ticks\": \"\"}}, \"marker\": {\"colorbar\": {\"outlinewidth\": 0, \"ticks\": \"\"}}, \"type\": \"scatter3d\"}], \"scattercarpet\": [{\"marker\": {\"colorbar\": {\"outlinewidth\": 0, \"ticks\": \"\"}}, \"type\": \"scattercarpet\"}], \"scattergeo\": [{\"marker\": {\"colorbar\": {\"outlinewidth\": 0, \"ticks\": \"\"}}, \"type\": \"scattergeo\"}], \"scattergl\": [{\"marker\": {\"colorbar\": {\"outlinewidth\": 0, \"ticks\": \"\"}}, \"type\": \"scattergl\"}], \"scattermapbox\": [{\"marker\": {\"colorbar\": {\"outlinewidth\": 0, \"ticks\": \"\"}}, \"type\": \"scattermapbox\"}], \"scatterpolar\": [{\"marker\": {\"colorbar\": {\"outlinewidth\": 0, \"ticks\": \"\"}}, \"type\": \"scatterpolar\"}], \"scatterpolargl\": [{\"marker\": {\"colorbar\": {\"outlinewidth\": 0, \"ticks\": \"\"}}, \"type\": \"scatterpolargl\"}], \"scatterternary\": [{\"marker\": {\"colorbar\": {\"outlinewidth\": 0, \"ticks\": \"\"}}, \"type\": \"scatterternary\"}], \"surface\": [{\"colorbar\": {\"outlinewidth\": 0, \"ticks\": \"\"}, \"colorscale\": [[0.0, \"#0d0887\"], [0.1111111111111111, \"#46039f\"], [0.2222222222222222, \"#7201a8\"], [0.3333333333333333, \"#9c179e\"], [0.4444444444444444, \"#bd3786\"], [0.5555555555555556, \"#d8576b\"], [0.6666666666666666, \"#ed7953\"], [0.7777777777777778, \"#fb9f3a\"], [0.8888888888888888, \"#fdca26\"], [1.0, \"#f0f921\"]], \"type\": \"surface\"}], \"table\": [{\"cells\": {\"fill\": {\"color\": \"#EBF0F8\"}, \"line\": {\"color\": \"white\"}}, \"header\": {\"fill\": {\"color\": \"#C8D4E3\"}, \"line\": {\"color\": \"white\"}}, \"type\": \"table\"}]}, \"layout\": {\"annotationdefaults\": {\"arrowcolor\": \"#2a3f5f\", \"arrowhead\": 0, \"arrowwidth\": 1}, \"coloraxis\": {\"colorbar\": {\"outlinewidth\": 0, \"ticks\": \"\"}}, \"colorscale\": {\"diverging\": [[0, \"#8e0152\"], [0.1, \"#c51b7d\"], [0.2, \"#de77ae\"], [0.3, \"#f1b6da\"], [0.4, \"#fde0ef\"], [0.5, \"#f7f7f7\"], [0.6, \"#e6f5d0\"], [0.7, \"#b8e186\"], [0.8, \"#7fbc41\"], [0.9, \"#4d9221\"], [1, \"#276419\"]], \"sequential\": [[0.0, \"#0d0887\"], [0.1111111111111111, \"#46039f\"], [0.2222222222222222, \"#7201a8\"], [0.3333333333333333, \"#9c179e\"], [0.4444444444444444, \"#bd3786\"], [0.5555555555555556, \"#d8576b\"], [0.6666666666666666, \"#ed7953\"], [0.7777777777777778, \"#fb9f3a\"], [0.8888888888888888, \"#fdca26\"], [1.0, \"#f0f921\"]], \"sequentialminus\": [[0.0, \"#0d0887\"], [0.1111111111111111, \"#46039f\"], [0.2222222222222222, \"#7201a8\"], [0.3333333333333333, \"#9c179e\"], [0.4444444444444444, \"#bd3786\"], [0.5555555555555556, \"#d8576b\"], [0.6666666666666666, \"#ed7953\"], [0.7777777777777778, \"#fb9f3a\"], [0.8888888888888888, \"#fdca26\"], [1.0, \"#f0f921\"]]}, \"colorway\": [\"#636efa\", \"#EF553B\", \"#00cc96\", \"#ab63fa\", \"#FFA15A\", \"#19d3f3\", \"#FF6692\", \"#B6E880\", \"#FF97FF\", \"#FECB52\"], \"font\": {\"color\": \"#2a3f5f\"}, \"geo\": {\"bgcolor\": \"white\", \"lakecolor\": \"white\", \"landcolor\": \"#E5ECF6\", \"showlakes\": true, \"showland\": true, \"subunitcolor\": \"white\"}, \"hoverlabel\": {\"align\": \"left\"}, \"hovermode\": \"closest\", \"mapbox\": {\"style\": \"light\"}, \"paper_bgcolor\": \"white\", \"plot_bgcolor\": \"#E5ECF6\", \"polar\": {\"angularaxis\": {\"gridcolor\": \"white\", \"linecolor\": \"white\", \"ticks\": \"\"}, \"bgcolor\": \"#E5ECF6\", \"radialaxis\": {\"gridcolor\": \"white\", \"linecolor\": \"white\", \"ticks\": \"\"}}, \"scene\": {\"xaxis\": {\"backgroundcolor\": \"#E5ECF6\", \"gridcolor\": \"white\", \"gridwidth\": 2, \"linecolor\": \"white\", \"showbackground\": true, \"ticks\": \"\", \"zerolinecolor\": \"white\"}, \"yaxis\": {\"backgroundcolor\": \"#E5ECF6\", \"gridcolor\": \"white\", \"gridwidth\": 2, \"linecolor\": \"white\", \"showbackground\": true, \"ticks\": \"\", \"zerolinecolor\": \"white\"}, \"zaxis\": {\"backgroundcolor\": \"#E5ECF6\", \"gridcolor\": \"white\", \"gridwidth\": 2, \"linecolor\": \"white\", \"showbackground\": true, \"ticks\": \"\", \"zerolinecolor\": \"white\"}}, \"shapedefaults\": {\"line\": {\"color\": \"#2a3f5f\"}}, \"ternary\": {\"aaxis\": {\"gridcolor\": \"white\", \"linecolor\": \"white\", \"ticks\": \"\"}, \"baxis\": {\"gridcolor\": \"white\", \"linecolor\": \"white\", \"ticks\": \"\"}, \"bgcolor\": \"#E5ECF6\", \"caxis\": {\"gridcolor\": \"white\", \"linecolor\": \"white\", \"ticks\": \"\"}}, \"title\": {\"x\": 0.05}, \"xaxis\": {\"automargin\": true, \"gridcolor\": \"white\", \"linecolor\": \"white\", \"ticks\": \"\", \"title\": {\"standoff\": 15}, \"zerolinecolor\": \"white\", \"zerolinewidth\": 2}, \"yaxis\": {\"automargin\": true, \"gridcolor\": \"white\", \"linecolor\": \"white\", \"ticks\": \"\", \"title\": {\"standoff\": 15}, \"zerolinecolor\": \"white\", \"zerolinewidth\": 2}}}, \"width\": 500},\n",
              "                        {\"responsive\": true}\n",
              "                    ).then(function(){\n",
              "                            \n",
              "var gd = document.getElementById('2c538a1b-dd6d-4ac7-98e0-17489694ca2d');\n",
              "var x = new MutationObserver(function (mutations, observer) {{\n",
              "        var display = window.getComputedStyle(gd).display;\n",
              "        if (!display || display === 'none') {{\n",
              "            console.log([gd, 'removed!']);\n",
              "            Plotly.purge(gd);\n",
              "            observer.disconnect();\n",
              "        }}\n",
              "}});\n",
              "\n",
              "// Listen for the removal of the full notebook cells\n",
              "var notebookContainer = gd.closest('#notebook-container');\n",
              "if (notebookContainer) {{\n",
              "    x.observe(notebookContainer, {childList: true});\n",
              "}}\n",
              "\n",
              "// Listen for the clearing of the current output cell\n",
              "var outputEl = gd.closest('.output');\n",
              "if (outputEl) {{\n",
              "    x.observe(outputEl, {childList: true});\n",
              "}}\n",
              "\n",
              "                        })\n",
              "                };\n",
              "                \n",
              "            </script>\n",
              "        </div>\n",
              "</body>\n",
              "</html>"
            ]
          },
          "metadata": {
            "tags": []
          }
        }
      ]
    },
    {
      "cell_type": "markdown",
      "metadata": {
        "id": "w1ORMmsIVbXj",
        "colab_type": "text"
      },
      "source": [
        "## Main Category Success Rates"
      ]
    },
    {
      "cell_type": "code",
      "metadata": {
        "id": "48e1wlxNV7VZ",
        "colab_type": "code",
        "colab": {
          "base_uri": "https://localhost:8080/",
          "height": 102
        },
        "outputId": "d0dfebb3-014d-4056-f9a3-110cc486e58f"
      },
      "source": [
        "#Film and Video Success Rate\n",
        "fvsr1 = successful[FV]\n",
        "fvsr2 = ks[FV]\n",
        "fv = len(fvsr1.index) / len(fvsr2.index)\n",
        "fv"
      ],
      "execution_count": 142,
      "outputs": [
        {
          "output_type": "stream",
          "text": [
            "/usr/local/lib/python3.6/dist-packages/ipykernel_launcher.py:2: UserWarning:\n",
            "\n",
            "Boolean Series key will be reindexed to match DataFrame index.\n",
            "\n"
          ],
          "name": "stderr"
        },
        {
          "output_type": "execute_result",
          "data": {
            "text/plain": [
              "0.3715184398836204"
            ]
          },
          "metadata": {
            "tags": []
          },
          "execution_count": 142
        }
      ]
    },
    {
      "cell_type": "code",
      "metadata": {
        "id": "KIx5MJLKWsYJ",
        "colab_type": "code",
        "colab": {
          "base_uri": "https://localhost:8080/",
          "height": 102
        },
        "outputId": "8450b964-8be2-4a5f-856c-54d572f7fe30"
      },
      "source": [
        "#Music Success Rate\n",
        "msr1 = successful[M]\n",
        "msr2 = ks[M]\n",
        "m = len(msr1.index) / len(msr2.index)\n",
        "m"
      ],
      "execution_count": 145,
      "outputs": [
        {
          "output_type": "stream",
          "text": [
            "/usr/local/lib/python3.6/dist-packages/ipykernel_launcher.py:2: UserWarning:\n",
            "\n",
            "Boolean Series key will be reindexed to match DataFrame index.\n",
            "\n"
          ],
          "name": "stderr"
        },
        {
          "output_type": "execute_result",
          "data": {
            "text/plain": [
              "0.466061866789938"
            ]
          },
          "metadata": {
            "tags": []
          },
          "execution_count": 145
        }
      ]
    },
    {
      "cell_type": "code",
      "metadata": {
        "id": "FwvSAOWiXDpJ",
        "colab_type": "code",
        "colab": {
          "base_uri": "https://localhost:8080/",
          "height": 102
        },
        "outputId": "a812254a-92e5-40d9-a36c-8b91235763cf"
      },
      "source": [
        "#Publishing Success Rate\n",
        "psr1 = successful[P]\n",
        "psr2 = ks[P]\n",
        "len(psr1.index)/len(psr2.index)"
      ],
      "execution_count": 146,
      "outputs": [
        {
          "output_type": "stream",
          "text": [
            "/usr/local/lib/python3.6/dist-packages/ipykernel_launcher.py:2: UserWarning:\n",
            "\n",
            "Boolean Series key will be reindexed to match DataFrame index.\n",
            "\n"
          ],
          "name": "stderr"
        },
        {
          "output_type": "execute_result",
          "data": {
            "text/plain": [
              "0.30847168581030243"
            ]
          },
          "metadata": {
            "tags": []
          },
          "execution_count": 146
        }
      ]
    },
    {
      "cell_type": "code",
      "metadata": {
        "id": "uIAFerL7XWqh",
        "colab_type": "code",
        "colab": {
          "base_uri": "https://localhost:8080/",
          "height": 102
        },
        "outputId": "c299741d-9c0c-479c-cf03-adb1b357a44d"
      },
      "source": [
        "#Games Success Rate\n",
        "gsr1 = successful[G]\n",
        "gsr2 = ks[G]\n",
        "len(gsr1.index)/len(gsr2.index)"
      ],
      "execution_count": 147,
      "outputs": [
        {
          "output_type": "stream",
          "text": [
            "/usr/local/lib/python3.6/dist-packages/ipykernel_launcher.py:2: UserWarning:\n",
            "\n",
            "Boolean Series key will be reindexed to match DataFrame index.\n",
            "\n"
          ],
          "name": "stderr"
        },
        {
          "output_type": "execute_result",
          "data": {
            "text/plain": [
              "0.35531208310862594"
            ]
          },
          "metadata": {
            "tags": []
          },
          "execution_count": 147
        }
      ]
    },
    {
      "cell_type": "code",
      "metadata": {
        "id": "t79rVaeNZ1eq",
        "colab_type": "code",
        "colab": {
          "base_uri": "https://localhost:8080/",
          "height": 102
        },
        "outputId": "91070505-f9d3-46a4-8955-26b3401cfa74"
      },
      "source": [
        "#Technology Success Rate\n",
        "tsr1 = successful[T]\n",
        "tsr2 = ks[T]\n",
        "len(tsr1.index)/len(tsr2.index)"
      ],
      "execution_count": 148,
      "outputs": [
        {
          "output_type": "stream",
          "text": [
            "/usr/local/lib/python3.6/dist-packages/ipykernel_launcher.py:2: UserWarning:\n",
            "\n",
            "Boolean Series key will be reindexed to match DataFrame index.\n",
            "\n"
          ],
          "name": "stderr"
        },
        {
          "output_type": "execute_result",
          "data": {
            "text/plain": [
              "0.19754981731093985"
            ]
          },
          "metadata": {
            "tags": []
          },
          "execution_count": 148
        }
      ]
    },
    {
      "cell_type": "code",
      "metadata": {
        "id": "3nDGempUaMQO",
        "colab_type": "code",
        "colab": {
          "base_uri": "https://localhost:8080/",
          "height": 102
        },
        "outputId": "a0476382-4bd8-4fd2-d974-da6eebaa9981"
      },
      "source": [
        "#Design Success Rate\n",
        "dsr1 = successful[D]\n",
        "dsr2 = ks[D]\n",
        "len(dsr1.index)/len(dsr2.index)"
      ],
      "execution_count": 149,
      "outputs": [
        {
          "output_type": "stream",
          "text": [
            "/usr/local/lib/python3.6/dist-packages/ipykernel_launcher.py:2: UserWarning:\n",
            "\n",
            "Boolean Series key will be reindexed to match DataFrame index.\n",
            "\n"
          ],
          "name": "stderr"
        },
        {
          "output_type": "execute_result",
          "data": {
            "text/plain": [
              "0.35084802128367143"
            ]
          },
          "metadata": {
            "tags": []
          },
          "execution_count": 149
        }
      ]
    },
    {
      "cell_type": "code",
      "metadata": {
        "id": "UpBJFbA5a2tn",
        "colab_type": "code",
        "colab": {
          "base_uri": "https://localhost:8080/",
          "height": 102
        },
        "outputId": "995f60e4-c4a9-49be-bb19-8c4d2e505055"
      },
      "source": [
        "#Art Success Rate\n",
        "asr1 = successful[A]\n",
        "asr2 = ks[A]\n",
        "len(asr1.index)/len(asr2.index)"
      ],
      "execution_count": null,
      "outputs": [
        {
          "output_type": "stream",
          "text": [
            "/usr/local/lib/python3.6/dist-packages/ipykernel_launcher.py:2: UserWarning:\n",
            "\n",
            "Boolean Series key will be reindexed to match DataFrame index.\n",
            "\n"
          ],
          "name": "stderr"
        },
        {
          "output_type": "execute_result",
          "data": {
            "text/plain": [
              "0.408837424075587"
            ]
          },
          "metadata": {
            "tags": []
          },
          "execution_count": 80
        }
      ]
    },
    {
      "cell_type": "code",
      "metadata": {
        "id": "M1elGlCBbMwW",
        "colab_type": "code",
        "colab": {
          "base_uri": "https://localhost:8080/",
          "height": 102
        },
        "outputId": "2c7a3824-f4fc-4054-95dc-e7afc97db48b"
      },
      "source": [
        "#Food Success Rate\n",
        "fosr1 = successful[Fo]\n",
        "fosr2 = ks[Fo]\n",
        "len(fosr1.index)/len(fosr2.index)"
      ],
      "execution_count": 150,
      "outputs": [
        {
          "output_type": "stream",
          "text": [
            "/usr/local/lib/python3.6/dist-packages/ipykernel_launcher.py:2: UserWarning:\n",
            "\n",
            "Boolean Series key will be reindexed to match DataFrame index.\n",
            "\n"
          ],
          "name": "stderr"
        },
        {
          "output_type": "execute_result",
          "data": {
            "text/plain": [
              "0.24733761482806277"
            ]
          },
          "metadata": {
            "tags": []
          },
          "execution_count": 150
        }
      ]
    },
    {
      "cell_type": "code",
      "metadata": {
        "id": "fEdJJYtkb9Im",
        "colab_type": "code",
        "colab": {
          "base_uri": "https://localhost:8080/",
          "height": 102
        },
        "outputId": "65fdbb3e-da6e-4695-ba8d-415beca20251"
      },
      "source": [
        "#Fashion Success Rate\n",
        "fasr1 = successful[Fa]\n",
        "fasr2 = ks[Fa]\n",
        "len(fasr1.index)/len(fasr2.index)"
      ],
      "execution_count": 151,
      "outputs": [
        {
          "output_type": "stream",
          "text": [
            "/usr/local/lib/python3.6/dist-packages/ipykernel_launcher.py:2: UserWarning:\n",
            "\n",
            "Boolean Series key will be reindexed to match DataFrame index.\n",
            "\n"
          ],
          "name": "stderr"
        },
        {
          "output_type": "execute_result",
          "data": {
            "text/plain": [
              "0.2451349929873773"
            ]
          },
          "metadata": {
            "tags": []
          },
          "execution_count": 151
        }
      ]
    },
    {
      "cell_type": "code",
      "metadata": {
        "id": "ROBAWpqscpuA",
        "colab_type": "code",
        "colab": {
          "base_uri": "https://localhost:8080/",
          "height": 102
        },
        "outputId": "e6f7f882-acc4-422f-a686-649ae0c44c3f"
      },
      "source": [
        "#Theater Success Rate\n",
        "thsr1 = successful[Th]\n",
        "thsr2 = ks[Th]\n",
        "len(thsr1.index)/len(thsr2.index)"
      ],
      "execution_count": 152,
      "outputs": [
        {
          "output_type": "stream",
          "text": [
            "/usr/local/lib/python3.6/dist-packages/ipykernel_launcher.py:2: UserWarning:\n",
            "\n",
            "Boolean Series key will be reindexed to match DataFrame index.\n",
            "\n"
          ],
          "name": "stderr"
        },
        {
          "output_type": "execute_result",
          "data": {
            "text/plain": [
              "0.5987354531292953"
            ]
          },
          "metadata": {
            "tags": []
          },
          "execution_count": 152
        }
      ]
    },
    {
      "cell_type": "code",
      "metadata": {
        "id": "QpBUkPqWdGIG",
        "colab_type": "code",
        "colab": {
          "base_uri": "https://localhost:8080/",
          "height": 102
        },
        "outputId": "4d332dfd-9b60-4d89-e476-ec0380b03a2d"
      },
      "source": [
        "#Comic Success Rate\n",
        "cosr1 = successful[Co]\n",
        "cosr2 = ks[Co]\n",
        "len(cosr1.index)/len(cosr2.index)"
      ],
      "execution_count": 153,
      "outputs": [
        {
          "output_type": "stream",
          "text": [
            "/usr/local/lib/python3.6/dist-packages/ipykernel_launcher.py:2: UserWarning:\n",
            "\n",
            "Boolean Series key will be reindexed to match DataFrame index.\n",
            "\n"
          ],
          "name": "stderr"
        },
        {
          "output_type": "execute_result",
          "data": {
            "text/plain": [
              "0.5399759682040854"
            ]
          },
          "metadata": {
            "tags": []
          },
          "execution_count": 153
        }
      ]
    },
    {
      "cell_type": "code",
      "metadata": {
        "id": "Py0E2fFxdF-l",
        "colab_type": "code",
        "colab": {
          "base_uri": "https://localhost:8080/",
          "height": 102
        },
        "outputId": "45588f6f-fffe-4aaf-fa6a-dc89862ee622"
      },
      "source": [
        "#Photography Success Rate\n",
        "phsr1 = successful[Ph]\n",
        "phsr2 = ks[Ph]\n",
        "len(phsr1.index)/len(phsr2.index)"
      ],
      "execution_count": 154,
      "outputs": [
        {
          "output_type": "stream",
          "text": [
            "/usr/local/lib/python3.6/dist-packages/ipykernel_launcher.py:2: UserWarning:\n",
            "\n",
            "Boolean Series key will be reindexed to match DataFrame index.\n",
            "\n"
          ],
          "name": "stderr"
        },
        {
          "output_type": "execute_result",
          "data": {
            "text/plain": [
              "0.3066147137953428"
            ]
          },
          "metadata": {
            "tags": []
          },
          "execution_count": 154
        }
      ]
    },
    {
      "cell_type": "code",
      "metadata": {
        "id": "MIHbswXCdF1N",
        "colab_type": "code",
        "colab": {
          "base_uri": "https://localhost:8080/",
          "height": 102
        },
        "outputId": "b9f793f6-0af1-4075-9452-4abb099f0e19"
      },
      "source": [
        "#Crafts Success Rate\n",
        "crsr1 = successful[Cr]\n",
        "crsr2 = ks[Cr]\n",
        "len(crsr1.index)/len(crsr2.index)"
      ],
      "execution_count": 155,
      "outputs": [
        {
          "output_type": "stream",
          "text": [
            "/usr/local/lib/python3.6/dist-packages/ipykernel_launcher.py:2: UserWarning:\n",
            "\n",
            "Boolean Series key will be reindexed to match DataFrame index.\n",
            "\n"
          ],
          "name": "stderr"
        },
        {
          "output_type": "execute_result",
          "data": {
            "text/plain": [
              "0.24009535702122828"
            ]
          },
          "metadata": {
            "tags": []
          },
          "execution_count": 155
        }
      ]
    },
    {
      "cell_type": "code",
      "metadata": {
        "id": "FYzTLZvCdFqO",
        "colab_type": "code",
        "colab": {
          "base_uri": "https://localhost:8080/",
          "height": 102
        },
        "outputId": "4bb54ba9-6522-4bda-d12e-4ae536c2c16e"
      },
      "source": [
        "#Journalism Success Rate\n",
        "jsr1 = successful[J]\n",
        "jsr2 = ks[J]\n",
        "len(jsr1.index)/len(jsr2.index)"
      ],
      "execution_count": 156,
      "outputs": [
        {
          "output_type": "stream",
          "text": [
            "/usr/local/lib/python3.6/dist-packages/ipykernel_launcher.py:2: UserWarning:\n",
            "\n",
            "Boolean Series key will be reindexed to match DataFrame index.\n",
            "\n"
          ],
          "name": "stderr"
        },
        {
          "output_type": "execute_result",
          "data": {
            "text/plain": [
              "0.2128286014721346"
            ]
          },
          "metadata": {
            "tags": []
          },
          "execution_count": 156
        }
      ]
    },
    {
      "cell_type": "code",
      "metadata": {
        "id": "eYDbGAHLdFZ9",
        "colab_type": "code",
        "colab": {
          "base_uri": "https://localhost:8080/",
          "height": 102
        },
        "outputId": "026e5657-35e3-4ccd-ab23-3eed2e4f078b"
      },
      "source": [
        "#Dance Success Rate\n",
        "dasr1 = successful[Da]\n",
        "dasr2 = ks[Da]\n",
        "len(dasr1.index)/len(dasr2.index)"
      ],
      "execution_count": 157,
      "outputs": [
        {
          "output_type": "stream",
          "text": [
            "/usr/local/lib/python3.6/dist-packages/ipykernel_launcher.py:2: UserWarning:\n",
            "\n",
            "Boolean Series key will be reindexed to match DataFrame index.\n",
            "\n"
          ],
          "name": "stderr"
        },
        {
          "output_type": "execute_result",
          "data": {
            "text/plain": [
              "0.6204883227176221"
            ]
          },
          "metadata": {
            "tags": []
          },
          "execution_count": 157
        }
      ]
    },
    {
      "cell_type": "code",
      "metadata": {
        "id": "g55urcMSkqzX",
        "colab_type": "code",
        "colab": {}
      },
      "source": [
        "#Main Categorical Success Rate Database\n",
        "main_cat_sr = {'Main_Cat': ['Film & Video', 'Music', 'Publishing', 'Games', 'Technology', 'Design', 'Art',\n",
        "                                    'Food', 'Fashion', 'Theater', 'Comics','Photography', 'Crafts', 'Journalism', 'Dance'],\n",
        "                'Success_Rate_%': [37, 46, 30, 35, 19, 35, 40, 24, 24, 59, 53, 30, 24, 21, 62]}\n",
        "\n",
        "Main = pd.DataFrame(main_cat_sr)\n"
      ],
      "execution_count": 158,
      "outputs": []
    },
    {
      "cell_type": "code",
      "metadata": {
        "id": "dtbgniGPouAZ",
        "colab_type": "code",
        "colab": {
          "base_uri": "https://localhost:8080/",
          "height": 514
        },
        "outputId": "9b5d97f8-a66f-4452-bd9b-8588983736ab"
      },
      "source": [
        "Main.head(15)"
      ],
      "execution_count": 159,
      "outputs": [
        {
          "output_type": "execute_result",
          "data": {
            "text/html": [
              "<div>\n",
              "<style scoped>\n",
              "    .dataframe tbody tr th:only-of-type {\n",
              "        vertical-align: middle;\n",
              "    }\n",
              "\n",
              "    .dataframe tbody tr th {\n",
              "        vertical-align: top;\n",
              "    }\n",
              "\n",
              "    .dataframe thead th {\n",
              "        text-align: right;\n",
              "    }\n",
              "</style>\n",
              "<table border=\"1\" class=\"dataframe\">\n",
              "  <thead>\n",
              "    <tr style=\"text-align: right;\">\n",
              "      <th></th>\n",
              "      <th>Main_Cat</th>\n",
              "      <th>Success_Rate_%</th>\n",
              "    </tr>\n",
              "  </thead>\n",
              "  <tbody>\n",
              "    <tr>\n",
              "      <th>0</th>\n",
              "      <td>Film &amp; Video</td>\n",
              "      <td>37</td>\n",
              "    </tr>\n",
              "    <tr>\n",
              "      <th>1</th>\n",
              "      <td>Music</td>\n",
              "      <td>46</td>\n",
              "    </tr>\n",
              "    <tr>\n",
              "      <th>2</th>\n",
              "      <td>Publishing</td>\n",
              "      <td>30</td>\n",
              "    </tr>\n",
              "    <tr>\n",
              "      <th>3</th>\n",
              "      <td>Games</td>\n",
              "      <td>35</td>\n",
              "    </tr>\n",
              "    <tr>\n",
              "      <th>4</th>\n",
              "      <td>Technology</td>\n",
              "      <td>19</td>\n",
              "    </tr>\n",
              "    <tr>\n",
              "      <th>5</th>\n",
              "      <td>Design</td>\n",
              "      <td>35</td>\n",
              "    </tr>\n",
              "    <tr>\n",
              "      <th>6</th>\n",
              "      <td>Art</td>\n",
              "      <td>40</td>\n",
              "    </tr>\n",
              "    <tr>\n",
              "      <th>7</th>\n",
              "      <td>Food</td>\n",
              "      <td>24</td>\n",
              "    </tr>\n",
              "    <tr>\n",
              "      <th>8</th>\n",
              "      <td>Fashion</td>\n",
              "      <td>24</td>\n",
              "    </tr>\n",
              "    <tr>\n",
              "      <th>9</th>\n",
              "      <td>Theater</td>\n",
              "      <td>59</td>\n",
              "    </tr>\n",
              "    <tr>\n",
              "      <th>10</th>\n",
              "      <td>Comics</td>\n",
              "      <td>53</td>\n",
              "    </tr>\n",
              "    <tr>\n",
              "      <th>11</th>\n",
              "      <td>Photography</td>\n",
              "      <td>30</td>\n",
              "    </tr>\n",
              "    <tr>\n",
              "      <th>12</th>\n",
              "      <td>Crafts</td>\n",
              "      <td>24</td>\n",
              "    </tr>\n",
              "    <tr>\n",
              "      <th>13</th>\n",
              "      <td>Journalism</td>\n",
              "      <td>21</td>\n",
              "    </tr>\n",
              "    <tr>\n",
              "      <th>14</th>\n",
              "      <td>Dance</td>\n",
              "      <td>62</td>\n",
              "    </tr>\n",
              "  </tbody>\n",
              "</table>\n",
              "</div>"
            ],
            "text/plain": [
              "        Main_Cat  Success_Rate_%\n",
              "0   Film & Video              37\n",
              "1          Music              46\n",
              "2     Publishing              30\n",
              "3          Games              35\n",
              "4     Technology              19\n",
              "5         Design              35\n",
              "6            Art              40\n",
              "7           Food              24\n",
              "8        Fashion              24\n",
              "9        Theater              59\n",
              "10        Comics              53\n",
              "11   Photography              30\n",
              "12        Crafts              24\n",
              "13    Journalism              21\n",
              "14         Dance              62"
            ]
          },
          "metadata": {
            "tags": []
          },
          "execution_count": 159
        }
      ]
    },
    {
      "cell_type": "code",
      "metadata": {
        "id": "_O9qHMflo3YH",
        "colab_type": "code",
        "colab": {
          "base_uri": "https://localhost:8080/",
          "height": 265
        },
        "outputId": "f9cc2eed-09a6-4d8f-f7bd-de76e472efd3"
      },
      "source": [
        "Main.plot()\n",
        "plt.show()"
      ],
      "execution_count": 160,
      "outputs": [
        {
          "output_type": "display_data",
          "data": {
            "image/png": "[encoded data removed]",
            "text/plain": [
              "<Figure size 432x288 with 1 Axes>"
            ]
          },
          "metadata": {
            "tags": [],
            "needs_background": "light"
          }
        }
      ]
    },
    {
      "cell_type": "markdown",
      "metadata": {
        "id": "YYi5aopd9KLq",
        "colab_type": "text"
      },
      "source": [
        "## Location Conditions"
      ]
    },
    {
      "cell_type": "code",
      "metadata": {
        "id": "ZTG40CF8hL8M",
        "colab_type": "code",
        "colab": {}
      },
      "source": [
        "#Country Conditions\n",
        "US = ks['country']=='United States'\n",
        "GB = ks['country']=='United Kingdom'\n",
        "CA = ks['country']=='Canada'\n",
        "AU = ks['country']=='Australia'\n",
        "DE = ks['country']=='Germany'\n",
        "\n",
        "FR = ks['country']=='France'\n",
        "IT = ks['country']=='Italy'\n",
        "NL = ks['country']=='Netherlands'\n",
        "ES = ks['country']=='Spain'\n",
        "SE = ks['country']=='Sweden'\n",
        "\n",
        "MX = ks['country']=='Mexico'\n",
        "NZ = ks['country']=='New Zealand'\n",
        "DK = ks['country']=='Denmark'\n",
        "IE = ks['country']=='Ireland'\n",
        "CH = ks['country']=='Switzerland'\n",
        "\n",
        "NO = ks['country']=='Norway'\n",
        "HK = ks['country']=='Hong Kong'\n",
        "BE = ks['country']=='Belgium'\n",
        "AT = ks['country']=='Austria'\n",
        "SG = ks['country']=='Singapore'\n",
        "\n",
        "LU = ks['country']=='Luxembourg'\n",
        "JP = ks['country']=='Japan'\n",
        "UK = ks['country']=='Unknown'"
      ],
      "execution_count": 161,
      "outputs": []
    },
    {
      "cell_type": "code",
      "metadata": {
        "id": "Q6Xb29iv_ek3",
        "colab_type": "code",
        "colab": {
          "base_uri": "https://localhost:8080/",
          "height": 119
        },
        "outputId": "c1975485-2ea0-411e-d9c6-e469bfea88fb"
      },
      "source": [
        "#US Success Rate\n",
        "usks1 = successful[US]\n",
        "usks2 = ks[US]\n",
        "print(\"Total Pop %: \", len(usks2.index)/len(ks.index))\n",
        "print(\"Success Rate: \", len(usks1.index)/len(usks2.index))"
      ],
      "execution_count": 162,
      "outputs": [
        {
          "output_type": "stream",
          "text": [
            "Total Pop %:  0.7727941351235009\n",
            "Success Rate:  0.3735096214635013\n"
          ],
          "name": "stdout"
        },
        {
          "output_type": "stream",
          "text": [
            "/usr/local/lib/python3.6/dist-packages/ipykernel_launcher.py:2: UserWarning:\n",
            "\n",
            "Boolean Series key will be reindexed to match DataFrame index.\n",
            "\n"
          ],
          "name": "stderr"
        }
      ]
    },
    {
      "cell_type": "code",
      "metadata": {
        "id": "5DFeGWnY_9YY",
        "colab_type": "code",
        "colab": {
          "base_uri": "https://localhost:8080/",
          "height": 119
        },
        "outputId": "3e7af40c-477a-4113-9918-0396de1d8a2d"
      },
      "source": [
        "#United Kingdom Success Rate\n",
        "gbks1 = successful[GB]\n",
        "gbks2 = ks[GB]\n",
        "print(\"Total Pop %: \", len(gbks2.index)/len(ks.index))\n",
        "print(\"Success Rate: \",len(gbks1.index)/len(gbks2.index))"
      ],
      "execution_count": 163,
      "outputs": [
        {
          "output_type": "stream",
          "text": [
            "Total Pop %:  0.08892386593813464\n",
            "Success Rate:  0.3583689712520789\n"
          ],
          "name": "stdout"
        },
        {
          "output_type": "stream",
          "text": [
            "/usr/local/lib/python3.6/dist-packages/ipykernel_launcher.py:2: UserWarning:\n",
            "\n",
            "Boolean Series key will be reindexed to match DataFrame index.\n",
            "\n"
          ],
          "name": "stderr"
        }
      ]
    },
    {
      "cell_type": "code",
      "metadata": {
        "id": "ymC1V2JdAhcf",
        "colab_type": "code",
        "colab": {
          "base_uri": "https://localhost:8080/",
          "height": 119
        },
        "outputId": "39797c77-dce1-4b5d-fb97-12f21a1c9742"
      },
      "source": [
        "#Canadian Success Rate CA\n",
        "caks1 = successful[CA]\n",
        "caks2 = ks[CA]\n",
        "print(\"Total Pop %: \", len(caks2.index)/len(ks.index))\n",
        "print(\"Success Rate: \", len(caks1.index)/len(caks2.index))"
      ],
      "execution_count": 164,
      "outputs": [
        {
          "output_type": "stream",
          "text": [
            "Total Pop %:  0.03896889302040611\n",
            "Success Rate:  0.28015722417999456\n"
          ],
          "name": "stdout"
        },
        {
          "output_type": "stream",
          "text": [
            "/usr/local/lib/python3.6/dist-packages/ipykernel_launcher.py:2: UserWarning:\n",
            "\n",
            "Boolean Series key will be reindexed to match DataFrame index.\n",
            "\n"
          ],
          "name": "stderr"
        }
      ]
    },
    {
      "cell_type": "code",
      "metadata": {
        "id": "ulF_3xWgAlV5",
        "colab_type": "code",
        "colab": {
          "base_uri": "https://localhost:8080/",
          "height": 119
        },
        "outputId": "e07fa9ad-0557-47e1-b6cc-733d79e08212"
      },
      "source": [
        "#Australian Success Rate AU\n",
        "auks1 = successful[AU]\n",
        "auks2 = ks[AU]\n",
        "print(\"Total Pop %: \", len(auks2.index)/len(ks.index))\n",
        "print(\"Success Rate: \", len(auks1.index)/len(auks2.index))"
      ],
      "execution_count": 165,
      "outputs": [
        {
          "output_type": "stream",
          "text": [
            "Total Pop %:  0.02070189430651691\n",
            "Success Rate:  0.2564102564102564\n"
          ],
          "name": "stdout"
        },
        {
          "output_type": "stream",
          "text": [
            "/usr/local/lib/python3.6/dist-packages/ipykernel_launcher.py:2: UserWarning:\n",
            "\n",
            "Boolean Series key will be reindexed to match DataFrame index.\n",
            "\n"
          ],
          "name": "stderr"
        }
      ]
    },
    {
      "cell_type": "code",
      "metadata": {
        "id": "ATcYP35TArN-",
        "colab_type": "code",
        "colab": {
          "base_uri": "https://localhost:8080/",
          "height": 119
        },
        "outputId": "16d606e9-10b7-4cbe-dbcd-afc3e3ada0e5"
      },
      "source": [
        "#German Success Rate DE\n",
        "deks1 = successful[DE]\n",
        "deks2 = ks[DE]\n",
        "print(\"Total Pop %: \", len(deks2.index)/len(ks.index))\n",
        "print(\"Success Rate: \", len(deks1.index)/len(deks2.index))"
      ],
      "execution_count": 166,
      "outputs": [
        {
          "output_type": "stream",
          "text": [
            "Total Pop %:  0.011015129627820135\n",
            "Success Rate:  0.22464636777751137\n"
          ],
          "name": "stdout"
        },
        {
          "output_type": "stream",
          "text": [
            "/usr/local/lib/python3.6/dist-packages/ipykernel_launcher.py:2: UserWarning:\n",
            "\n",
            "Boolean Series key will be reindexed to match DataFrame index.\n",
            "\n"
          ],
          "name": "stderr"
        }
      ]
    },
    {
      "cell_type": "code",
      "metadata": {
        "id": "AdBeBqRtArEf",
        "colab_type": "code",
        "colab": {
          "base_uri": "https://localhost:8080/",
          "height": 119
        },
        "outputId": "49b59978-e5ed-473b-864b-4d2040303387"
      },
      "source": [
        "#French Success Rate FR\n",
        "frks1 = successful[FR]\n",
        "frks2 = ks[FR]\n",
        "print(\"Total Pop %: \", len(frks2.index)/len(ks.index))\n",
        "print(\"Success Rate: \", len(frks1.index)/len(frks2.index))"
      ],
      "execution_count": 167,
      "outputs": [
        {
          "output_type": "stream",
          "text": [
            "Total Pop %:  0.007761559812074653\n",
            "Success Rate:  0.3089486219802654\n"
          ],
          "name": "stdout"
        },
        {
          "output_type": "stream",
          "text": [
            "/usr/local/lib/python3.6/dist-packages/ipykernel_launcher.py:2: UserWarning:\n",
            "\n",
            "Boolean Series key will be reindexed to match DataFrame index.\n",
            "\n"
          ],
          "name": "stderr"
        }
      ]
    },
    {
      "cell_type": "code",
      "metadata": {
        "id": "g77z6ORhAq6O",
        "colab_type": "code",
        "colab": {
          "base_uri": "https://localhost:8080/",
          "height": 119
        },
        "outputId": "8bf6330f-7092-4760-ba9e-bbd89e7102ef"
      },
      "source": [
        "#Italian Success Rate IT\n",
        "itks1 = successful[IT]\n",
        "itks2 = ks[IT]\n",
        "print(\"Total Pop %: \", len(itks2.index)/len(ks.index))\n",
        "print(\"Success Rate: \", len(itks1.index)/len(itks2.index))"
      ],
      "execution_count": 168,
      "outputs": [
        {
          "output_type": "stream",
          "text": [
            "Total Pop %:  0.0076004658520418\n",
            "Success Rate:  0.15253648366921474\n"
          ],
          "name": "stdout"
        },
        {
          "output_type": "stream",
          "text": [
            "/usr/local/lib/python3.6/dist-packages/ipykernel_launcher.py:2: UserWarning:\n",
            "\n",
            "Boolean Series key will be reindexed to match DataFrame index.\n",
            "\n"
          ],
          "name": "stderr"
        }
      ]
    },
    {
      "cell_type": "code",
      "metadata": {
        "id": "LpxwXW5GAqxp",
        "colab_type": "code",
        "colab": {
          "base_uri": "https://localhost:8080/",
          "height": 119
        },
        "outputId": "250ed157-bbea-4120-85ce-ba1860a24215"
      },
      "source": [
        "#Netherlands Success Rate NL\n",
        "nlks1 = successful[NL]\n",
        "nlks2 = ks[NL]\n",
        "print(\"Total Pop %: \", len(nlks2.index)/len(ks.index))\n",
        "print(\"Success Rate: \", len(nlks1.index)/len(nlks2.index))"
      ],
      "execution_count": 169,
      "outputs": [
        {
          "output_type": "stream",
          "text": [
            "Total Pop %:  0.0075740570061347745\n",
            "Success Rate:  0.21513249651324964\n"
          ],
          "name": "stdout"
        },
        {
          "output_type": "stream",
          "text": [
            "/usr/local/lib/python3.6/dist-packages/ipykernel_launcher.py:2: UserWarning:\n",
            "\n",
            "Boolean Series key will be reindexed to match DataFrame index.\n",
            "\n"
          ],
          "name": "stderr"
        }
      ]
    },
    {
      "cell_type": "code",
      "metadata": {
        "id": "1AMjSsVAAqnI",
        "colab_type": "code",
        "colab": {
          "base_uri": "https://localhost:8080/",
          "height": 119
        },
        "outputId": "0d21967b-c086-41f8-cd64-8bef646a76bb"
      },
      "source": [
        "#Spanish Success Rate ES\n",
        "esks1 = successful[ES]\n",
        "esks2 = ks[ES]\n",
        "print(\"Total Pop %: \", len(esks2.index)/len(ks.index))\n",
        "print(\"Success Rate: \", len(esks1.index)/len(esks2.index))"
      ],
      "execution_count": 170,
      "outputs": [
        {
          "output_type": "stream",
          "text": [
            "Total Pop %:  0.006010653328438894\n",
            "Success Rate:  0.21616871704745166\n"
          ],
          "name": "stdout"
        },
        {
          "output_type": "stream",
          "text": [
            "/usr/local/lib/python3.6/dist-packages/ipykernel_launcher.py:2: UserWarning:\n",
            "\n",
            "Boolean Series key will be reindexed to match DataFrame index.\n",
            "\n"
          ],
          "name": "stderr"
        }
      ]
    },
    {
      "cell_type": "code",
      "metadata": {
        "id": "piZpcan2A6FW",
        "colab_type": "code",
        "colab": {
          "base_uri": "https://localhost:8080/",
          "height": 119
        },
        "outputId": "1b8bf942-4882-4882-a2d1-59c19008e45f"
      },
      "source": [
        "#Swedish Success Rate SE\n",
        "seks1 = successful[SE]\n",
        "seks2 = ks[SE]\n",
        "print(\"Total Pop %: \", len(seks2.index)/len(ks.index))\n",
        "print(\"Success Rate: \", len(seks1.index)/len(seks2.index))"
      ],
      "execution_count": 171,
      "outputs": [
        {
          "output_type": "stream",
          "text": [
            "Total Pop %:  0.0046400342258642955\n",
            "Success Rate:  0.2896983494593056\n"
          ],
          "name": "stdout"
        },
        {
          "output_type": "stream",
          "text": [
            "/usr/local/lib/python3.6/dist-packages/ipykernel_launcher.py:2: UserWarning:\n",
            "\n",
            "Boolean Series key will be reindexed to match DataFrame index.\n",
            "\n"
          ],
          "name": "stderr"
        }
      ]
    },
    {
      "cell_type": "code",
      "metadata": {
        "id": "XX2JGd3JA5-X",
        "colab_type": "code",
        "colab": {
          "base_uri": "https://localhost:8080/",
          "height": 119
        },
        "outputId": "a75aad8e-5026-4c6d-ae40-1c25deae4b87"
      },
      "source": [
        "#Mexican Success Rate MX\n",
        "mxks1 = successful[MX]\n",
        "mxks2 = ks[MX]\n",
        "print(\"Total Pop %: \", len(mxks2.index)/len(ks.index))\n",
        "print(\"Success Rate: \", len(mxks1.index)/len(mxks2.index))"
      ],
      "execution_count": 172,
      "outputs": [
        {
          "output_type": "stream",
          "text": [
            "Total Pop %:  0.004626829802910783\n",
            "Success Rate:  0.22602739726027396\n"
          ],
          "name": "stdout"
        },
        {
          "output_type": "stream",
          "text": [
            "/usr/local/lib/python3.6/dist-packages/ipykernel_launcher.py:2: UserWarning:\n",
            "\n",
            "Boolean Series key will be reindexed to match DataFrame index.\n",
            "\n"
          ],
          "name": "stderr"
        }
      ]
    },
    {
      "cell_type": "code",
      "metadata": {
        "id": "v7mJ9IyGA54g",
        "colab_type": "code",
        "colab": {
          "base_uri": "https://localhost:8080/",
          "height": 119
        },
        "outputId": "b4b3cb56-8405-4bcb-c1b5-b50325188bd4"
      },
      "source": [
        "# New Zealand Success Rate NZ\n",
        "nzks1 = successful[NZ]\n",
        "nzks2 = ks[NZ]\n",
        "print(\"Total Pop %: \", len(nzks2.index)/len(ks.index))\n",
        "print(\"Success Rate: \", len(nzks1.index)/len(nzks2.index))"
      ],
      "execution_count": 173,
      "outputs": [
        {
          "output_type": "stream",
          "text": [
            "Total Pop %:  0.00382136000274652\n",
            "Success Rate:  0.30960608154803043\n"
          ],
          "name": "stdout"
        },
        {
          "output_type": "stream",
          "text": [
            "/usr/local/lib/python3.6/dist-packages/ipykernel_launcher.py:2: UserWarning:\n",
            "\n",
            "Boolean Series key will be reindexed to match DataFrame index.\n",
            "\n"
          ],
          "name": "stderr"
        }
      ]
    },
    {
      "cell_type": "code",
      "metadata": {
        "id": "A9T7B1tgA5yf",
        "colab_type": "code",
        "colab": {
          "base_uri": "https://localhost:8080/",
          "height": 119
        },
        "outputId": "d5ba4b79-58cc-422a-c6e8-697e1d171524"
      },
      "source": [
        "#Denmark Success Rate DK\n",
        "dkks1 = successful[DK]\n",
        "dkks2 = ks[DK]\n",
        "print(\"Total Pop %: \", len(dkks2.index)/len(ks.index))\n",
        "print(\"Success Rate: \", len(dkks1.index)/len(dkks2.index))"
      ],
      "execution_count": null,
      "outputs": [
        {
          "output_type": "stream",
          "text": [
            "Total Pop %:  0.0029393045494518844\n",
            "Success Rate:  0.32345013477088946\n"
          ],
          "name": "stdout"
        },
        {
          "output_type": "stream",
          "text": [
            "/usr/local/lib/python3.6/dist-packages/ipykernel_launcher.py:2: UserWarning:\n",
            "\n",
            "Boolean Series key will be reindexed to match DataFrame index.\n",
            "\n"
          ],
          "name": "stderr"
        }
      ]
    },
    {
      "cell_type": "code",
      "metadata": {
        "id": "c6qz1dedA5tW",
        "colab_type": "code",
        "colab": {
          "base_uri": "https://localhost:8080/",
          "height": 119
        },
        "outputId": "f9987fd0-0421-4670-bf04-e6023e0c6392"
      },
      "source": [
        "#Irish Success Rate IE\n",
        "ieks1 = successful[IE]\n",
        "ieks2 = ks[IE]\n",
        "print(\"Total Pop %: \", len(ieks2.index)/len(ks.index))\n",
        "print(\"Success Rate: \", len(ieks1.index)/len(ieks2.index))"
      ],
      "execution_count": 174,
      "outputs": [
        {
          "output_type": "stream",
          "text": [
            "Total Pop %:  0.002141757403059729\n",
            "Success Rate:  0.25524044389642414\n"
          ],
          "name": "stdout"
        },
        {
          "output_type": "stream",
          "text": [
            "/usr/local/lib/python3.6/dist-packages/ipykernel_launcher.py:2: UserWarning:\n",
            "\n",
            "Boolean Series key will be reindexed to match DataFrame index.\n",
            "\n"
          ],
          "name": "stderr"
        }
      ]
    },
    {
      "cell_type": "code",
      "metadata": {
        "id": "u2pBb18wA5oG",
        "colab_type": "code",
        "colab": {
          "base_uri": "https://localhost:8080/",
          "height": 119
        },
        "outputId": "3fae3455-9bd0-4776-ad83-8debb7ffbbb0"
      },
      "source": [
        "#Switzerland Success Rate CH\n",
        "chks1 = successful[CH]\n",
        "chks2 = ks[CH]\n",
        "print(\"Total Pop %: \", len(chks2.index)/len(ks.index))\n",
        "print(\"Success Rate: \", len(chks1.index)/len(chks2.index))"
      ],
      "execution_count": 175,
      "outputs": [
        {
          "output_type": "stream",
          "text": [
            "Total Pop %:  0.0020097131735246038\n",
            "Success Rate:  0.2457293035479632\n"
          ],
          "name": "stdout"
        },
        {
          "output_type": "stream",
          "text": [
            "/usr/local/lib/python3.6/dist-packages/ipykernel_launcher.py:2: UserWarning:\n",
            "\n",
            "Boolean Series key will be reindexed to match DataFrame index.\n",
            "\n"
          ],
          "name": "stderr"
        }
      ]
    },
    {
      "cell_type": "code",
      "metadata": {
        "id": "CoWA5NzRA5iu",
        "colab_type": "code",
        "colab": {
          "base_uri": "https://localhost:8080/",
          "height": 119
        },
        "outputId": "6b518cf6-43a2-44e5-ee19-d2edbc9861cc"
      },
      "source": [
        "#Norse Success Rate NO\n",
        "noks1 = successful[NO]\n",
        "noks2 = ks[NO]\n",
        "print(\"Total Pop %: \", len(noks2.index)/len(ks.index))\n",
        "print(\"Success Rate: \", len(noks1.index)/len(noks2.index))"
      ],
      "execution_count": 176,
      "outputs": [
        {
          "output_type": "stream",
          "text": [
            "Total Pop %:  0.0018697462902173712\n",
            "Success Rate:  0.2288135593220339\n"
          ],
          "name": "stdout"
        },
        {
          "output_type": "stream",
          "text": [
            "/usr/local/lib/python3.6/dist-packages/ipykernel_launcher.py:2: UserWarning:\n",
            "\n",
            "Boolean Series key will be reindexed to match DataFrame index.\n",
            "\n"
          ],
          "name": "stderr"
        }
      ]
    },
    {
      "cell_type": "code",
      "metadata": {
        "id": "rVA1cGprA5do",
        "colab_type": "code",
        "colab": {
          "base_uri": "https://localhost:8080/",
          "height": 119
        },
        "outputId": "398cb361-de6e-4be7-d619-22d7cf12fa8d"
      },
      "source": [
        "#Hong Kong Success Rate HK\n",
        "hkks1 = successful[HK]\n",
        "hkks2 = ks[HK]\n",
        "print(\"Total Pop %: \", len(hkks2.index)/len(ks.index))\n",
        "print(\"Success Rate: \", len(hkks1.index)/len(hkks2.index))"
      ],
      "execution_count": 177,
      "outputs": [
        {
          "output_type": "stream",
          "text": [
            "Total Pop %:  0.001632066677054146\n",
            "Success Rate:  0.34951456310679613\n"
          ],
          "name": "stdout"
        },
        {
          "output_type": "stream",
          "text": [
            "/usr/local/lib/python3.6/dist-packages/ipykernel_launcher.py:2: UserWarning:\n",
            "\n",
            "Boolean Series key will be reindexed to match DataFrame index.\n",
            "\n"
          ],
          "name": "stderr"
        }
      ]
    },
    {
      "cell_type": "code",
      "metadata": {
        "id": "6atVYQv3A5YR",
        "colab_type": "code",
        "colab": {
          "base_uri": "https://localhost:8080/",
          "height": 119
        },
        "outputId": "63aa0aac-4e59-4189-93b1-82924f62b87a"
      },
      "source": [
        "#Belgium Success Rate BE\n",
        "beks1 = successful[BE]\n",
        "beks2 = ks[BE]\n",
        "print(\"Total Pop %: \", len(beks2.index)/len(ks.index))\n",
        "print(\"Success Rate: \", len(beks1.index)/len(beks2.index))"
      ],
      "execution_count": 178,
      "outputs": [
        {
          "output_type": "stream",
          "text": [
            "Total Pop %:  0.0016294257924634435\n",
            "Success Rate:  0.24635332252836303\n"
          ],
          "name": "stdout"
        },
        {
          "output_type": "stream",
          "text": [
            "/usr/local/lib/python3.6/dist-packages/ipykernel_launcher.py:2: UserWarning:\n",
            "\n",
            "Boolean Series key will be reindexed to match DataFrame index.\n",
            "\n"
          ],
          "name": "stderr"
        }
      ]
    },
    {
      "cell_type": "code",
      "metadata": {
        "id": "jCoeuAWfA5Sb",
        "colab_type": "code",
        "colab": {
          "base_uri": "https://localhost:8080/",
          "height": 119
        },
        "outputId": "e24c69d4-6099-4418-f083-f1a21fdcb827"
      },
      "source": [
        "#Austrian Success Rate AT\n",
        "atks1 = successful[AT]\n",
        "atks2 = ks[AT]\n",
        "print(\"Total Pop %: \", len(atks2.index)/len(ks.index))\n",
        "print(\"Success Rate: \", len(atks1.index)/len(atks2.index))"
      ],
      "execution_count": 179,
      "outputs": [
        {
          "output_type": "stream",
          "text": [
            "Total Pop %:  0.0015766081006493935\n",
            "Success Rate:  0.17922948073701842\n"
          ],
          "name": "stdout"
        },
        {
          "output_type": "stream",
          "text": [
            "/usr/local/lib/python3.6/dist-packages/ipykernel_launcher.py:2: UserWarning:\n",
            "\n",
            "Boolean Series key will be reindexed to match DataFrame index.\n",
            "\n"
          ],
          "name": "stderr"
        }
      ]
    },
    {
      "cell_type": "code",
      "metadata": {
        "id": "4b4VtOfrA5Nm",
        "colab_type": "code",
        "colab": {
          "base_uri": "https://localhost:8080/",
          "height": 119
        },
        "outputId": "6e8298cd-f896-4bd7-cc6c-52b8d6891427"
      },
      "source": [
        "#Singapore Success Rate SG\n",
        "sgks1 = successful[SG]\n",
        "sgks2 = ks[SG]\n",
        "print(\"Total Pop %: \", len(sgks2.index)/len(ks.index))\n",
        "print(\"Success Rate: \", len(sgks1.index)/len(sgks2.index))"
      ],
      "execution_count": 180,
      "outputs": [
        {
          "output_type": "stream",
          "text": [
            "Total Pop %:  0.0014656909478398884\n",
            "Success Rate:  0.3207207207207207\n"
          ],
          "name": "stdout"
        },
        {
          "output_type": "stream",
          "text": [
            "/usr/local/lib/python3.6/dist-packages/ipykernel_launcher.py:2: UserWarning:\n",
            "\n",
            "Boolean Series key will be reindexed to match DataFrame index.\n",
            "\n"
          ],
          "name": "stderr"
        }
      ]
    },
    {
      "cell_type": "code",
      "metadata": {
        "id": "xZ-dYoWZA5Ha",
        "colab_type": "code",
        "colab": {
          "base_uri": "https://localhost:8080/",
          "height": 119
        },
        "outputId": "dd20ae7e-12bc-4d37-8bff-9e7bad7ee898"
      },
      "source": [
        "#Luxembourg Success Rate LU\n",
        "luks1 = successful[LU]\n",
        "luks2 = ks[LU]\n",
        "print(\"Total Pop %: \", len(luks2.index)/len(ks.index))\n",
        "print(\"Success Rate: \", len(luks1.index)/len(luks2.index))"
      ],
      "execution_count": 181,
      "outputs": [
        {
          "output_type": "stream",
          "text": [
            "Total Pop %:  0.0001637348446235551\n",
            "Success Rate:  0.3064516129032258\n"
          ],
          "name": "stdout"
        },
        {
          "output_type": "stream",
          "text": [
            "/usr/local/lib/python3.6/dist-packages/ipykernel_launcher.py:2: UserWarning:\n",
            "\n",
            "Boolean Series key will be reindexed to match DataFrame index.\n",
            "\n"
          ],
          "name": "stderr"
        }
      ]
    },
    {
      "cell_type": "code",
      "metadata": {
        "id": "m80oXGH5A5AX",
        "colab_type": "code",
        "colab": {
          "base_uri": "https://localhost:8080/",
          "height": 119
        },
        "outputId": "27687a97-1a70-47ee-8deb-71f5550853b4"
      },
      "source": [
        "#Japanese Success Rate JP\n",
        "jpks1 = successful[JP]\n",
        "jpks2 = ks[JP]\n",
        "print(\"Total Pop %: \", len(jpks2.index)/len(ks.index))\n",
        "print(\"Success Rate: \", len(jpks1.index)/len(jpks2.index))"
      ],
      "execution_count": 182,
      "outputs": [
        {
          "output_type": "stream",
          "text": [
            "Total Pop %:  0.00010563538362810007\n",
            "Success Rate:  0.175\n"
          ],
          "name": "stdout"
        },
        {
          "output_type": "stream",
          "text": [
            "/usr/local/lib/python3.6/dist-packages/ipykernel_launcher.py:2: UserWarning:\n",
            "\n",
            "Boolean Series key will be reindexed to match DataFrame index.\n",
            "\n"
          ],
          "name": "stderr"
        }
      ]
    },
    {
      "cell_type": "code",
      "metadata": {
        "id": "dlMXn-tpA45H",
        "colab_type": "code",
        "colab": {
          "base_uri": "https://localhost:8080/",
          "height": 119
        },
        "outputId": "635db65d-6f42-4044-fa67-b82182021310"
      },
      "source": [
        "#Unknown Location Success Rate UK\n",
        "ukks1 = successful[UK]\n",
        "ukks2 = ks[UK]\n",
        "print(\"Total Pop %: \", len(ukks2.index)/len(ks.index))\n",
        "print(\"Success Rate: \", len(ukks1.index)/len(ukks2.index))"
      ],
      "execution_count": 183,
      "outputs": [
        {
          "output_type": "stream",
          "text": [
            "Total Pop %:  0.0100274387908974\n",
            "Success Rate:  0.027653410587305766\n"
          ],
          "name": "stdout"
        },
        {
          "output_type": "stream",
          "text": [
            "/usr/local/lib/python3.6/dist-packages/ipykernel_launcher.py:2: UserWarning:\n",
            "\n",
            "Boolean Series key will be reindexed to match DataFrame index.\n",
            "\n"
          ],
          "name": "stderr"
        }
      ]
    },
    {
      "cell_type": "markdown",
      "metadata": {
        "id": "JaAElAQOXlcO",
        "colab_type": "text"
      },
      "source": [
        "## Population Donut Chart"
      ]
    },
    {
      "cell_type": "code",
      "metadata": {
        "id": "C1Ng7lpSA4w4",
        "colab_type": "code",
        "colab": {
          "base_uri": "https://localhost:8080/",
          "height": 221
        },
        "outputId": "4628ddd4-48f0-43bc-b52a-bf37484d03e6"
      },
      "source": [
        "#Donut Chart Database\n",
        "population = {'Country': ['US', 'GB', 'CA', 'AU', 'DE', 'FR', 'IT', 'NL',\n",
        "                          'ES', 'SE', 'MX', 'NZ', 'DK', 'IE', 'CH', 'NO',\n",
        "                          'HK', 'BE', 'AT', 'SG', 'LU', 'JP', 'UK'],\n",
        "              'Pop %': [77.3, 8.98, 3.8, 2.07, 1.1, .776, .76, .757, .6, .464, .46, .382,\n",
        "                        .294, .214, .2, .187, .163, .163, .157, .147, .016, .01, 1]}\n",
        "\n",
        "pop = pd.DataFrame(population)\n",
        "print(pop.shape)\n",
        "pop.head()\n"
      ],
      "execution_count": 184,
      "outputs": [
        {
          "output_type": "stream",
          "text": [
            "(23, 2)\n"
          ],
          "name": "stdout"
        },
        {
          "output_type": "execute_result",
          "data": {
            "text/html": [
              "<div>\n",
              "<style scoped>\n",
              "    .dataframe tbody tr th:only-of-type {\n",
              "        vertical-align: middle;\n",
              "    }\n",
              "\n",
              "    .dataframe tbody tr th {\n",
              "        vertical-align: top;\n",
              "    }\n",
              "\n",
              "    .dataframe thead th {\n",
              "        text-align: right;\n",
              "    }\n",
              "</style>\n",
              "<table border=\"1\" class=\"dataframe\">\n",
              "  <thead>\n",
              "    <tr style=\"text-align: right;\">\n",
              "      <th></th>\n",
              "      <th>Country</th>\n",
              "      <th>Pop %</th>\n",
              "    </tr>\n",
              "  </thead>\n",
              "  <tbody>\n",
              "    <tr>\n",
              "      <th>0</th>\n",
              "      <td>US</td>\n",
              "      <td>77.30</td>\n",
              "    </tr>\n",
              "    <tr>\n",
              "      <th>1</th>\n",
              "      <td>GB</td>\n",
              "      <td>8.98</td>\n",
              "    </tr>\n",
              "    <tr>\n",
              "      <th>2</th>\n",
              "      <td>CA</td>\n",
              "      <td>3.80</td>\n",
              "    </tr>\n",
              "    <tr>\n",
              "      <th>3</th>\n",
              "      <td>AU</td>\n",
              "      <td>2.07</td>\n",
              "    </tr>\n",
              "    <tr>\n",
              "      <th>4</th>\n",
              "      <td>DE</td>\n",
              "      <td>1.10</td>\n",
              "    </tr>\n",
              "  </tbody>\n",
              "</table>\n",
              "</div>"
            ],
            "text/plain": [
              "  Country  Pop %\n",
              "0      US  77.30\n",
              "1      GB   8.98\n",
              "2      CA   3.80\n",
              "3      AU   2.07\n",
              "4      DE   1.10"
            ]
          },
          "metadata": {
            "tags": []
          },
          "execution_count": 184
        }
      ]
    },
    {
      "cell_type": "code",
      "metadata": {
        "id": "maVTN0Z2TnxR",
        "colab_type": "code",
        "colab": {
          "base_uri": "https://localhost:8080/",
          "height": 34
        },
        "outputId": "e9378be2-c23b-44bc-c5cd-9bee6fba5610"
      },
      "source": [
        "pop['Pop %'].sum()"
      ],
      "execution_count": 185,
      "outputs": [
        {
          "output_type": "execute_result",
          "data": {
            "text/plain": [
              "100.0"
            ]
          },
          "metadata": {
            "tags": []
          },
          "execution_count": 185
        }
      ]
    },
    {
      "cell_type": "code",
      "metadata": {
        "id": "tef58JrqUFBM",
        "colab_type": "code",
        "colab": {
          "base_uri": "https://localhost:8080/",
          "height": 575
        },
        "outputId": "8d9d0b37-3dfb-41ac-f3ab-1ed6cd803011"
      },
      "source": [
        "#Data\n",
        "names=pop['Country']\n",
        "size=pop['Pop %']\n",
        "#Center Circle\n",
        "my_circle=plt.Circle( (0,0), .6, color='white')\n",
        "\n",
        "#Figure size\n",
        "fig = plt.figure(figsize=(10,10))\n",
        "\n",
        "#Donut Plot\n",
        "plt.pie(size, labels=names)\n",
        "p=plt.gcf()\n",
        "p.gca().add_artist(my_circle)\n",
        "\n",
        "plt.show();"
      ],
      "execution_count": 186,
      "outputs": [
        {
          "output_type": "display_data",
          "data": {
            "image/png": "[encoded data removed]",
            "text/plain": [
              "<Figure size 720x720 with 1 Axes>"
            ]
          },
          "metadata": {
            "tags": []
          }
        }
      ]
    },
    {
      "cell_type": "markdown",
      "metadata": {
        "id": "XKMhIiTB63HZ",
        "colab_type": "text"
      },
      "source": [
        "##World Map with Plotly"
      ]
    },
    {
      "cell_type": "code",
      "metadata": {
        "id": "-V41Bbng62WY",
        "colab_type": "code",
        "colab": {}
      },
      "source": [
        "import plotly.graph_objects as go\n",
        "import pandas as pd"
      ],
      "execution_count": 187,
      "outputs": []
    },
    {
      "cell_type": "code",
      "metadata": {
        "id": "ojpyxg_R7oL_",
        "colab_type": "code",
        "colab": {}
      },
      "source": [
        "#Geographical Success Rate Database\n",
        "geography = {'Country':['USA', 'GBR', 'CAN', 'AUS', 'DEU', 'FRA', 'ITA', 'NLD', 'ESP', 'SWE',\n",
        "                        'MEX', 'NZL', 'DNK', 'IRL', 'CHE', 'NOR', 'HKG', 'BEL', 'AUT', 'SGP', 'LUX', 'JPN'],\n",
        "             'Success_%':[37,36,28,26,22,31,15,22,22,29,23,31,32,26,25,23,35,25,18,32,31,18]}\n",
        "\n",
        "geog = pd.DataFrame(geography)"
      ],
      "execution_count": 188,
      "outputs": []
    },
    {
      "cell_type": "code",
      "metadata": {
        "id": "Ab7uBKwrB-o8",
        "colab_type": "code",
        "colab": {
          "base_uri": "https://localhost:8080/",
          "height": 542
        },
        "outputId": "bb431d64-5998-49af-a3f9-6f060d4bd0e8"
      },
      "source": [
        "#Heatmap\n",
        "\n",
        "fig = go.Figure(data=go.Choropleth(\n",
        "    locations = geog['Country'],\n",
        "    z = geog['Success_%'],\n",
        "    colorscale = 'Greens',\n",
        "    autocolorscale=False,\n",
        "    reversescale=False,\n",
        "    marker_line_color='darkgray',\n",
        "    marker_line_width=0.5,\n",
        "    colorbar_tickprefix = '%',\n",
        "    colorbar_title = 'Success Rate %'\n",
        "))\n",
        "\n",
        "fig.update_layout(\n",
        "    title_text='Success Rate by Location',\n",
        "    geo=dict(\n",
        "        showframe=False,\n",
        "        showcoastlines=True,\n",
        "        projection_type='equirectangular'\n",
        "    )\n",
        "\n",
        ")\n",
        "\n",
        "fig.show()"
      ],
      "execution_count": 189,
      "outputs": [
        {
          "output_type": "display_data",
          "data": {
            "text/html": [
              "<html>\n",
              "<head><meta charset=\"utf-8\" /></head>\n",
              "<body>\n",
              "    <div>\n",
              "            <script src=\"https://cdnjs.cloudflare.com/ajax/libs/mathjax/2.7.5/MathJax.js?config=TeX-AMS-MML_SVG\"></script><script type=\"text/javascript\">if (window.MathJax) {MathJax.Hub.Config({SVG: {font: \"STIX-Web\"}});}</script>\n",
              "                <script type=\"text/javascript\">window.PlotlyConfig = {MathJaxConfig: 'local'};</script>\n",
              "        <script src=\"https://cdn.plot.ly/plotly-latest.min.js\"></script>    \n",
              "            <div id=\"dc530377-2898-4772-98d1-803dbbe7443b\" class=\"plotly-graph-div\" style=\"height:525px; width:100%;\"></div>\n",
              "            <script type=\"text/javascript\">\n",
              "                \n",
              "                    window.PLOTLYENV=window.PLOTLYENV || {};\n",
              "                    \n",
              "                if (document.getElementById(\"dc530377-2898-4772-98d1-803dbbe7443b\")) {\n",
              "                    Plotly.newPlot(\n",
              "                        'dc530377-2898-4772-98d1-803dbbe7443b',\n",
              "                        [{\"autocolorscale\": false, \"colorbar\": {\"tickprefix\": \"%\", \"title\": {\"text\": \"Success Rate %\"}}, \"colorscale\": [[0.0, \"rgb(247,252,245)\"], [0.125, \"rgb(229,245,224)\"], [0.25, \"rgb(199,233,192)\"], [0.375, \"rgb(161,217,155)\"], [0.5, \"rgb(116,196,118)\"], [0.625, \"rgb(65,171,93)\"], [0.75, \"rgb(35,139,69)\"], [0.875, \"rgb(0,109,44)\"], [1.0, \"rgb(0,68,27)\"]], \"locations\": [\"USA\", \"GBR\", \"CAN\", \"AUS\", \"DEU\", \"FRA\", \"ITA\", \"NLD\", \"ESP\", \"SWE\", \"MEX\", \"NZL\", \"DNK\", \"IRL\", \"CHE\", \"NOR\", \"HKG\", \"BEL\", \"AUT\", \"SGP\", \"LUX\", \"JPN\"], \"marker\": {\"line\": {\"color\": \"darkgray\", \"width\": 0.5}}, \"reversescale\": false, \"type\": \"choropleth\", \"z\": [37, 36, 28, 26, 22, 31, 15, 22, 22, 29, 23, 31, 32, 26, 25, 23, 35, 25, 18, 32, 31, 18]}],\n",
              "                        {\"geo\": {\"projection\": {\"type\": \"equirectangular\"}, \"showcoastlines\": true, \"showframe\": false}, \"template\": {\"data\": {\"bar\": [{\"error_x\": {\"color\": \"#2a3f5f\"}, \"error_y\": {\"color\": \"#2a3f5f\"}, \"marker\": {\"line\": {\"color\": \"#E5ECF6\", \"width\": 0.5}}, \"type\": \"bar\"}], \"barpolar\": [{\"marker\": {\"line\": {\"color\": \"#E5ECF6\", \"width\": 0.5}}, \"type\": \"barpolar\"}], \"carpet\": [{\"aaxis\": {\"endlinecolor\": \"#2a3f5f\", \"gridcolor\": \"white\", \"linecolor\": \"white\", \"minorgridcolor\": \"white\", \"startlinecolor\": \"#2a3f5f\"}, \"baxis\": {\"endlinecolor\": \"#2a3f5f\", \"gridcolor\": \"white\", \"linecolor\": \"white\", \"minorgridcolor\": \"white\", \"startlinecolor\": \"#2a3f5f\"}, \"type\": \"carpet\"}], \"choropleth\": [{\"colorbar\": {\"outlinewidth\": 0, \"ticks\": \"\"}, \"type\": \"choropleth\"}], \"contour\": [{\"colorbar\": {\"outlinewidth\": 0, \"ticks\": \"\"}, \"colorscale\": [[0.0, \"#0d0887\"], [0.1111111111111111, \"#46039f\"], [0.2222222222222222, \"#7201a8\"], [0.3333333333333333, \"#9c179e\"], [0.4444444444444444, \"#bd3786\"], [0.5555555555555556, \"#d8576b\"], [0.6666666666666666, \"#ed7953\"], [0.7777777777777778, \"#fb9f3a\"], [0.8888888888888888, \"#fdca26\"], [1.0, \"#f0f921\"]], \"type\": \"contour\"}], \"contourcarpet\": [{\"colorbar\": {\"outlinewidth\": 0, \"ticks\": \"\"}, \"type\": \"contourcarpet\"}], \"heatmap\": [{\"colorbar\": {\"outlinewidth\": 0, \"ticks\": \"\"}, \"colorscale\": [[0.0, \"#0d0887\"], [0.1111111111111111, \"#46039f\"], [0.2222222222222222, \"#7201a8\"], [0.3333333333333333, \"#9c179e\"], [0.4444444444444444, \"#bd3786\"], [0.5555555555555556, \"#d8576b\"], [0.6666666666666666, \"#ed7953\"], [0.7777777777777778, \"#fb9f3a\"], [0.8888888888888888, \"#fdca26\"], [1.0, \"#f0f921\"]], \"type\": \"heatmap\"}], \"heatmapgl\": [{\"colorbar\": {\"outlinewidth\": 0, \"ticks\": \"\"}, \"colorscale\": [[0.0, \"#0d0887\"], [0.1111111111111111, \"#46039f\"], [0.2222222222222222, \"#7201a8\"], [0.3333333333333333, \"#9c179e\"], [0.4444444444444444, \"#bd3786\"], [0.5555555555555556, \"#d8576b\"], [0.6666666666666666, \"#ed7953\"], [0.7777777777777778, \"#fb9f3a\"], [0.8888888888888888, \"#fdca26\"], [1.0, \"#f0f921\"]], \"type\": \"heatmapgl\"}], \"histogram\": [{\"marker\": {\"colorbar\": {\"outlinewidth\": 0, \"ticks\": \"\"}}, \"type\": \"histogram\"}], \"histogram2d\": [{\"colorbar\": {\"outlinewidth\": 0, \"ticks\": \"\"}, \"colorscale\": [[0.0, \"#0d0887\"], [0.1111111111111111, \"#46039f\"], [0.2222222222222222, \"#7201a8\"], [0.3333333333333333, \"#9c179e\"], [0.4444444444444444, \"#bd3786\"], [0.5555555555555556, \"#d8576b\"], [0.6666666666666666, \"#ed7953\"], [0.7777777777777778, \"#fb9f3a\"], [0.8888888888888888, \"#fdca26\"], [1.0, \"#f0f921\"]], \"type\": \"histogram2d\"}], \"histogram2dcontour\": [{\"colorbar\": {\"outlinewidth\": 0, \"ticks\": \"\"}, \"colorscale\": [[0.0, \"#0d0887\"], [0.1111111111111111, \"#46039f\"], [0.2222222222222222, \"#7201a8\"], [0.3333333333333333, \"#9c179e\"], [0.4444444444444444, \"#bd3786\"], [0.5555555555555556, \"#d8576b\"], [0.6666666666666666, \"#ed7953\"], [0.7777777777777778, \"#fb9f3a\"], [0.8888888888888888, \"#fdca26\"], [1.0, \"#f0f921\"]], \"type\": \"histogram2dcontour\"}], \"mesh3d\": [{\"colorbar\": {\"outlinewidth\": 0, \"ticks\": \"\"}, \"type\": \"mesh3d\"}], \"parcoords\": [{\"line\": {\"colorbar\": {\"outlinewidth\": 0, \"ticks\": \"\"}}, \"type\": \"parcoords\"}], \"pie\": [{\"automargin\": true, \"type\": \"pie\"}], \"scatter\": [{\"marker\": {\"colorbar\": {\"outlinewidth\": 0, \"ticks\": \"\"}}, \"type\": \"scatter\"}], \"scatter3d\": [{\"line\": {\"colorbar\": {\"outlinewidth\": 0, \"ticks\": \"\"}}, \"marker\": {\"colorbar\": {\"outlinewidth\": 0, \"ticks\": \"\"}}, \"type\": \"scatter3d\"}], \"scattercarpet\": [{\"marker\": {\"colorbar\": {\"outlinewidth\": 0, \"ticks\": \"\"}}, \"type\": \"scattercarpet\"}], \"scattergeo\": [{\"marker\": {\"colorbar\": {\"outlinewidth\": 0, \"ticks\": \"\"}}, \"type\": \"scattergeo\"}], \"scattergl\": [{\"marker\": {\"colorbar\": {\"outlinewidth\": 0, \"ticks\": \"\"}}, \"type\": \"scattergl\"}], \"scattermapbox\": [{\"marker\": {\"colorbar\": {\"outlinewidth\": 0, \"ticks\": \"\"}}, \"type\": \"scattermapbox\"}], \"scatterpolar\": [{\"marker\": {\"colorbar\": {\"outlinewidth\": 0, \"ticks\": \"\"}}, \"type\": \"scatterpolar\"}], \"scatterpolargl\": [{\"marker\": {\"colorbar\": {\"outlinewidth\": 0, \"ticks\": \"\"}}, \"type\": \"scatterpolargl\"}], \"scatterternary\": [{\"marker\": {\"colorbar\": {\"outlinewidth\": 0, \"ticks\": \"\"}}, \"type\": \"scatterternary\"}], \"surface\": [{\"colorbar\": {\"outlinewidth\": 0, \"ticks\": \"\"}, \"colorscale\": [[0.0, \"#0d0887\"], [0.1111111111111111, \"#46039f\"], [0.2222222222222222, \"#7201a8\"], [0.3333333333333333, \"#9c179e\"], [0.4444444444444444, \"#bd3786\"], [0.5555555555555556, \"#d8576b\"], [0.6666666666666666, \"#ed7953\"], [0.7777777777777778, \"#fb9f3a\"], [0.8888888888888888, \"#fdca26\"], [1.0, \"#f0f921\"]], \"type\": \"surface\"}], \"table\": [{\"cells\": {\"fill\": {\"color\": \"#EBF0F8\"}, \"line\": {\"color\": \"white\"}}, \"header\": {\"fill\": {\"color\": \"#C8D4E3\"}, \"line\": {\"color\": \"white\"}}, \"type\": \"table\"}]}, \"layout\": {\"annotationdefaults\": {\"arrowcolor\": \"#2a3f5f\", \"arrowhead\": 0, \"arrowwidth\": 1}, \"coloraxis\": {\"colorbar\": {\"outlinewidth\": 0, \"ticks\": \"\"}}, \"colorscale\": {\"diverging\": [[0, \"#8e0152\"], [0.1, \"#c51b7d\"], [0.2, \"#de77ae\"], [0.3, \"#f1b6da\"], [0.4, \"#fde0ef\"], [0.5, \"#f7f7f7\"], [0.6, \"#e6f5d0\"], [0.7, \"#b8e186\"], [0.8, \"#7fbc41\"], [0.9, \"#4d9221\"], [1, \"#276419\"]], \"sequential\": [[0.0, \"#0d0887\"], [0.1111111111111111, \"#46039f\"], [0.2222222222222222, \"#7201a8\"], [0.3333333333333333, \"#9c179e\"], [0.4444444444444444, \"#bd3786\"], [0.5555555555555556, \"#d8576b\"], [0.6666666666666666, \"#ed7953\"], [0.7777777777777778, \"#fb9f3a\"], [0.8888888888888888, \"#fdca26\"], [1.0, \"#f0f921\"]], \"sequentialminus\": [[0.0, \"#0d0887\"], [0.1111111111111111, \"#46039f\"], [0.2222222222222222, \"#7201a8\"], [0.3333333333333333, \"#9c179e\"], [0.4444444444444444, \"#bd3786\"], [0.5555555555555556, \"#d8576b\"], [0.6666666666666666, \"#ed7953\"], [0.7777777777777778, \"#fb9f3a\"], [0.8888888888888888, \"#fdca26\"], [1.0, \"#f0f921\"]]}, \"colorway\": [\"#636efa\", \"#EF553B\", \"#00cc96\", \"#ab63fa\", \"#FFA15A\", \"#19d3f3\", \"#FF6692\", \"#B6E880\", \"#FF97FF\", \"#FECB52\"], \"font\": {\"color\": \"#2a3f5f\"}, \"geo\": {\"bgcolor\": \"white\", \"lakecolor\": \"white\", \"landcolor\": \"#E5ECF6\", \"showlakes\": true, \"showland\": true, \"subunitcolor\": \"white\"}, \"hoverlabel\": {\"align\": \"left\"}, \"hovermode\": \"closest\", \"mapbox\": {\"style\": \"light\"}, \"paper_bgcolor\": \"white\", \"plot_bgcolor\": \"#E5ECF6\", \"polar\": {\"angularaxis\": {\"gridcolor\": \"white\", \"linecolor\": \"white\", \"ticks\": \"\"}, \"bgcolor\": \"#E5ECF6\", \"radialaxis\": {\"gridcolor\": \"white\", \"linecolor\": \"white\", \"ticks\": \"\"}}, \"scene\": {\"xaxis\": {\"backgroundcolor\": \"#E5ECF6\", \"gridcolor\": \"white\", \"gridwidth\": 2, \"linecolor\": \"white\", \"showbackground\": true, \"ticks\": \"\", \"zerolinecolor\": \"white\"}, \"yaxis\": {\"backgroundcolor\": \"#E5ECF6\", \"gridcolor\": \"white\", \"gridwidth\": 2, \"linecolor\": \"white\", \"showbackground\": true, \"ticks\": \"\", \"zerolinecolor\": \"white\"}, \"zaxis\": {\"backgroundcolor\": \"#E5ECF6\", \"gridcolor\": \"white\", \"gridwidth\": 2, \"linecolor\": \"white\", \"showbackground\": true, \"ticks\": \"\", \"zerolinecolor\": \"white\"}}, \"shapedefaults\": {\"line\": {\"color\": \"#2a3f5f\"}}, \"ternary\": {\"aaxis\": {\"gridcolor\": \"white\", \"linecolor\": \"white\", \"ticks\": \"\"}, \"baxis\": {\"gridcolor\": \"white\", \"linecolor\": \"white\", \"ticks\": \"\"}, \"bgcolor\": \"#E5ECF6\", \"caxis\": {\"gridcolor\": \"white\", \"linecolor\": \"white\", \"ticks\": \"\"}}, \"title\": {\"x\": 0.05}, \"xaxis\": {\"automargin\": true, \"gridcolor\": \"white\", \"linecolor\": \"white\", \"ticks\": \"\", \"title\": {\"standoff\": 15}, \"zerolinecolor\": \"white\", \"zerolinewidth\": 2}, \"yaxis\": {\"automargin\": true, \"gridcolor\": \"white\", \"linecolor\": \"white\", \"ticks\": \"\", \"title\": {\"standoff\": 15}, \"zerolinecolor\": \"white\", \"zerolinewidth\": 2}}}, \"title\": {\"text\": \"Success Rate by Location\"}},\n",
              "                        {\"responsive\": true}\n",
              "                    ).then(function(){\n",
              "                            \n",
              "var gd = document.getElementById('dc530377-2898-4772-98d1-803dbbe7443b');\n",
              "var x = new MutationObserver(function (mutations, observer) {{\n",
              "        var display = window.getComputedStyle(gd).display;\n",
              "        if (!display || display === 'none') {{\n",
              "            console.log([gd, 'removed!']);\n",
              "            Plotly.purge(gd);\n",
              "            observer.disconnect();\n",
              "        }}\n",
              "}});\n",
              "\n",
              "// Listen for the removal of the full notebook cells\n",
              "var notebookContainer = gd.closest('#notebook-container');\n",
              "if (notebookContainer) {{\n",
              "    x.observe(notebookContainer, {childList: true});\n",
              "}}\n",
              "\n",
              "// Listen for the clearing of the current output cell\n",
              "var outputEl = gd.closest('.output');\n",
              "if (outputEl) {{\n",
              "    x.observe(outputEl, {childList: true});\n",
              "}}\n",
              "\n",
              "                        })\n",
              "                };\n",
              "                \n",
              "            </script>\n",
              "        </div>\n",
              "</body>\n",
              "</html>"
            ]
          },
          "metadata": {
            "tags": []
          }
        }
      ]
    },
    {
      "cell_type": "markdown",
      "metadata": {
        "id": "6pPLAuroXmBS",
        "colab_type": "text"
      },
      "source": [
        "##Backers"
      ]
    },
    {
      "cell_type": "code",
      "metadata": {
        "id": "zcmmF7FXXogX",
        "colab_type": "code",
        "colab": {
          "base_uri": "https://localhost:8080/",
          "height": 34
        },
        "outputId": "7cd4b913-a2ec-4d9f-b56a-0b00cbf547ca"
      },
      "source": [
        "#Under 10 Backers\n",
        "less_10_b = successful['backers'] < 10\n",
        "bk_10 = successful[less_10_b]\n",
        "len(bk_10.index)/len(successful.index)"
      ],
      "execution_count": 190,
      "outputs": [
        {
          "output_type": "execute_result",
          "data": {
            "text/plain": [
              "0.04064021021828063"
            ]
          },
          "metadata": {
            "tags": []
          },
          "execution_count": 190
        }
      ]
    },
    {
      "cell_type": "code",
      "metadata": {
        "id": "z9pYnT5ucAzO",
        "colab_type": "code",
        "colab": {
          "base_uri": "https://localhost:8080/",
          "height": 34
        },
        "outputId": "a64bdc95-aeba-450b-cca6-524ac2847686"
      },
      "source": [
        "#Under 25 Backers\n",
        "less_25_b = successful['backers'] < 25\n",
        "bk_25 = successful[less_25_b]\n",
        "len(bk_25.index)/len(successful.index)"
      ],
      "execution_count": 191,
      "outputs": [
        {
          "output_type": "execute_result",
          "data": {
            "text/plain": [
              "0.1757517393771089"
            ]
          },
          "metadata": {
            "tags": []
          },
          "execution_count": 191
        }
      ]
    },
    {
      "cell_type": "code",
      "metadata": {
        "id": "dptTHAaoc0AA",
        "colab_type": "code",
        "colab": {
          "base_uri": "https://localhost:8080/",
          "height": 34
        },
        "outputId": "0d6a7938-b4a3-4ad9-f694-291b2fa17488"
      },
      "source": [
        "#Under 50 Backers\n",
        "less_50_b = successful['backers'] < 50\n",
        "bk_50 = successful[less_50_b]\n",
        "len(bk_50.index)/len(successful.index)"
      ],
      "execution_count": 192,
      "outputs": [
        {
          "output_type": "execute_result",
          "data": {
            "text/plain": [
              "0.37804204365612587"
            ]
          },
          "metadata": {
            "tags": []
          },
          "execution_count": 192
        }
      ]
    },
    {
      "cell_type": "code",
      "metadata": {
        "id": "gr67L3rzhCoz",
        "colab_type": "code",
        "colab": {
          "base_uri": "https://localhost:8080/",
          "height": 34
        },
        "outputId": "368d8b2f-8c99-433c-c907-47f5ad45f29f"
      },
      "source": [
        "#Under 75 Backers\n",
        "less_75_b = successful['backers'] < 75\n",
        "bk_75 = successful[less_75_b]\n",
        "len(bk_75.index)/len(successful.index)"
      ],
      "execution_count": 193,
      "outputs": [
        {
          "output_type": "execute_result",
          "data": {
            "text/plain": [
              "0.5175505389829497"
            ]
          },
          "metadata": {
            "tags": []
          },
          "execution_count": 193
        }
      ]
    },
    {
      "cell_type": "code",
      "metadata": {
        "id": "g9wCe0S0hNWC",
        "colab_type": "code",
        "colab": {
          "base_uri": "https://localhost:8080/",
          "height": 34
        },
        "outputId": "0eb304a3-1259-42e4-c5a4-5b918a798883"
      },
      "source": [
        "#Under 100 Backers\n",
        "less_100_b = successful['backers'] < 100\n",
        "bk_100 = successful[less_100_b]\n",
        "len(bk_100.index)/len(successful.index)"
      ],
      "execution_count": 194,
      "outputs": [
        {
          "output_type": "execute_result",
          "data": {
            "text/plain": [
              "0.6100286661291767"
            ]
          },
          "metadata": {
            "tags": []
          },
          "execution_count": 194
        }
      ]
    },
    {
      "cell_type": "code",
      "metadata": {
        "id": "kwll_m93ikKI",
        "colab_type": "code",
        "colab": {
          "base_uri": "https://localhost:8080/",
          "height": 34
        },
        "outputId": "1b9cc4f3-0389-49da-900b-b9c6483fb916"
      },
      "source": [
        "#Under 500\n",
        "less_500_b = successful['backers'] < 500\n",
        "bk_500 = successful[less_500_b]\n",
        "len(bk_500.index)/len(successful.index)"
      ],
      "execution_count": 195,
      "outputs": [
        {
          "output_type": "execute_result",
          "data": {
            "text/plain": [
              "0.9106199050434471"
            ]
          },
          "metadata": {
            "tags": []
          },
          "execution_count": 195
        }
      ]
    },
    {
      "cell_type": "markdown",
      "metadata": {
        "id": "PAi0fkSSfbmy",
        "colab_type": "text"
      },
      "source": [
        "## Backer Table"
      ]
    },
    {
      "cell_type": "code",
      "metadata": {
        "id": "SJ3m1EXMffZo",
        "colab_type": "code",
        "colab": {}
      },
      "source": [
        "back_data = {'Backers':['<10', '<25', '<50', '<75', '<100', '<500'],\n",
        "             'Success_Population':['4%', '18%', '38%', '52%', '61%', '91%']\n",
        "}\n",
        "\n",
        "backers = pd.DataFrame(back_data)"
      ],
      "execution_count": 196,
      "outputs": []
    },
    {
      "cell_type": "code",
      "metadata": {
        "id": "9U39xGfVgd-X",
        "colab_type": "code",
        "colab": {
          "base_uri": "https://localhost:8080/",
          "height": 517
        },
        "outputId": "d9de8b94-9ece-4acd-ed04-2696b2880d1b"
      },
      "source": [
        "fig = go.Figure(data=[go.Table(\n",
        "    header=dict(values=list(backers.columns),\n",
        "                fill_color='#3c6633',\n",
        "                align='center',\n",
        "                font=dict(color='white', size=12)),\n",
        "    cells=dict(values=[backers.Backers, backers.Success_Population],\n",
        "               fill_color='#a3ef28',\n",
        "               align='center'))\n",
        "])\n",
        "\n",
        "fig.update_layout(width=500, height=500)\n",
        "fig.show()"
      ],
      "execution_count": 197,
      "outputs": [
        {
          "output_type": "display_data",
          "data": {
            "text/html": [
              "<html>\n",
              "<head><meta charset=\"utf-8\" /></head>\n",
              "<body>\n",
              "    <div>\n",
              "            <script src=\"https://cdnjs.cloudflare.com/ajax/libs/mathjax/2.7.5/MathJax.js?config=TeX-AMS-MML_SVG\"></script><script type=\"text/javascript\">if (window.MathJax) {MathJax.Hub.Config({SVG: {font: \"STIX-Web\"}});}</script>\n",
              "                <script type=\"text/javascript\">window.PlotlyConfig = {MathJaxConfig: 'local'};</script>\n",
              "        <script src=\"https://cdn.plot.ly/plotly-latest.min.js\"></script>    \n",
              "            <div id=\"7d5f36de-1307-4e5c-9e01-b9ad88d3fbd5\" class=\"plotly-graph-div\" style=\"height:500px; width:500px;\"></div>\n",
              "            <script type=\"text/javascript\">\n",
              "                \n",
              "                    window.PLOTLYENV=window.PLOTLYENV || {};\n",
              "                    \n",
              "                if (document.getElementById(\"7d5f36de-1307-4e5c-9e01-b9ad88d3fbd5\")) {\n",
              "                    Plotly.newPlot(\n",
              "                        '7d5f36de-1307-4e5c-9e01-b9ad88d3fbd5',\n",
              "                        [{\"cells\": {\"align\": \"center\", \"fill\": {\"color\": \"#a3ef28\"}, \"values\": [[\"<10\", \"<25\", \"<50\", \"<75\", \"<100\", \"<500\"], [\"4%\", \"18%\", \"38%\", \"52%\", \"61%\", \"91%\"]]}, \"header\": {\"align\": \"center\", \"fill\": {\"color\": \"#3c6633\"}, \"font\": {\"color\": \"white\", \"size\": 12}, \"values\": [\"Backers\", \"Success_Population\"]}, \"type\": \"table\"}],\n",
              "                        {\"height\": 500, \"template\": {\"data\": {\"bar\": [{\"error_x\": {\"color\": \"#2a3f5f\"}, \"error_y\": {\"color\": \"#2a3f5f\"}, \"marker\": {\"line\": {\"color\": \"#E5ECF6\", \"width\": 0.5}}, \"type\": \"bar\"}], \"barpolar\": [{\"marker\": {\"line\": {\"color\": \"#E5ECF6\", \"width\": 0.5}}, \"type\": \"barpolar\"}], \"carpet\": [{\"aaxis\": {\"endlinecolor\": \"#2a3f5f\", \"gridcolor\": \"white\", \"linecolor\": \"white\", \"minorgridcolor\": \"white\", \"startlinecolor\": \"#2a3f5f\"}, \"baxis\": {\"endlinecolor\": \"#2a3f5f\", \"gridcolor\": \"white\", \"linecolor\": \"white\", \"minorgridcolor\": \"white\", \"startlinecolor\": \"#2a3f5f\"}, \"type\": \"carpet\"}], \"choropleth\": [{\"colorbar\": {\"outlinewidth\": 0, \"ticks\": \"\"}, \"type\": \"choropleth\"}], \"contour\": [{\"colorbar\": {\"outlinewidth\": 0, \"ticks\": \"\"}, \"colorscale\": [[0.0, \"#0d0887\"], [0.1111111111111111, \"#46039f\"], [0.2222222222222222, \"#7201a8\"], [0.3333333333333333, \"#9c179e\"], [0.4444444444444444, \"#bd3786\"], [0.5555555555555556, \"#d8576b\"], [0.6666666666666666, \"#ed7953\"], [0.7777777777777778, \"#fb9f3a\"], [0.8888888888888888, \"#fdca26\"], [1.0, \"#f0f921\"]], \"type\": \"contour\"}], \"contourcarpet\": [{\"colorbar\": {\"outlinewidth\": 0, \"ticks\": \"\"}, \"type\": \"contourcarpet\"}], \"heatmap\": [{\"colorbar\": {\"outlinewidth\": 0, \"ticks\": \"\"}, \"colorscale\": [[0.0, \"#0d0887\"], [0.1111111111111111, \"#46039f\"], [0.2222222222222222, \"#7201a8\"], [0.3333333333333333, \"#9c179e\"], [0.4444444444444444, \"#bd3786\"], [0.5555555555555556, \"#d8576b\"], [0.6666666666666666, \"#ed7953\"], [0.7777777777777778, \"#fb9f3a\"], [0.8888888888888888, \"#fdca26\"], [1.0, \"#f0f921\"]], \"type\": \"heatmap\"}], \"heatmapgl\": [{\"colorbar\": {\"outlinewidth\": 0, \"ticks\": \"\"}, \"colorscale\": [[0.0, \"#0d0887\"], [0.1111111111111111, \"#46039f\"], [0.2222222222222222, \"#7201a8\"], [0.3333333333333333, \"#9c179e\"], [0.4444444444444444, \"#bd3786\"], [0.5555555555555556, \"#d8576b\"], [0.6666666666666666, \"#ed7953\"], [0.7777777777777778, \"#fb9f3a\"], [0.8888888888888888, \"#fdca26\"], [1.0, \"#f0f921\"]], \"type\": \"heatmapgl\"}], \"histogram\": [{\"marker\": {\"colorbar\": {\"outlinewidth\": 0, \"ticks\": \"\"}}, \"type\": \"histogram\"}], \"histogram2d\": [{\"colorbar\": {\"outlinewidth\": 0, \"ticks\": \"\"}, \"colorscale\": [[0.0, \"#0d0887\"], [0.1111111111111111, \"#46039f\"], [0.2222222222222222, \"#7201a8\"], [0.3333333333333333, \"#9c179e\"], [0.4444444444444444, \"#bd3786\"], [0.5555555555555556, \"#d8576b\"], [0.6666666666666666, \"#ed7953\"], [0.7777777777777778, \"#fb9f3a\"], [0.8888888888888888, \"#fdca26\"], [1.0, \"#f0f921\"]], \"type\": \"histogram2d\"}], \"histogram2dcontour\": [{\"colorbar\": {\"outlinewidth\": 0, \"ticks\": \"\"}, \"colorscale\": [[0.0, \"#0d0887\"], [0.1111111111111111, \"#46039f\"], [0.2222222222222222, \"#7201a8\"], [0.3333333333333333, \"#9c179e\"], [0.4444444444444444, \"#bd3786\"], [0.5555555555555556, \"#d8576b\"], [0.6666666666666666, \"#ed7953\"], [0.7777777777777778, \"#fb9f3a\"], [0.8888888888888888, \"#fdca26\"], [1.0, \"#f0f921\"]], \"type\": \"histogram2dcontour\"}], \"mesh3d\": [{\"colorbar\": {\"outlinewidth\": 0, \"ticks\": \"\"}, \"type\": \"mesh3d\"}], \"parcoords\": [{\"line\": {\"colorbar\": {\"outlinewidth\": 0, \"ticks\": \"\"}}, \"type\": \"parcoords\"}], \"pie\": [{\"automargin\": true, \"type\": \"pie\"}], \"scatter\": [{\"marker\": {\"colorbar\": {\"outlinewidth\": 0, \"ticks\": \"\"}}, \"type\": \"scatter\"}], \"scatter3d\": [{\"line\": {\"colorbar\": {\"outlinewidth\": 0, \"ticks\": \"\"}}, \"marker\": {\"colorbar\": {\"outlinewidth\": 0, \"ticks\": \"\"}}, \"type\": \"scatter3d\"}], \"scattercarpet\": [{\"marker\": {\"colorbar\": {\"outlinewidth\": 0, \"ticks\": \"\"}}, \"type\": \"scattercarpet\"}], \"scattergeo\": [{\"marker\": {\"colorbar\": {\"outlinewidth\": 0, \"ticks\": \"\"}}, \"type\": \"scattergeo\"}], \"scattergl\": [{\"marker\": {\"colorbar\": {\"outlinewidth\": 0, \"ticks\": \"\"}}, \"type\": \"scattergl\"}], \"scattermapbox\": [{\"marker\": {\"colorbar\": {\"outlinewidth\": 0, \"ticks\": \"\"}}, \"type\": \"scattermapbox\"}], \"scatterpolar\": [{\"marker\": {\"colorbar\": {\"outlinewidth\": 0, \"ticks\": \"\"}}, \"type\": \"scatterpolar\"}], \"scatterpolargl\": [{\"marker\": {\"colorbar\": {\"outlinewidth\": 0, \"ticks\": \"\"}}, \"type\": \"scatterpolargl\"}], \"scatterternary\": [{\"marker\": {\"colorbar\": {\"outlinewidth\": 0, \"ticks\": \"\"}}, \"type\": \"scatterternary\"}], \"surface\": [{\"colorbar\": {\"outlinewidth\": 0, \"ticks\": \"\"}, \"colorscale\": [[0.0, \"#0d0887\"], [0.1111111111111111, \"#46039f\"], [0.2222222222222222, \"#7201a8\"], [0.3333333333333333, \"#9c179e\"], [0.4444444444444444, \"#bd3786\"], [0.5555555555555556, \"#d8576b\"], [0.6666666666666666, \"#ed7953\"], [0.7777777777777778, \"#fb9f3a\"], [0.8888888888888888, \"#fdca26\"], [1.0, \"#f0f921\"]], \"type\": \"surface\"}], \"table\": [{\"cells\": {\"fill\": {\"color\": \"#EBF0F8\"}, \"line\": {\"color\": \"white\"}}, \"header\": {\"fill\": {\"color\": \"#C8D4E3\"}, \"line\": {\"color\": \"white\"}}, \"type\": \"table\"}]}, \"layout\": {\"annotationdefaults\": {\"arrowcolor\": \"#2a3f5f\", \"arrowhead\": 0, \"arrowwidth\": 1}, \"coloraxis\": {\"colorbar\": {\"outlinewidth\": 0, \"ticks\": \"\"}}, \"colorscale\": {\"diverging\": [[0, \"#8e0152\"], [0.1, \"#c51b7d\"], [0.2, \"#de77ae\"], [0.3, \"#f1b6da\"], [0.4, \"#fde0ef\"], [0.5, \"#f7f7f7\"], [0.6, \"#e6f5d0\"], [0.7, \"#b8e186\"], [0.8, \"#7fbc41\"], [0.9, \"#4d9221\"], [1, \"#276419\"]], \"sequential\": [[0.0, \"#0d0887\"], [0.1111111111111111, \"#46039f\"], [0.2222222222222222, \"#7201a8\"], [0.3333333333333333, \"#9c179e\"], [0.4444444444444444, \"#bd3786\"], [0.5555555555555556, \"#d8576b\"], [0.6666666666666666, \"#ed7953\"], [0.7777777777777778, \"#fb9f3a\"], [0.8888888888888888, \"#fdca26\"], [1.0, \"#f0f921\"]], \"sequentialminus\": [[0.0, \"#0d0887\"], [0.1111111111111111, \"#46039f\"], [0.2222222222222222, \"#7201a8\"], [0.3333333333333333, \"#9c179e\"], [0.4444444444444444, \"#bd3786\"], [0.5555555555555556, \"#d8576b\"], [0.6666666666666666, \"#ed7953\"], [0.7777777777777778, \"#fb9f3a\"], [0.8888888888888888, \"#fdca26\"], [1.0, \"#f0f921\"]]}, \"colorway\": [\"#636efa\", \"#EF553B\", \"#00cc96\", \"#ab63fa\", \"#FFA15A\", \"#19d3f3\", \"#FF6692\", \"#B6E880\", \"#FF97FF\", \"#FECB52\"], \"font\": {\"color\": \"#2a3f5f\"}, \"geo\": {\"bgcolor\": \"white\", \"lakecolor\": \"white\", \"landcolor\": \"#E5ECF6\", \"showlakes\": true, \"showland\": true, \"subunitcolor\": \"white\"}, \"hoverlabel\": {\"align\": \"left\"}, \"hovermode\": \"closest\", \"mapbox\": {\"style\": \"light\"}, \"paper_bgcolor\": \"white\", \"plot_bgcolor\": \"#E5ECF6\", \"polar\": {\"angularaxis\": {\"gridcolor\": \"white\", \"linecolor\": \"white\", \"ticks\": \"\"}, \"bgcolor\": \"#E5ECF6\", \"radialaxis\": {\"gridcolor\": \"white\", \"linecolor\": \"white\", \"ticks\": \"\"}}, \"scene\": {\"xaxis\": {\"backgroundcolor\": \"#E5ECF6\", \"gridcolor\": \"white\", \"gridwidth\": 2, \"linecolor\": \"white\", \"showbackground\": true, \"ticks\": \"\", \"zerolinecolor\": \"white\"}, \"yaxis\": {\"backgroundcolor\": \"#E5ECF6\", \"gridcolor\": \"white\", \"gridwidth\": 2, \"linecolor\": \"white\", \"showbackground\": true, \"ticks\": \"\", \"zerolinecolor\": \"white\"}, \"zaxis\": {\"backgroundcolor\": \"#E5ECF6\", \"gridcolor\": \"white\", \"gridwidth\": 2, \"linecolor\": \"white\", \"showbackground\": true, \"ticks\": \"\", \"zerolinecolor\": \"white\"}}, \"shapedefaults\": {\"line\": {\"color\": \"#2a3f5f\"}}, \"ternary\": {\"aaxis\": {\"gridcolor\": \"white\", \"linecolor\": \"white\", \"ticks\": \"\"}, \"baxis\": {\"gridcolor\": \"white\", \"linecolor\": \"white\", \"ticks\": \"\"}, \"bgcolor\": \"#E5ECF6\", \"caxis\": {\"gridcolor\": \"white\", \"linecolor\": \"white\", \"ticks\": \"\"}}, \"title\": {\"x\": 0.05}, \"xaxis\": {\"automargin\": true, \"gridcolor\": \"white\", \"linecolor\": \"white\", \"ticks\": \"\", \"title\": {\"standoff\": 15}, \"zerolinecolor\": \"white\", \"zerolinewidth\": 2}, \"yaxis\": {\"automargin\": true, \"gridcolor\": \"white\", \"linecolor\": \"white\", \"ticks\": \"\", \"title\": {\"standoff\": 15}, \"zerolinecolor\": \"white\", \"zerolinewidth\": 2}}}, \"width\": 500},\n",
              "                        {\"responsive\": true}\n",
              "                    ).then(function(){\n",
              "                            \n",
              "var gd = document.getElementById('7d5f36de-1307-4e5c-9e01-b9ad88d3fbd5');\n",
              "var x = new MutationObserver(function (mutations, observer) {{\n",
              "        var display = window.getComputedStyle(gd).display;\n",
              "        if (!display || display === 'none') {{\n",
              "            console.log([gd, 'removed!']);\n",
              "            Plotly.purge(gd);\n",
              "            observer.disconnect();\n",
              "        }}\n",
              "}});\n",
              "\n",
              "// Listen for the removal of the full notebook cells\n",
              "var notebookContainer = gd.closest('#notebook-container');\n",
              "if (notebookContainer) {{\n",
              "    x.observe(notebookContainer, {childList: true});\n",
              "}}\n",
              "\n",
              "// Listen for the clearing of the current output cell\n",
              "var outputEl = gd.closest('.output');\n",
              "if (outputEl) {{\n",
              "    x.observe(outputEl, {childList: true});\n",
              "}}\n",
              "\n",
              "                        })\n",
              "                };\n",
              "                \n",
              "            </script>\n",
              "        </div>\n",
              "</body>\n",
              "</html>"
            ]
          },
          "metadata": {
            "tags": []
          }
        }
      ]
    }
  ]
}